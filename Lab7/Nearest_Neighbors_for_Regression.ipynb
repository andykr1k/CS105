{
 "cells": [
  {
   "cell_type": "markdown",
   "metadata": {
    "colab_type": "text",
    "id": "pdLP6qa3gdpn"
   },
   "source": [
    "# K-Nearest Neighbors for Regression\n",
    "\n",
    "Linear regression is not the only machine learning model that Ashenfelter could have fit."
   ]
  },
  {
   "cell_type": "code",
   "execution_count": 98,
   "metadata": {
    "colab": {},
    "colab_type": "code",
    "id": "jwOMv33Jgdpp"
   },
   "outputs": [
    {
     "data": {
      "text/html": [
       "<div>\n",
       "<style scoped>\n",
       "    .dataframe tbody tr th:only-of-type {\n",
       "        vertical-align: middle;\n",
       "    }\n",
       "\n",
       "    .dataframe tbody tr th {\n",
       "        vertical-align: top;\n",
       "    }\n",
       "\n",
       "    .dataframe thead th {\n",
       "        text-align: right;\n",
       "    }\n",
       "</style>\n",
       "<table border=\"1\" class=\"dataframe\">\n",
       "  <thead>\n",
       "    <tr style=\"text-align: right;\">\n",
       "      <th></th>\n",
       "      <th>price</th>\n",
       "      <th>summer</th>\n",
       "      <th>har</th>\n",
       "      <th>sep</th>\n",
       "      <th>win</th>\n",
       "      <th>age</th>\n",
       "      <th>log(price)</th>\n",
       "    </tr>\n",
       "    <tr>\n",
       "      <th>year</th>\n",
       "      <th></th>\n",
       "      <th></th>\n",
       "      <th></th>\n",
       "      <th></th>\n",
       "      <th></th>\n",
       "      <th></th>\n",
       "      <th></th>\n",
       "    </tr>\n",
       "  </thead>\n",
       "  <tbody>\n",
       "    <tr>\n",
       "      <th>1952</th>\n",
       "      <td>37.0</td>\n",
       "      <td>17.1</td>\n",
       "      <td>160</td>\n",
       "      <td>14.3</td>\n",
       "      <td>600</td>\n",
       "      <td>40</td>\n",
       "      <td>3.610918</td>\n",
       "    </tr>\n",
       "    <tr>\n",
       "      <th>1953</th>\n",
       "      <td>63.0</td>\n",
       "      <td>16.7</td>\n",
       "      <td>80</td>\n",
       "      <td>17.3</td>\n",
       "      <td>690</td>\n",
       "      <td>39</td>\n",
       "      <td>4.143135</td>\n",
       "    </tr>\n",
       "    <tr>\n",
       "      <th>1955</th>\n",
       "      <td>45.0</td>\n",
       "      <td>17.1</td>\n",
       "      <td>130</td>\n",
       "      <td>16.8</td>\n",
       "      <td>502</td>\n",
       "      <td>37</td>\n",
       "      <td>3.806662</td>\n",
       "    </tr>\n",
       "    <tr>\n",
       "      <th>1957</th>\n",
       "      <td>22.0</td>\n",
       "      <td>16.1</td>\n",
       "      <td>110</td>\n",
       "      <td>16.2</td>\n",
       "      <td>420</td>\n",
       "      <td>35</td>\n",
       "      <td>3.091042</td>\n",
       "    </tr>\n",
       "    <tr>\n",
       "      <th>1958</th>\n",
       "      <td>18.0</td>\n",
       "      <td>16.4</td>\n",
       "      <td>187</td>\n",
       "      <td>19.1</td>\n",
       "      <td>582</td>\n",
       "      <td>34</td>\n",
       "      <td>2.890372</td>\n",
       "    </tr>\n",
       "  </tbody>\n",
       "</table>\n",
       "</div>"
      ],
      "text/plain": [
       "      price  summer  har   sep  win  age  log(price)\n",
       "year                                                \n",
       "1952   37.0    17.1  160  14.3  600   40    3.610918\n",
       "1953   63.0    16.7   80  17.3  690   39    4.143135\n",
       "1955   45.0    17.1  130  16.8  502   37    3.806662\n",
       "1957   22.0    16.1  110  16.2  420   35    3.091042\n",
       "1958   18.0    16.4  187  19.1  582   34    2.890372"
      ]
     },
     "execution_count": 98,
     "metadata": {},
     "output_type": "execute_result"
    }
   ],
   "source": [
    "import pandas as pd\n",
    "import numpy as np\n",
    "\n",
    "\n",
    "bordeaux_df = pd.read_csv(\"bordeaux.csv\",\n",
    "                          index_col=\"year\")\n",
    "\n",
    "# Split the data into training and test sets.\n",
    "bordeaux_train = bordeaux_df.loc[:1980].copy()\n",
    "bordeaux_test = bordeaux_df.loc[1981:].copy()\n",
    "\n",
    "# Log transform the target.\n",
    "bordeaux_train[\"log(price)\"] = np.log(bordeaux_train[\"price\"])\n",
    "bordeaux_train.head()"
   ]
  },
  {
   "cell_type": "markdown",
   "metadata": {
    "colab_type": "text",
    "id": "obIRRRtTgdpu"
   },
   "source": [
    "Let's focus on just two features for now: winter rainfall (**win**) and average summer temperature (**summer**). Let's plot the training data, using a color gradient to represent the target (**log(price)**). Notice how we can customize the color gradient using the `cmap=` argument. A list of the available colormaps can be found [here](https://matplotlib.org/examples/color/colormaps_reference.html)."
   ]
  },
  {
   "cell_type": "code",
   "execution_count": 99,
   "metadata": {
    "colab": {},
    "colab_type": "code",
    "id": "2LpV-ttBgdpw"
   },
   "outputs": [
    {
     "data": {
      "text/plain": [
       "<AxesSubplot:xlabel='win', ylabel='summer'>"
      ]
     },
     "execution_count": 99,
     "metadata": {},
     "output_type": "execute_result"
    },
    {
     "data": {
      "image/png": "[encoded data removed]",
      "text/plain": [
       "<Figure size 640x480 with 2 Axes>"
      ]
     },
     "metadata": {},
     "output_type": "display_data"
    }
   ],
   "source": [
    "import matplotlib.cm as cm\n",
    "\n",
    "bordeaux_train.plot.scatter(x=\"win\", y=\"summer\", c=\"log(price)\", \n",
    "                            cmap=cm.YlOrRd)"
   ]
  },
  {
   "cell_type": "markdown",
   "metadata": {
    "colab_type": "text",
    "id": "Rr_2sHvrgdpz"
   },
   "source": [
    "Notice how wines that are close on this scatterplot are of similar quality. This insight is the basis of the $k$-nearest neighbors algorithm for predicting wine quality. Suppose that we want to predict the quality of the 1986 vintage, represented by a blue star in the plot below. \n",
    "\n",
    "![](regression_neighbors.png)\n",
    "\n",
    "The $k=5$ points that are closest to this point in feature space are indicated by dotted lines. We can average the qualities of thse wines to obtain our prediction. All 5 of these points have a quality less than 3.0, so the 1986 vintage is also predicted to be of low quality.\n",
    "\n",
    "The $k$-nearest neighbors regression algorithm can be summarized as follows:\n",
    "\n",
    "1. Determine the $k$ closest points in the training data to the new point that you want to predict for, based on some distance metric on the features.\n",
    "2. The predicted label of the new point is the mean (or median) of the labels of the $k$ closest points.\n",
    "\n",
    "Let's implement this in code. First, we extract the training data and scale the features:"
   ]
  },
  {
   "cell_type": "code",
   "execution_count": 100,
   "metadata": {
    "colab": {},
    "colab_type": "code",
    "id": "1LMYQFf7gdp0"
   },
   "outputs": [],
   "source": [
    "X_train = bordeaux_train[[\"win\", \"summer\"]]\n",
    "y_train = bordeaux_train[\"log(price)\"]\n",
    "\n",
    "# Standardize the features.\n",
    "X_train_mean = X_train.mean()\n",
    "X_train_sd = X_train.std()\n",
    "X_train_st = (X_train - X_train_mean) / X_train_sd"
   ]
  },
  {
   "cell_type": "markdown",
   "metadata": {
    "colab_type": "text",
    "id": "yp1jBJqNgdp4"
   },
   "source": [
    "Now, we get the features for the new observation (i.e., the 1986 vintage), standardizing it in the same way."
   ]
  },
  {
   "cell_type": "code",
   "execution_count": 101,
   "metadata": {
    "colab": {},
    "colab_type": "code",
    "id": "Kt0eaZ3Cgdp6"
   },
   "outputs": [
    {
     "data": {
      "text/plain": [
       "win      -0.351900\n",
       "summer   -0.261262\n",
       "dtype: float64"
      ]
     },
     "execution_count": 101,
     "metadata": {},
     "output_type": "execute_result"
    }
   ],
   "source": [
    "x_new = bordeaux_test.loc[1986, [\"win\", \"summer\"]]\n",
    "\n",
    "x_new_st = (x_new - X_train_mean) / X_train_sd\n",
    "x_new_st"
   ]
  },
  {
   "cell_type": "markdown",
   "metadata": {
    "colab_type": "text",
    "id": "MRheuLl-gdp-"
   },
   "source": [
    "Now we calculate the (Euclidean) distances between the 1986 vintage and the vintages in the training data."
   ]
  },
  {
   "cell_type": "code",
   "execution_count": 102,
   "metadata": {
    "colab": {},
    "colab_type": "code",
    "id": "OJK7pzwmgdp_"
   },
   "outputs": [
    {
     "data": {
      "text/plain": [
       "year\n",
       "1952    1.259860\n",
       "1953    1.159726\n",
       "1955    1.314727\n",
       "1957    1.149883\n",
       "1958    0.212597\n",
       "1959    1.936933\n",
       "1960    1.557535\n",
       "1961    2.575503\n",
       "1962    1.038478\n",
       "1963    0.983970\n",
       "1964    1.976971\n",
       "1965    1.412851\n",
       "1966    2.007525\n",
       "1967    1.180230\n",
       "1968    0.395207\n",
       "1969    0.320488\n",
       "1970    0.765065\n",
       "1971    0.772366\n",
       "1972    2.004492\n",
       "1973    1.898753\n",
       "1974    0.085248\n",
       "1975    0.922736\n",
       "1976    2.288442\n",
       "1977    2.269387\n",
       "1978    1.729248\n",
       "1979    1.203287\n",
       "1980    0.474508\n",
       "dtype: float64"
      ]
     },
     "execution_count": 102,
     "metadata": {},
     "output_type": "execute_result"
    }
   ],
   "source": [
    "dists = np.sqrt(((X_train_st - x_new_st) ** 2).sum(axis=1))\n",
    "dists"
   ]
  },
  {
   "cell_type": "markdown",
   "metadata": {
    "colab_type": "text",
    "id": "AOn2bnnZgdqC"
   },
   "source": [
    "Now, we sort the distances. The first 5 of these are the nearest neighbors. To get the year of these nearest neighbors, we get the index."
   ]
  },
  {
   "cell_type": "code",
   "execution_count": 103,
   "metadata": {
    "colab": {},
    "colab_type": "code",
    "id": "FHCsio0NgdqE"
   },
   "outputs": [
    {
     "data": {
      "text/plain": [
       "Int64Index([1974, 1958, 1969, 1968, 1980], dtype='int64', name='year')"
      ]
     },
     "execution_count": 103,
     "metadata": {},
     "output_type": "execute_result"
    }
   ],
   "source": [
    "i_nearest = dists.sort_values().index[:5]\n",
    "i_nearest"
   ]
  },
  {
   "cell_type": "markdown",
   "metadata": {
    "colab_type": "text",
    "id": "cvLMrn-hgdqG"
   },
   "source": [
    "We can look up these years in the training data."
   ]
  },
  {
   "cell_type": "code",
   "execution_count": 104,
   "metadata": {
    "colab": {},
    "colab_type": "code",
    "id": "x2GRYEEsgdqH"
   },
   "outputs": [
    {
     "data": {
      "text/html": [
       "<div>\n",
       "<style scoped>\n",
       "    .dataframe tbody tr th:only-of-type {\n",
       "        vertical-align: middle;\n",
       "    }\n",
       "\n",
       "    .dataframe tbody tr th {\n",
       "        vertical-align: top;\n",
       "    }\n",
       "\n",
       "    .dataframe thead th {\n",
       "        text-align: right;\n",
       "    }\n",
       "</style>\n",
       "<table border=\"1\" class=\"dataframe\">\n",
       "  <thead>\n",
       "    <tr style=\"text-align: right;\">\n",
       "      <th></th>\n",
       "      <th>price</th>\n",
       "      <th>summer</th>\n",
       "      <th>har</th>\n",
       "      <th>sep</th>\n",
       "      <th>win</th>\n",
       "      <th>age</th>\n",
       "      <th>log(price)</th>\n",
       "    </tr>\n",
       "    <tr>\n",
       "      <th>year</th>\n",
       "      <th></th>\n",
       "      <th></th>\n",
       "      <th></th>\n",
       "      <th></th>\n",
       "      <th></th>\n",
       "      <th></th>\n",
       "      <th></th>\n",
       "    </tr>\n",
       "  </thead>\n",
       "  <tbody>\n",
       "    <tr>\n",
       "      <th>1974</th>\n",
       "      <td>11.0</td>\n",
       "      <td>16.3</td>\n",
       "      <td>184</td>\n",
       "      <td>16.2</td>\n",
       "      <td>574</td>\n",
       "      <td>18</td>\n",
       "      <td>2.397895</td>\n",
       "    </tr>\n",
       "    <tr>\n",
       "      <th>1958</th>\n",
       "      <td>18.0</td>\n",
       "      <td>16.4</td>\n",
       "      <td>187</td>\n",
       "      <td>19.1</td>\n",
       "      <td>582</td>\n",
       "      <td>34</td>\n",
       "      <td>2.890372</td>\n",
       "    </tr>\n",
       "    <tr>\n",
       "      <th>1969</th>\n",
       "      <td>12.0</td>\n",
       "      <td>16.5</td>\n",
       "      <td>244</td>\n",
       "      <td>16.6</td>\n",
       "      <td>575</td>\n",
       "      <td>23</td>\n",
       "      <td>2.484907</td>\n",
       "    </tr>\n",
       "    <tr>\n",
       "      <th>1968</th>\n",
       "      <td>11.0</td>\n",
       "      <td>16.2</td>\n",
       "      <td>292</td>\n",
       "      <td>16.4</td>\n",
       "      <td>610</td>\n",
       "      <td>24</td>\n",
       "      <td>2.397895</td>\n",
       "    </tr>\n",
       "    <tr>\n",
       "      <th>1980</th>\n",
       "      <td>14.0</td>\n",
       "      <td>16.0</td>\n",
       "      <td>74</td>\n",
       "      <td>18.4</td>\n",
       "      <td>578</td>\n",
       "      <td>12</td>\n",
       "      <td>2.639057</td>\n",
       "    </tr>\n",
       "  </tbody>\n",
       "</table>\n",
       "</div>"
      ],
      "text/plain": [
       "      price  summer  har   sep  win  age  log(price)\n",
       "year                                                \n",
       "1974   11.0    16.3  184  16.2  574   18    2.397895\n",
       "1958   18.0    16.4  187  19.1  582   34    2.890372\n",
       "1969   12.0    16.5  244  16.6  575   23    2.484907\n",
       "1968   11.0    16.2  292  16.4  610   24    2.397895\n",
       "1980   14.0    16.0   74  18.4  578   12    2.639057"
      ]
     },
     "execution_count": 104,
     "metadata": {},
     "output_type": "execute_result"
    }
   ],
   "source": [
    "bordeaux_train.loc[i_nearest]"
   ]
  },
  {
   "cell_type": "markdown",
   "metadata": {
    "colab_type": "text",
    "id": "xzpFu5_GgdqK"
   },
   "source": [
    "To make a prediction for the price of the 1986 vintage, we average the sale prices of these 5-nearest neighbors."
   ]
  },
  {
   "cell_type": "code",
   "execution_count": 105,
   "metadata": {
    "colab": {},
    "colab_type": "code",
    "id": "TfnayFCmgdqM"
   },
   "outputs": [
    {
     "data": {
      "text/plain": [
       "2.562025256579233"
      ]
     },
     "execution_count": 105,
     "metadata": {},
     "output_type": "execute_result"
    }
   ],
   "source": [
    "y_train.loc[i_nearest].mean()"
   ]
  },
  {
   "cell_type": "markdown",
   "metadata": {
    "colab_type": "text",
    "id": "e2dNakSEgdqP"
   },
   "source": [
    "So the model predicts that the quality of the 1986 is about 2.56, which is well below the average quality.\n",
    "\n",
    "Of course, the model above only had two features so it was easy to visualize the \"nearest neighbors\" on the scatterplot. The magic of $k$-nearest neighbors is that it still works when there are more features and the data is not possible to visualize."
   ]
  },
  {
   "cell_type": "markdown",
   "metadata": {
    "colab_type": "text",
    "id": "pDVZHOz8gdqQ"
   },
   "source": [
    "## K-Nearest Neighbors in scikit-learn\n",
    "\n",
    "Now let's see how to implement $k$-nearest neighbors in scikit-learn. Recall from the previous lesson that all scikit-learn models follow the three-step pattern:\n",
    "\n",
    "1. Declare the model.\n",
    "2. Fit the model to training data.\n",
    "3. Use the model to predict on test data.\n",
    "\n",
    "To fit a $k$-nearest neighbors model instead of a linear regression model, we only need to modify the first step. Instead of declaring a model of type `LinearRegression`, we define a model of type `KNeighborsRegressor`, specifying the value of $k$ as one of the parameters. Because `KNeighborsRegressor` works with distances, it is a good idea to scale the features before passing the features into the model. (Refer back to Chapter 3 for a full explanation.)"
   ]
  },
  {
   "cell_type": "code",
   "execution_count": 106,
   "metadata": {
    "colab": {},
    "colab_type": "code",
    "id": "-Z8RozqFgdqQ"
   },
   "outputs": [
    {
     "data": {
      "text/plain": [
       "array([2.56202526])"
      ]
     },
     "execution_count": 106,
     "metadata": {},
     "output_type": "execute_result"
    }
   ],
   "source": [
    "from sklearn.preprocessing import StandardScaler\n",
    "from sklearn.neighbors import KNeighborsRegressor\n",
    "\n",
    "# Standardize the training and test data\n",
    "scaler = StandardScaler()\n",
    "X_train_st = scaler.fit_transform(X_train)\n",
    "X_new_st = scaler.transform(pd.DataFrame([x_new])) # needs to be a DataFrame\n",
    "y_train = bordeaux_train[\"log(price)\"]\n",
    "\n",
    "# Fit k-nearest neighbors\n",
    "model = KNeighborsRegressor(n_neighbors=5)\n",
    "model.fit(X=X_train_st, y=y_train)\n",
    "model.predict(X=X_new_st)"
   ]
  },
  {
   "cell_type": "markdown",
   "metadata": {
    "colab_type": "text",
    "id": "otJtjyw1gdqT"
   },
   "source": [
    "This is the same predicted value that we got by implementing $k$-nearest neighbors manually."
   ]
  },
  {
   "cell_type": "markdown",
   "metadata": {
    "colab_type": "text",
    "id": "VNrdiBTaggrM"
   },
   "source": [
    "In the code above, we had to be careful to standardize the training data and the test data in exactly the same way before fitting the $k$-nearest neighbors model. Most machine learning models have many more preprocessing steps. As the preprocessing gets more complex, it is easy to accidentally omit one of the preprocessing steps. For this reason, scikit-learn provides a _Pipeline_ object, which simply chains together a sequence of preprocessing and model building steps. If we call `Pipeline.fit()` or `Pipeline.predict()` on the data, all of the steps will be applied to the data in a consistent manner."
   ]
  },
  {
   "cell_type": "code",
   "execution_count": 107,
   "metadata": {
    "colab": {},
    "colab_type": "code",
    "id": "ZSFA_1MFggjH"
   },
   "outputs": [
    {
     "data": {
      "text/plain": [
       "array([2.56202526])"
      ]
     },
     "execution_count": 107,
     "metadata": {},
     "output_type": "execute_result"
    }
   ],
   "source": [
    "from sklearn.pipeline import make_pipeline\n",
    "\n",
    "pipeline = make_pipeline(\n",
    "          StandardScaler(),\n",
    "          KNeighborsRegressor(n_neighbors=5)\n",
    ")\n",
    "\n",
    "pipeline.fit(X=X_train, y=y_train)\n",
    "pipeline.predict(X=pd.DataFrame([x_new]))"
   ]
  },
  {
   "cell_type": "markdown",
   "metadata": {
    "colab_type": "text",
    "id": "aAUqRnbagdqU"
   },
   "source": [
    "## The K-Nearest Neighbors Regression Function\n",
    "\n",
    "A predictive model is simply a function $f$ that maps feature values ${\\bf x}$ to target values $y$. We can visualize $f$ when ${\\bf x}$ consists of just a single feature, such as **age**. In the previous lesson, we saw that $f$ is just a line when the model is linear regression. What does $f$ look like when the model is a $k$-nearest neighbors regressor?\n",
    "\n",
    "First, we extract the training data. There is no need to scale the features in this case because there is only one feature. (The point of scaling is to bring all of the variables to the same scale."
   ]
  },
  {
   "cell_type": "code",
   "execution_count": 108,
   "metadata": {
    "colab": {},
    "colab_type": "code",
    "id": "oLegUnjjgdqV"
   },
   "outputs": [],
   "source": [
    "X_train = bordeaux_train[[\"age\"]]\n",
    "y_train = bordeaux_train[\"log(price)\"]"
   ]
  },
  {
   "cell_type": "markdown",
   "metadata": {
    "colab_type": "text",
    "id": "seSY9rIhgdqY"
   },
   "source": [
    "Now we fit the $k$-nearest neighbor model as before. We do not need to standardize the feature in this case because there is only one feature. Standardizing is only useful when there are multiple features that we want to bring to the same scale."
   ]
  },
  {
   "cell_type": "code",
   "execution_count": 109,
   "metadata": {
    "colab": {},
    "colab_type": "code",
    "id": "CA7yrXhKgdqZ"
   },
   "outputs": [
    {
     "data": {
      "text/html": [
       "<style>#sk-container-id-6 {color: black;background-color: white;}#sk-container-id-6 pre{padding: 0;}#sk-container-id-6 div.sk-toggleable {background-color: white;}#sk-container-id-6 label.sk-toggleable__label {cursor: pointer;display: block;width: 100%;margin-bottom: 0;padding: 0.3em;box-sizing: border-box;text-align: center;}#sk-container-id-6 label.sk-toggleable__label-arrow:before {content: \"▸\";float: left;margin-right: 0.25em;color: #696969;}#sk-container-id-6 label.sk-toggleable__label-arrow:hover:before {color: black;}#sk-container-id-6 div.sk-estimator:hover label.sk-toggleable__label-arrow:before {color: black;}#sk-container-id-6 div.sk-toggleable__content {max-height: 0;max-width: 0;overflow: hidden;text-align: left;background-color: #f0f8ff;}#sk-container-id-6 div.sk-toggleable__content pre {margin: 0.2em;color: black;border-radius: 0.25em;background-color: #f0f8ff;}#sk-container-id-6 input.sk-toggleable__control:checked~div.sk-toggleable__content {max-height: 200px;max-width: 100%;overflow: auto;}#sk-container-id-6 input.sk-toggleable__control:checked~label.sk-toggleable__label-arrow:before {content: \"▾\";}#sk-container-id-6 div.sk-estimator input.sk-toggleable__control:checked~label.sk-toggleable__label {background-color: #d4ebff;}#sk-container-id-6 div.sk-label input.sk-toggleable__control:checked~label.sk-toggleable__label {background-color: #d4ebff;}#sk-container-id-6 input.sk-hidden--visually {border: 0;clip: rect(1px 1px 1px 1px);clip: rect(1px, 1px, 1px, 1px);height: 1px;margin: -1px;overflow: hidden;padding: 0;position: absolute;width: 1px;}#sk-container-id-6 div.sk-estimator {font-family: monospace;background-color: #f0f8ff;border: 1px dotted black;border-radius: 0.25em;box-sizing: border-box;margin-bottom: 0.5em;}#sk-container-id-6 div.sk-estimator:hover {background-color: #d4ebff;}#sk-container-id-6 div.sk-parallel-item::after {content: \"\";width: 100%;border-bottom: 1px solid gray;flex-grow: 1;}#sk-container-id-6 div.sk-label:hover label.sk-toggleable__label {background-color: #d4ebff;}#sk-container-id-6 div.sk-serial::before {content: \"\";position: absolute;border-left: 1px solid gray;box-sizing: border-box;top: 0;bottom: 0;left: 50%;z-index: 0;}#sk-container-id-6 div.sk-serial {display: flex;flex-direction: column;align-items: center;background-color: white;padding-right: 0.2em;padding-left: 0.2em;position: relative;}#sk-container-id-6 div.sk-item {position: relative;z-index: 1;}#sk-container-id-6 div.sk-parallel {display: flex;align-items: stretch;justify-content: center;background-color: white;position: relative;}#sk-container-id-6 div.sk-item::before, #sk-container-id-6 div.sk-parallel-item::before {content: \"\";position: absolute;border-left: 1px solid gray;box-sizing: border-box;top: 0;bottom: 0;left: 50%;z-index: -1;}#sk-container-id-6 div.sk-parallel-item {display: flex;flex-direction: column;z-index: 1;position: relative;background-color: white;}#sk-container-id-6 div.sk-parallel-item:first-child::after {align-self: flex-end;width: 50%;}#sk-container-id-6 div.sk-parallel-item:last-child::after {align-self: flex-start;width: 50%;}#sk-container-id-6 div.sk-parallel-item:only-child::after {width: 0;}#sk-container-id-6 div.sk-dashed-wrapped {border: 1px dashed gray;margin: 0 0.4em 0.5em 0.4em;box-sizing: border-box;padding-bottom: 0.4em;background-color: white;}#sk-container-id-6 div.sk-label label {font-family: monospace;font-weight: bold;display: inline-block;line-height: 1.2em;}#sk-container-id-6 div.sk-label-container {text-align: center;}#sk-container-id-6 div.sk-container {/* jupyter's `normalize.less` sets `[hidden] { display: none; }` but bootstrap.min.css set `[hidden] { display: none !important; }` so we also need the `!important` here to be able to override the default hidden behavior on the sphinx rendered scikit-learn.org. See: https://github.com/scikit-learn/scikit-learn/issues/21755 */display: inline-block !important;position: relative;}#sk-container-id-6 div.sk-text-repr-fallback {display: none;}</style><div id=\"sk-container-id-6\" class=\"sk-top-container\"><div class=\"sk-text-repr-fallback\"><pre>KNeighborsRegressor()</pre><b>In a Jupyter environment, please rerun this cell to show the HTML representation or trust the notebook. <br />On GitHub, the HTML representation is unable to render, please try loading this page with nbviewer.org.</b></div><div class=\"sk-container\" hidden><div class=\"sk-item\"><div class=\"sk-estimator sk-toggleable\"><input class=\"sk-toggleable__control sk-hidden--visually\" id=\"sk-estimator-id-6\" type=\"checkbox\" checked><label for=\"sk-estimator-id-6\" class=\"sk-toggleable__label sk-toggleable__label-arrow\">KNeighborsRegressor</label><div class=\"sk-toggleable__content\"><pre>KNeighborsRegressor()</pre></div></div></div></div></div>"
      ],
      "text/plain": [
       "KNeighborsRegressor()"
      ]
     },
     "execution_count": 109,
     "metadata": {},
     "output_type": "execute_result"
    }
   ],
   "source": [
    "# Fit k-nearest neighbors\n",
    "model = KNeighborsRegressor(n_neighbors=5)\n",
    "model.fit(X=X_train, y=y_train)"
   ]
  },
  {
   "cell_type": "markdown",
   "metadata": {
    "colab_type": "text",
    "id": "Tt8S3Mvpgdqe"
   },
   "source": [
    "In order to graph $f$, we need to evaluate the predictive model at a grid of feature values. Since age ranges from 12 to 40 in the training data, we create a grid of ${\\bf x}$ values from 10 to 45, make predictions at these values, and plot these predictions as a curve."
   ]
  },
  {
   "cell_type": "code",
   "execution_count": 110,
   "metadata": {
    "colab": {},
    "colab_type": "code",
    "id": "odZD51z6gdqf"
   },
   "outputs": [
    {
     "data": {
      "text/plain": [
       "<AxesSubplot:xlabel='age', ylabel='log(price)'>"
      ]
     },
     "execution_count": 110,
     "metadata": {},
     "output_type": "execute_result"
    },
    {
     "data": {
      "image/png": "[encoded data removed]",
      "text/plain": [
       "<Figure size 640x480 with 1 Axes>"
      ]
     },
     "metadata": {},
     "output_type": "display_data"
    }
   ],
   "source": [
    "# Define a grid of feature values.\n",
    "X_new = pd.DataFrame()\n",
    "X_new[\"age\"] = np.linspace(10, 45, num=200)\n",
    "\n",
    "# Make predictions at those feature values.\n",
    "y_new_ = pd.Series(\n",
    "    model.predict(X_new),\n",
    "    index=X_new[\"age\"]\n",
    ")\n",
    "\n",
    "# Plot the predictions.\n",
    "bordeaux_train.plot.scatter(x=\"age\", y=\"log(price)\")\n",
    "y_new_.plot.line()"
   ]
  },
  {
   "cell_type": "markdown",
   "metadata": {
    "colab_type": "text",
    "id": "hMkIpaWSgdqi"
   },
   "source": [
    "Unlike the linear regression model, the $k$-nearest neighbor model is piecewise constant. For example, wines more than 37 years old all have the same 5-nearest neighbors, so the prediction is constant in that range."
   ]
  },
  {
   "cell_type": "markdown",
   "metadata": {
    "colab_type": "text",
    "id": "pY5hYuQQgdqj"
   },
   "source": [
    "# Exercises"
   ]
  },
  {
   "cell_type": "markdown",
   "metadata": {
    "colab_type": "text",
    "id": "4Ac0WvSvgdqk"
   },
   "source": [
    "1\\. Plot the $k$-nearest neighbors regression function for predicting the quality of a wine from its age for $k=1, 5, 10, 20$. How does the regression function change as $k$ increases?"
   ]
  },
  {
   "cell_type": "code",
   "execution_count": 115,
   "metadata": {},
   "outputs": [
    {
     "data": {
      "text/plain": [
       "<AxesSubplot:xlabel='age', ylabel='log(price)'>"
      ]
     },
     "execution_count": 115,
     "metadata": {},
     "output_type": "execute_result"
    },
    {
     "data": {
      "image/png": "[encoded data removed]",
      "text/plain": [
       "<Figure size 640x480 with 1 Axes>"
      ]
     },
     "metadata": {},
     "output_type": "display_data"
    }
   ],
   "source": [
    "X_train = bordeaux_train[[\"age\"]]\n",
    "y_train = bordeaux_train[\"log(price)\"]\n",
    "\n",
    "# Fit k-nearest neighbors\n",
    "model = KNeighborsRegressor(n_neighbors=1)\n",
    "model.fit(X=X_train, y=y_train)\n",
    "\n",
    "# Define a grid of feature values.\n",
    "X_new = pd.DataFrame()\n",
    "X_new[\"age\"] = np.linspace(10, 45, num=200)\n",
    "\n",
    "# Make predictions at those feature values.\n",
    "y_new_ = pd.Series(\n",
    "    model.predict(X_new),\n",
    "    index=X_new[\"age\"]\n",
    ")\n",
    "\n",
    "# Plot the predictions.\n",
    "bordeaux_train.plot.scatter(x=\"age\", y=\"log(price)\")\n",
    "y_new_.plot.line()"
   ]
  },
  {
   "cell_type": "code",
   "execution_count": 114,
   "metadata": {},
   "outputs": [
    {
     "data": {
      "text/plain": [
       "<AxesSubplot:xlabel='age', ylabel='log(price)'>"
      ]
     },
     "execution_count": 114,
     "metadata": {},
     "output_type": "execute_result"
    },
    {
     "data": {
      "image/png": "[encoded data removed]",
      "text/plain": [
       "<Figure size 640x480 with 1 Axes>"
      ]
     },
     "metadata": {},
     "output_type": "display_data"
    }
   ],
   "source": [
    "X_train = bordeaux_train[[\"age\"]]\n",
    "y_train = bordeaux_train[\"log(price)\"]\n",
    "\n",
    "# Fit k-nearest neighbors\n",
    "model = KNeighborsRegressor(n_neighbors=5)\n",
    "model.fit(X=X_train, y=y_train)\n",
    "\n",
    "# Define a grid of feature values.\n",
    "X_new = pd.DataFrame()\n",
    "X_new[\"age\"] = np.linspace(10, 45, num=200)\n",
    "\n",
    "# Make predictions at those feature values.\n",
    "y_new_ = pd.Series(\n",
    "    model.predict(X_new),\n",
    "    index=X_new[\"age\"]\n",
    ")\n",
    "\n",
    "# Plot the predictions.\n",
    "bordeaux_train.plot.scatter(x=\"age\", y=\"log(price)\")\n",
    "y_new_.plot.line()"
   ]
  },
  {
   "cell_type": "code",
   "execution_count": 116,
   "metadata": {},
   "outputs": [
    {
     "data": {
      "text/plain": [
       "<AxesSubplot:xlabel='age', ylabel='log(price)'>"
      ]
     },
     "execution_count": 116,
     "metadata": {},
     "output_type": "execute_result"
    },
    {
     "data": {
      "image/png": "[encoded data removed]",
      "text/plain": [
       "<Figure size 640x480 with 1 Axes>"
      ]
     },
     "metadata": {},
     "output_type": "display_data"
    }
   ],
   "source": [
    "X_train = bordeaux_train[[\"age\"]]\n",
    "y_train = bordeaux_train[\"log(price)\"]\n",
    "\n",
    "# Fit k-nearest neighbors\n",
    "model = KNeighborsRegressor(n_neighbors=10)\n",
    "model.fit(X=X_train, y=y_train)\n",
    "\n",
    "# Define a grid of feature values.\n",
    "X_new = pd.DataFrame()\n",
    "X_new[\"age\"] = np.linspace(10, 45, num=200)\n",
    "\n",
    "# Make predictions at those feature values.\n",
    "y_new_ = pd.Series(\n",
    "    model.predict(X_new),\n",
    "    index=X_new[\"age\"]\n",
    ")\n",
    "\n",
    "# Plot the predictions.\n",
    "bordeaux_train.plot.scatter(x=\"age\", y=\"log(price)\")\n",
    "y_new_.plot.line()"
   ]
  },
  {
   "cell_type": "code",
   "execution_count": 117,
   "metadata": {},
   "outputs": [
    {
     "data": {
      "text/plain": [
       "<AxesSubplot:xlabel='age', ylabel='log(price)'>"
      ]
     },
     "execution_count": 117,
     "metadata": {},
     "output_type": "execute_result"
    },
    {
     "data": {
      "image/png": "[encoded data removed]",
      "text/plain": [
       "<Figure size 640x480 with 1 Axes>"
      ]
     },
     "metadata": {},
     "output_type": "display_data"
    }
   ],
   "source": [
    "X_train = bordeaux_train[[\"age\"]]\n",
    "y_train = bordeaux_train[\"log(price)\"]\n",
    "\n",
    "# Fit k-nearest neighbors\n",
    "model = KNeighborsRegressor(n_neighbors=20)\n",
    "model.fit(X=X_train, y=y_train)\n",
    "\n",
    "# Define a grid of feature values.\n",
    "X_new = pd.DataFrame()\n",
    "X_new[\"age\"] = np.linspace(10, 45, num=200)\n",
    "\n",
    "# Make predictions at those feature values.\n",
    "y_new_ = pd.Series(\n",
    "    model.predict(X_new),\n",
    "    index=X_new[\"age\"]\n",
    ")\n",
    "\n",
    "# Plot the predictions.\n",
    "bordeaux_train.plot.scatter(x=\"age\", y=\"log(price)\")\n",
    "y_new_.plot.line()"
   ]
  },
  {
   "cell_type": "markdown",
   "metadata": {
    "colab_type": "text",
    "id": "ZWTD3k7Ugdql"
   },
   "source": [
    "2\\. Using the Ames housing data set (AmesHousing.txt ), fit a $k$-nearest neighbors model that predicts the price of a home using square footage, number of bedrooms (**Bedroom AbvGr**), number of full bathrooms (**Full Bath**), and number of half bathrooms (**Half Bath**). Then, use your fitted model to predict the price of a home that is 1500 square feet, with 3 bedrooms, 2 full baths, and 1 half bath."
   ]
  },
  {
   "cell_type": "code",
   "execution_count": 123,
   "metadata": {},
   "outputs": [
    {
     "data": {
      "text/html": [
       "<div>\n",
       "<style scoped>\n",
       "    .dataframe tbody tr th:only-of-type {\n",
       "        vertical-align: middle;\n",
       "    }\n",
       "\n",
       "    .dataframe tbody tr th {\n",
       "        vertical-align: top;\n",
       "    }\n",
       "\n",
       "    .dataframe thead th {\n",
       "        text-align: right;\n",
       "    }\n",
       "</style>\n",
       "<table border=\"1\" class=\"dataframe\">\n",
       "  <thead>\n",
       "    <tr style=\"text-align: right;\">\n",
       "      <th></th>\n",
       "      <th>PID</th>\n",
       "      <th>MS SubClass</th>\n",
       "      <th>MS Zoning</th>\n",
       "      <th>Lot Frontage</th>\n",
       "      <th>Lot Area</th>\n",
       "      <th>Street</th>\n",
       "      <th>Alley</th>\n",
       "      <th>Lot Shape</th>\n",
       "      <th>Land Contour</th>\n",
       "      <th>Utilities</th>\n",
       "      <th>...</th>\n",
       "      <th>Pool QC</th>\n",
       "      <th>Fence</th>\n",
       "      <th>Misc Feature</th>\n",
       "      <th>Misc Val</th>\n",
       "      <th>Mo Sold</th>\n",
       "      <th>Yr Sold</th>\n",
       "      <th>Sale Type</th>\n",
       "      <th>Sale Condition</th>\n",
       "      <th>SalePrice</th>\n",
       "      <th>log(SalePrice)</th>\n",
       "    </tr>\n",
       "    <tr>\n",
       "      <th>Order</th>\n",
       "      <th></th>\n",
       "      <th></th>\n",
       "      <th></th>\n",
       "      <th></th>\n",
       "      <th></th>\n",
       "      <th></th>\n",
       "      <th></th>\n",
       "      <th></th>\n",
       "      <th></th>\n",
       "      <th></th>\n",
       "      <th></th>\n",
       "      <th></th>\n",
       "      <th></th>\n",
       "      <th></th>\n",
       "      <th></th>\n",
       "      <th></th>\n",
       "      <th></th>\n",
       "      <th></th>\n",
       "      <th></th>\n",
       "      <th></th>\n",
       "      <th></th>\n",
       "    </tr>\n",
       "  </thead>\n",
       "  <tbody>\n",
       "    <tr>\n",
       "      <th>1</th>\n",
       "      <td>526301100</td>\n",
       "      <td>20</td>\n",
       "      <td>RL</td>\n",
       "      <td>141.0</td>\n",
       "      <td>31770</td>\n",
       "      <td>Pave</td>\n",
       "      <td>NaN</td>\n",
       "      <td>IR1</td>\n",
       "      <td>Lvl</td>\n",
       "      <td>AllPub</td>\n",
       "      <td>...</td>\n",
       "      <td>NaN</td>\n",
       "      <td>NaN</td>\n",
       "      <td>NaN</td>\n",
       "      <td>0</td>\n",
       "      <td>5</td>\n",
       "      <td>2010</td>\n",
       "      <td>WD</td>\n",
       "      <td>Normal</td>\n",
       "      <td>215000</td>\n",
       "      <td>12.278393</td>\n",
       "    </tr>\n",
       "    <tr>\n",
       "      <th>2</th>\n",
       "      <td>526350040</td>\n",
       "      <td>20</td>\n",
       "      <td>RH</td>\n",
       "      <td>80.0</td>\n",
       "      <td>11622</td>\n",
       "      <td>Pave</td>\n",
       "      <td>NaN</td>\n",
       "      <td>Reg</td>\n",
       "      <td>Lvl</td>\n",
       "      <td>AllPub</td>\n",
       "      <td>...</td>\n",
       "      <td>NaN</td>\n",
       "      <td>MnPrv</td>\n",
       "      <td>NaN</td>\n",
       "      <td>0</td>\n",
       "      <td>6</td>\n",
       "      <td>2010</td>\n",
       "      <td>WD</td>\n",
       "      <td>Normal</td>\n",
       "      <td>105000</td>\n",
       "      <td>11.561716</td>\n",
       "    </tr>\n",
       "    <tr>\n",
       "      <th>3</th>\n",
       "      <td>526351010</td>\n",
       "      <td>20</td>\n",
       "      <td>RL</td>\n",
       "      <td>81.0</td>\n",
       "      <td>14267</td>\n",
       "      <td>Pave</td>\n",
       "      <td>NaN</td>\n",
       "      <td>IR1</td>\n",
       "      <td>Lvl</td>\n",
       "      <td>AllPub</td>\n",
       "      <td>...</td>\n",
       "      <td>NaN</td>\n",
       "      <td>NaN</td>\n",
       "      <td>Gar2</td>\n",
       "      <td>12500</td>\n",
       "      <td>6</td>\n",
       "      <td>2010</td>\n",
       "      <td>WD</td>\n",
       "      <td>Normal</td>\n",
       "      <td>172000</td>\n",
       "      <td>12.055250</td>\n",
       "    </tr>\n",
       "    <tr>\n",
       "      <th>4</th>\n",
       "      <td>526353030</td>\n",
       "      <td>20</td>\n",
       "      <td>RL</td>\n",
       "      <td>93.0</td>\n",
       "      <td>11160</td>\n",
       "      <td>Pave</td>\n",
       "      <td>NaN</td>\n",
       "      <td>Reg</td>\n",
       "      <td>Lvl</td>\n",
       "      <td>AllPub</td>\n",
       "      <td>...</td>\n",
       "      <td>NaN</td>\n",
       "      <td>NaN</td>\n",
       "      <td>NaN</td>\n",
       "      <td>0</td>\n",
       "      <td>4</td>\n",
       "      <td>2010</td>\n",
       "      <td>WD</td>\n",
       "      <td>Normal</td>\n",
       "      <td>244000</td>\n",
       "      <td>12.404924</td>\n",
       "    </tr>\n",
       "    <tr>\n",
       "      <th>5</th>\n",
       "      <td>527105010</td>\n",
       "      <td>60</td>\n",
       "      <td>RL</td>\n",
       "      <td>74.0</td>\n",
       "      <td>13830</td>\n",
       "      <td>Pave</td>\n",
       "      <td>NaN</td>\n",
       "      <td>IR1</td>\n",
       "      <td>Lvl</td>\n",
       "      <td>AllPub</td>\n",
       "      <td>...</td>\n",
       "      <td>NaN</td>\n",
       "      <td>MnPrv</td>\n",
       "      <td>NaN</td>\n",
       "      <td>0</td>\n",
       "      <td>3</td>\n",
       "      <td>2010</td>\n",
       "      <td>WD</td>\n",
       "      <td>Normal</td>\n",
       "      <td>189900</td>\n",
       "      <td>12.154253</td>\n",
       "    </tr>\n",
       "  </tbody>\n",
       "</table>\n",
       "<p>5 rows × 82 columns</p>\n",
       "</div>"
      ],
      "text/plain": [
       "             PID  MS SubClass MS Zoning  Lot Frontage  Lot Area Street Alley  \\\n",
       "Order                                                                          \n",
       "1      526301100           20        RL         141.0     31770   Pave   NaN   \n",
       "2      526350040           20        RH          80.0     11622   Pave   NaN   \n",
       "3      526351010           20        RL          81.0     14267   Pave   NaN   \n",
       "4      526353030           20        RL          93.0     11160   Pave   NaN   \n",
       "5      527105010           60        RL          74.0     13830   Pave   NaN   \n",
       "\n",
       "      Lot Shape Land Contour Utilities  ... Pool QC  Fence Misc Feature  \\\n",
       "Order                                   ...                               \n",
       "1           IR1          Lvl    AllPub  ...     NaN    NaN          NaN   \n",
       "2           Reg          Lvl    AllPub  ...     NaN  MnPrv          NaN   \n",
       "3           IR1          Lvl    AllPub  ...     NaN    NaN         Gar2   \n",
       "4           Reg          Lvl    AllPub  ...     NaN    NaN          NaN   \n",
       "5           IR1          Lvl    AllPub  ...     NaN  MnPrv          NaN   \n",
       "\n",
       "      Misc Val Mo Sold Yr Sold Sale Type  Sale Condition  SalePrice  \\\n",
       "Order                                                                 \n",
       "1            0       5    2010       WD           Normal     215000   \n",
       "2            0       6    2010       WD           Normal     105000   \n",
       "3        12500       6    2010       WD           Normal     172000   \n",
       "4            0       4    2010       WD           Normal     244000   \n",
       "5            0       3    2010       WD           Normal     189900   \n",
       "\n",
       "       log(SalePrice)  \n",
       "Order                  \n",
       "1           12.278393  \n",
       "2           11.561716  \n",
       "3           12.055250  \n",
       "4           12.404924  \n",
       "5           12.154253  \n",
       "\n",
       "[5 rows x 82 columns]"
      ]
     },
     "execution_count": 123,
     "metadata": {},
     "output_type": "execute_result"
    }
   ],
   "source": [
    "ames_df = pd.read_csv(\"AmesHousing.txt\", sep='\\t', index_col=\"Order\")\n",
    "#ames_df.head()\n",
    "ames_train = ames_df.loc[:2344].copy()\n",
    "ames_test = ames_df.loc[2345:].copy()\n",
    "\n",
    "# Log transform the target.\n",
    "ames_train[\"log(SalePrice)\"] = np.log(ames_train[\"SalePrice\"])\n",
    "ames_train.head()"
   ]
  },
  {
   "cell_type": "code",
   "execution_count": 124,
   "metadata": {},
   "outputs": [
    {
     "data": {
      "text/plain": [
       "array([267400. , 195280. , 140760. , 234415.2, 264222. , 221100. ,\n",
       "       328200. , 214250. , 124140. , 227700. , 229080. , 136900. ,\n",
       "       187690. , 177380. , 140760. , 131740. , 113300. , 124880. ,\n",
       "       121000. , 272003.4,  88250. , 148400. , 105080. , 122100. ,\n",
       "       127340. , 127340. , 116400. ,  88250. , 105080. , 130100. ,\n",
       "       146160. , 114540. , 140000. , 156880. , 223900. , 271317.4,\n",
       "       259629. , 209400. , 234750. , 159980. , 229564.2, 222220. ,\n",
       "       183280. , 327800. , 186280. , 253100. , 222500. , 231156. ,\n",
       "       235500. , 292450. , 237900. , 241498.4, 205100. , 209200. ,\n",
       "       252465.8, 209200. , 335412.2, 228100. , 201560. , 169820. ,\n",
       "       218487.2, 151246.6, 151246.6, 227442.6, 165790. , 158500. ,\n",
       "       132928.2, 156880. , 197315. , 174036. , 212272. , 188650. ,\n",
       "       156880. , 200280. , 197315. , 169820. , 188300. , 181180. ,\n",
       "       170680. , 165000. , 173640. , 150057.4, 113100. , 199726.4,\n",
       "       205340. , 218499.8, 201800. , 157260. , 169986.4, 196830. ,\n",
       "       211667. , 157260. , 187690. , 198430. , 246253.8, 212980. ,\n",
       "       231156. , 248473.4, 329800. , 269800. , 314063.2, 341184.8,\n",
       "       366190.2, 253485.2, 264000. , 335412.2, 391844.8, 364100. ,\n",
       "       273800. , 395505.2, 213900. , 216000. , 253100. , 213780. ,\n",
       "       215140. , 170900. , 167500. , 272575.8, 198450. , 247905.4,\n",
       "       201250. , 187200. , 216238. , 172580. , 160156. , 133197. ,\n",
       "       122200. , 172500.2, 121794.2, 112608.2, 135600. , 221100. ,\n",
       "       180725.8, 247000. , 195900. , 191917.6, 167615. , 186929.6,\n",
       "       148500. , 142480. , 131980. , 129050. , 133825. , 159180. ,\n",
       "       141580. , 156600. , 121080. , 126701.6, 108800. , 152800. ,\n",
       "       108200. , 129600. , 142120. , 114350. , 297445.8, 327090. ,\n",
       "       372460.6, 310704.8, 249650. , 215700. , 131700. , 141337.4,\n",
       "       161080. , 158646.6, 158646.6, 161080. , 191216. , 149390. ,\n",
       "       166500. , 130622. , 270550. , 201500. , 234540. , 154387.6,\n",
       "       160620. , 133180. , 186980. , 186980. , 194980. , 129000. ,\n",
       "       231365.2, 254223.2, 154160. , 298250. , 173000. , 174260. ,\n",
       "       160780. , 125750. , 133480. , 173780. , 118600. , 132200. ,\n",
       "       115960. , 133480. , 104408.2, 161080. , 204020. , 118120. ,\n",
       "       113300. , 225680. , 218487.2, 138180. , 182600. , 169280. ,\n",
       "       133140. , 134420. , 147917.4, 103500. , 143700. , 122678.6,\n",
       "       125400. , 110360. ,  77620. , 143200. , 186800. , 221200. ,\n",
       "       123400. , 223100. , 238018. , 210450.2, 116880. , 206765.8,\n",
       "       135737.4, 144520. , 254880. , 138120.8, 318820. , 143700. ,\n",
       "       160900. , 134070. , 155880. , 161700. , 161580. , 175246.6,\n",
       "       133050. , 141400. , 142120. , 112200. , 118120. , 138000. ,\n",
       "       143700. , 227738. , 134070. , 118780. , 139480. , 129600. ,\n",
       "       344458.6, 160480. , 272575.8, 178791.2, 184100. ,  76910. ,\n",
       "        92637.8, 134300. ,  74860. ,  68760. , 107274.2, 175100. ,\n",
       "       206975. , 139200. , 327090. , 193664.4, 194174. , 120980. ,\n",
       "       159530. , 218717.6, 154387.6, 133300. , 125300. , 111150. ,\n",
       "       103500. , 163220. , 157600. , 324600. , 193430. , 159786.8,\n",
       "       142500. , 124260. , 124260. , 144100. , 116260. , 116260. ,\n",
       "       116260. , 191300. , 155200. , 155200. , 143000. , 131060. ,\n",
       "       115878.6, 113300. , 149900. , 244858. , 153050. , 189000. ,\n",
       "       165700. , 154160. , 178600. , 179516. , 121580. , 103500. ,\n",
       "       262060. , 138000. , 104420.8, 247680. , 111150. , 153300. ,\n",
       "       150900. , 112730. , 180200. ,  66400. , 126700. , 162480. ,\n",
       "       109500. , 199900. , 150840. , 215520. , 248700. , 176280. ,\n",
       "       207942.6, 136646.6, 207175. , 139280. , 341184.8, 150057.4,\n",
       "       112730. , 133620. , 106700. , 241018. , 262844.4, 187690. ,\n",
       "       142974. , 140480. , 137600. , 147280. , 102180. , 133300. ,\n",
       "       216238. , 149220. , 140760. ,  76300. , 110740. , 103500. ,\n",
       "       357222.6, 112730. , 215800. ,  93120. , 177720. , 157668. ,\n",
       "       109100. , 150900. , 142100. , 120619. ,  89600. , 121080. ,\n",
       "       157300. , 231365.2, 169880. , 166380. , 138000. , 116700. ,\n",
       "       134300. , 166500. , 163650. , 126300. , 133460. , 161500. ,\n",
       "       107000. , 132280. , 140000. , 172500.2, 154333. , 190039.6,\n",
       "       144100. , 195500. , 242980. , 231365.2, 260780. , 236173.2,\n",
       "       115580. , 123350. , 175700. , 240704.4, 131060. , 271293.4,\n",
       "        95985. , 128660. , 205300. , 149390. , 157380. , 155200. ,\n",
       "       245500. , 260180. , 247958. , 341184.8, 164520. , 181350. ,\n",
       "       133400. , 251242. , 147770. , 150240. , 141400. , 149000. ,\n",
       "       137100. , 310600. , 201560. , 184580. , 223460. , 154387.6,\n",
       "       189560. , 173820. , 236957.8, 182300. , 231200. , 171880. ,\n",
       "       209620. , 208300. , 220350. , 236957.8, 175100. , 178760. ,\n",
       "       202505.6, 104580. , 200800. , 160980. , 136180. , 142900. ,\n",
       "       193499.8, 165040. , 137120. , 191316. , 212400. , 178168.2,\n",
       "       243968.8, 236173.2, 212272. , 188952.6, 181732.2, 112877.6,\n",
       "       160980. , 146000. , 120500. , 113300. , 128660. , 113300. ,\n",
       "       148500. , 223620. , 207175. , 232780. , 206700. , 238740. ,\n",
       "       195380. , 232820. , 223700. , 256300. , 247905.4, 204020. ,\n",
       "       253100. , 247000. , 141650. , 141650. , 242645.2, 158400. ,\n",
       "       242980. , 160210. , 193080. , 194017.8, 214650. , 232980. ,\n",
       "       179480. , 184899.8, 156880. , 181480. , 174100. , 165280. ,\n",
       "       174860. , 111380. , 125750. , 140480. , 200680. , 136180. ,\n",
       "       227700. , 138000. , 138000. , 138000. , 253260.4, 253260.4,\n",
       "       253260.4, 253260.4, 215580. , 120500. , 188680. , 166000. ,\n",
       "       148100. , 167140. , 111150. , 166980. , 147320. , 169100. ,\n",
       "       188306.6,  66400. , 152800. , 199900. , 175100. , 206930. ,\n",
       "       164106.8, 180700. , 248850. , 141860. , 182300. , 204200. ,\n",
       "       258780. , 193664.4, 138180. , 241700. , 182880. , 180463.2,\n",
       "       190000. , 132055.2, 211700. , 214000. , 266000. , 143290. ,\n",
       "       249580. , 188500. , 206795.4, 227700. , 153900. , 171880. ,\n",
       "       118600. , 148900. ,  87180. ,  83280. , 133850. , 203280. ,\n",
       "       161580. ,  59480. ,  66400. , 168615. , 116880. , 211665.8,\n",
       "       262595.4, 230000. , 187690. , 189095. , 121580. , 136180. ,\n",
       "       194200. , 310704.8, 164640. , 202100. , 251460.4, 142200. ,\n",
       "       179806.8, 320104.8, 169760. , 263573.4, 208200. , 216900. ,\n",
       "       250200. , 193430. , 151246.6, 129800. , 177100. , 115408.2,\n",
       "       118550. , 153180. , 297780. , 121000. , 193627. ,  81400. ,\n",
       "        88250. , 142100. ,  81400. ,  88250. ,  88250. ,  88250. ,\n",
       "        88250. , 205975.2, 205975.2, 139000. , 117290. , 130560. ,\n",
       "       121840. , 102980. , 157200. , 279580. ])"
      ]
     },
     "execution_count": 124,
     "metadata": {},
     "output_type": "execute_result"
    }
   ],
   "source": [
    "X_train = ames_train[[\"Bedroom AbvGr\", \"Full Bath\", \"Half Bath\", \"Gr Liv Area\"]]\n",
    "y_train = ames_train[\"SalePrice\"]\n",
    "\n",
    "home = pd.DataFrame({\n",
    "    'Bedroom AbvGr' : [3],\n",
    "    'Full Bath' : [2],\n",
    "    'Half Bath' : [1],\n",
    "    'Gr Liv Area' : [1500],\n",
    "})\n",
    "\n",
    "# Fit k-nearest neighbors\n",
    "model = KNeighborsRegressor(n_neighbors=5)\n",
    "model.fit(\n",
    "    X=ames_train[[\"Bedroom AbvGr\", \"Full Bath\", \"Half Bath\", \"Gr Liv Area\"]],\n",
    "    y=ames_train[\"SalePrice\"]\n",
    ")\n",
    "\n",
    "# Make predictions at those feature values.\n",
    "model.predict(\n",
    "    X = ames_test[[\"Bedroom AbvGr\", \"Full Bath\", \"Half Bath\", \"Gr Liv Area\"]]\n",
    ")"
   ]
  },
  {
   "cell_type": "code",
   "execution_count": 126,
   "metadata": {},
   "outputs": [
    {
     "data": {
      "text/plain": [
       "array([184899.8])"
      ]
     },
     "execution_count": 126,
     "metadata": {},
     "output_type": "execute_result"
    }
   ],
   "source": [
    "model.predict(home)"
   ]
  },
  {
   "cell_type": "markdown",
   "metadata": {
    "colab_type": "text",
    "id": "ezyjjnFAgdql"
   },
   "source": [
    "3\\. You would like to predict how much a male diner will tip on a bill of \\\\$40.00 on a Sunday. Build a $k$-nearest neighbors model to answer this question, using the tips data (tips.csv ) as your training data."
   ]
  },
  {
   "cell_type": "code",
   "execution_count": 143,
   "metadata": {},
   "outputs": [
    {
     "data": {
      "text/html": [
       "<div>\n",
       "<style scoped>\n",
       "    .dataframe tbody tr th:only-of-type {\n",
       "        vertical-align: middle;\n",
       "    }\n",
       "\n",
       "    .dataframe tbody tr th {\n",
       "        vertical-align: top;\n",
       "    }\n",
       "\n",
       "    .dataframe thead th {\n",
       "        text-align: right;\n",
       "    }\n",
       "</style>\n",
       "<table border=\"1\" class=\"dataframe\">\n",
       "  <thead>\n",
       "    <tr style=\"text-align: right;\">\n",
       "      <th></th>\n",
       "      <th>obs</th>\n",
       "      <th>totbill</th>\n",
       "      <th>tip</th>\n",
       "      <th>sex</th>\n",
       "      <th>smoker</th>\n",
       "      <th>day</th>\n",
       "      <th>time</th>\n",
       "      <th>size</th>\n",
       "    </tr>\n",
       "  </thead>\n",
       "  <tbody>\n",
       "    <tr>\n",
       "      <th>0</th>\n",
       "      <td>1</td>\n",
       "      <td>16.99</td>\n",
       "      <td>1.01</td>\n",
       "      <td>2.0</td>\n",
       "      <td>No</td>\n",
       "      <td>7.0</td>\n",
       "      <td>Night</td>\n",
       "      <td>2</td>\n",
       "    </tr>\n",
       "    <tr>\n",
       "      <th>1</th>\n",
       "      <td>2</td>\n",
       "      <td>10.34</td>\n",
       "      <td>1.66</td>\n",
       "      <td>1.0</td>\n",
       "      <td>No</td>\n",
       "      <td>7.0</td>\n",
       "      <td>Night</td>\n",
       "      <td>3</td>\n",
       "    </tr>\n",
       "    <tr>\n",
       "      <th>2</th>\n",
       "      <td>3</td>\n",
       "      <td>21.01</td>\n",
       "      <td>3.50</td>\n",
       "      <td>1.0</td>\n",
       "      <td>No</td>\n",
       "      <td>7.0</td>\n",
       "      <td>Night</td>\n",
       "      <td>3</td>\n",
       "    </tr>\n",
       "    <tr>\n",
       "      <th>3</th>\n",
       "      <td>4</td>\n",
       "      <td>23.68</td>\n",
       "      <td>3.31</td>\n",
       "      <td>1.0</td>\n",
       "      <td>No</td>\n",
       "      <td>7.0</td>\n",
       "      <td>Night</td>\n",
       "      <td>2</td>\n",
       "    </tr>\n",
       "    <tr>\n",
       "      <th>4</th>\n",
       "      <td>5</td>\n",
       "      <td>24.59</td>\n",
       "      <td>3.61</td>\n",
       "      <td>2.0</td>\n",
       "      <td>No</td>\n",
       "      <td>7.0</td>\n",
       "      <td>Night</td>\n",
       "      <td>4</td>\n",
       "    </tr>\n",
       "  </tbody>\n",
       "</table>\n",
       "</div>"
      ],
      "text/plain": [
       "   obs  totbill   tip  sex smoker  day   time  size\n",
       "0    1    16.99  1.01  2.0     No  7.0  Night     2\n",
       "1    2    10.34  1.66  1.0     No  7.0  Night     3\n",
       "2    3    21.01  3.50  1.0     No  7.0  Night     3\n",
       "3    4    23.68  3.31  1.0     No  7.0  Night     2\n",
       "4    5    24.59  3.61  2.0     No  7.0  Night     4"
      ]
     },
     "execution_count": 143,
     "metadata": {},
     "output_type": "execute_result"
    }
   ],
   "source": [
    "tips_df = pd.read_csv(\"tips.csv\")\n",
    "\n",
    "tips_df['day'] = tips_df['day'].replace(\"Sun\" , '7').replace(\"Sat\" , '1').replace(\"Fri\" , '5').replace(\"Thu\" , '4').replace(\"Wed\" , '3').replace(\"Tue\" , '2').replace(\"Mon\" , '1').astype(float)\n",
    "\n",
    "tips_df['sex'] = tips_df['sex'].replace(\"M\" , '1').replace(\"F\" , '2').astype(float)\n",
    "\n",
    "tips_train = tips_df.loc[:200].copy()\n",
    "tips_test = tips_df.loc[201:].copy()\n",
    "\n",
    "# Log transform the target.\n",
    "#tips_train[\"tip\"] = np.log(tips_train[\"tip\"])\n",
    "tips_train.head()"
   ]
  },
  {
   "cell_type": "code",
   "execution_count": 144,
   "metadata": {},
   "outputs": [
    {
     "data": {
      "text/plain": [
       "array([2.214, 2.15 , 3.5  , 3.204, 3.5  , 3.506, 5.096, 3.574, 2.394,\n",
       "       3.28 , 3.506, 5.846, 2.6  , 3.298, 2.394, 3.298, 1.792, 1.428,\n",
       "       3.28 , 1.962, 2.19 , 1.534, 2.726, 1.9  , 2.726, 1.966, 3.156,\n",
       "       2.194, 3.532, 4.134, 2.226, 1.792, 1.72 , 2.226, 1.658, 1.946,\n",
       "       5.214, 5.49 , 3.28 , 3.786, 3.762, 3.082, 2.86 ])"
      ]
     },
     "execution_count": 144,
     "metadata": {},
     "output_type": "execute_result"
    }
   ],
   "source": [
    "X_train = tips_train[[\"totbill\", \"day\", \"sex\"]]\n",
    "y_train = tips_train[\"tip\"]\n",
    "\n",
    "z = pd.DataFrame({\n",
    "    'totbill' : [40],\n",
    "    'day' : [7],\n",
    "    'sex' : [1],\n",
    "})\n",
    "\n",
    "# Fit k-nearest neighbors\n",
    "model = KNeighborsRegressor(n_neighbors=5)\n",
    "model.fit(\n",
    "    X=tips_train[[\"totbill\", \"day\", \"sex\"]],\n",
    "    y=tips_train[\"tip\"]\n",
    ")\n",
    "\n",
    "# Make predictions at those feature values.\n",
    "model.predict(\n",
    "    X = tips_test[[\"totbill\", \"day\", \"sex\"]]\n",
    ")"
   ]
  },
  {
   "cell_type": "code",
   "execution_count": 145,
   "metadata": {},
   "outputs": [
    {
     "data": {
      "text/plain": [
       "array([4.346])"
      ]
     },
     "execution_count": 145,
     "metadata": {},
     "output_type": "execute_result"
    }
   ],
   "source": [
    "model.predict(z)"
   ]
  }
 ],
 "metadata": {
  "colab": {
   "name": "5.2 K-Nearest Neighbors for Regression.ipynb",
   "provenance": []
  },
  "kernelspec": {
   "display_name": "Python 3.10.4 64-bit",
   "language": "python",
   "name": "python3"
  },
  "language_info": {
   "codemirror_mode": {
    "name": "ipython",
    "version": 3
   },
   "file_extension": ".py",
   "mimetype": "text/x-python",
   "name": "python",
   "nbconvert_exporter": "python",
   "pygments_lexer": "ipython3",
   "version": "3.10.4"
  },
  "vscode": {
   "interpreter": {
    "hash": "949777d72b0d2535278d3dc13498b2535136f6dfe0678499012e853ee9abcab1"
   }
  }
 },
 "nbformat": 4,
 "nbformat_minor": 1
}
