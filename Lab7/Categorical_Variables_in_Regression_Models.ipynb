{
 "cells": [
  {
   "cell_type": "markdown",
   "metadata": {
    "colab_type": "text",
    "id": "UHPKDZB9QgaM"
   },
   "source": [
    "# Categorical Features in Regression Models\n",
    "\n",
    "So far, we have fit linear and $k$-nearest neighbors regression models to data where all of the features are quantitative. But what if all or some of the features are categorical? In theory, the solution is simple: we simply transform the categorical variables into quantitative variables using dummy (i.e., one-hot) encoding. However, in practice, some care is needed to ensure that the categorical variables are transformed in a consistent way between the training and the test data."
   ]
  },
  {
   "cell_type": "code",
   "execution_count": 27,
   "metadata": {
    "colab": {},
    "colab_type": "code",
    "id": "CL4uMwkXQgaP"
   },
   "outputs": [
    {
     "data": {
      "text/html": [
       "<div>\n",
       "<style scoped>\n",
       "    .dataframe tbody tr th:only-of-type {\n",
       "        vertical-align: middle;\n",
       "    }\n",
       "\n",
       "    .dataframe tbody tr th {\n",
       "        vertical-align: top;\n",
       "    }\n",
       "\n",
       "    .dataframe thead th {\n",
       "        text-align: right;\n",
       "    }\n",
       "</style>\n",
       "<table border=\"1\" class=\"dataframe\">\n",
       "  <thead>\n",
       "    <tr style=\"text-align: right;\">\n",
       "      <th></th>\n",
       "      <th>Order</th>\n",
       "      <th>PID</th>\n",
       "      <th>MS SubClass</th>\n",
       "      <th>MS Zoning</th>\n",
       "      <th>Lot Frontage</th>\n",
       "      <th>Lot Area</th>\n",
       "      <th>Street</th>\n",
       "      <th>Alley</th>\n",
       "      <th>Lot Shape</th>\n",
       "      <th>Land Contour</th>\n",
       "      <th>...</th>\n",
       "      <th>Pool Area</th>\n",
       "      <th>Pool QC</th>\n",
       "      <th>Fence</th>\n",
       "      <th>Misc Feature</th>\n",
       "      <th>Misc Val</th>\n",
       "      <th>Mo Sold</th>\n",
       "      <th>Yr Sold</th>\n",
       "      <th>Sale Type</th>\n",
       "      <th>Sale Condition</th>\n",
       "      <th>SalePrice</th>\n",
       "    </tr>\n",
       "  </thead>\n",
       "  <tbody>\n",
       "    <tr>\n",
       "      <th>0</th>\n",
       "      <td>1</td>\n",
       "      <td>526301100</td>\n",
       "      <td>20</td>\n",
       "      <td>RL</td>\n",
       "      <td>141.0</td>\n",
       "      <td>31770</td>\n",
       "      <td>Pave</td>\n",
       "      <td>NaN</td>\n",
       "      <td>IR1</td>\n",
       "      <td>Lvl</td>\n",
       "      <td>...</td>\n",
       "      <td>0</td>\n",
       "      <td>NaN</td>\n",
       "      <td>NaN</td>\n",
       "      <td>NaN</td>\n",
       "      <td>0</td>\n",
       "      <td>5</td>\n",
       "      <td>2010</td>\n",
       "      <td>WD</td>\n",
       "      <td>Normal</td>\n",
       "      <td>215000</td>\n",
       "    </tr>\n",
       "    <tr>\n",
       "      <th>1</th>\n",
       "      <td>2</td>\n",
       "      <td>526350040</td>\n",
       "      <td>20</td>\n",
       "      <td>RH</td>\n",
       "      <td>80.0</td>\n",
       "      <td>11622</td>\n",
       "      <td>Pave</td>\n",
       "      <td>NaN</td>\n",
       "      <td>Reg</td>\n",
       "      <td>Lvl</td>\n",
       "      <td>...</td>\n",
       "      <td>0</td>\n",
       "      <td>NaN</td>\n",
       "      <td>MnPrv</td>\n",
       "      <td>NaN</td>\n",
       "      <td>0</td>\n",
       "      <td>6</td>\n",
       "      <td>2010</td>\n",
       "      <td>WD</td>\n",
       "      <td>Normal</td>\n",
       "      <td>105000</td>\n",
       "    </tr>\n",
       "    <tr>\n",
       "      <th>2</th>\n",
       "      <td>3</td>\n",
       "      <td>526351010</td>\n",
       "      <td>20</td>\n",
       "      <td>RL</td>\n",
       "      <td>81.0</td>\n",
       "      <td>14267</td>\n",
       "      <td>Pave</td>\n",
       "      <td>NaN</td>\n",
       "      <td>IR1</td>\n",
       "      <td>Lvl</td>\n",
       "      <td>...</td>\n",
       "      <td>0</td>\n",
       "      <td>NaN</td>\n",
       "      <td>NaN</td>\n",
       "      <td>Gar2</td>\n",
       "      <td>12500</td>\n",
       "      <td>6</td>\n",
       "      <td>2010</td>\n",
       "      <td>WD</td>\n",
       "      <td>Normal</td>\n",
       "      <td>172000</td>\n",
       "    </tr>\n",
       "    <tr>\n",
       "      <th>3</th>\n",
       "      <td>4</td>\n",
       "      <td>526353030</td>\n",
       "      <td>20</td>\n",
       "      <td>RL</td>\n",
       "      <td>93.0</td>\n",
       "      <td>11160</td>\n",
       "      <td>Pave</td>\n",
       "      <td>NaN</td>\n",
       "      <td>Reg</td>\n",
       "      <td>Lvl</td>\n",
       "      <td>...</td>\n",
       "      <td>0</td>\n",
       "      <td>NaN</td>\n",
       "      <td>NaN</td>\n",
       "      <td>NaN</td>\n",
       "      <td>0</td>\n",
       "      <td>4</td>\n",
       "      <td>2010</td>\n",
       "      <td>WD</td>\n",
       "      <td>Normal</td>\n",
       "      <td>244000</td>\n",
       "    </tr>\n",
       "    <tr>\n",
       "      <th>4</th>\n",
       "      <td>5</td>\n",
       "      <td>527105010</td>\n",
       "      <td>60</td>\n",
       "      <td>RL</td>\n",
       "      <td>74.0</td>\n",
       "      <td>13830</td>\n",
       "      <td>Pave</td>\n",
       "      <td>NaN</td>\n",
       "      <td>IR1</td>\n",
       "      <td>Lvl</td>\n",
       "      <td>...</td>\n",
       "      <td>0</td>\n",
       "      <td>NaN</td>\n",
       "      <td>MnPrv</td>\n",
       "      <td>NaN</td>\n",
       "      <td>0</td>\n",
       "      <td>3</td>\n",
       "      <td>2010</td>\n",
       "      <td>WD</td>\n",
       "      <td>Normal</td>\n",
       "      <td>189900</td>\n",
       "    </tr>\n",
       "  </tbody>\n",
       "</table>\n",
       "<p>5 rows × 82 columns</p>\n",
       "</div>"
      ],
      "text/plain": [
       "   Order        PID  MS SubClass MS Zoning  Lot Frontage  Lot Area Street  \\\n",
       "0      1  526301100           20        RL         141.0     31770   Pave   \n",
       "1      2  526350040           20        RH          80.0     11622   Pave   \n",
       "2      3  526351010           20        RL          81.0     14267   Pave   \n",
       "3      4  526353030           20        RL          93.0     11160   Pave   \n",
       "4      5  527105010           60        RL          74.0     13830   Pave   \n",
       "\n",
       "  Alley Lot Shape Land Contour  ... Pool Area Pool QC  Fence Misc Feature  \\\n",
       "0   NaN       IR1          Lvl  ...         0     NaN    NaN          NaN   \n",
       "1   NaN       Reg          Lvl  ...         0     NaN  MnPrv          NaN   \n",
       "2   NaN       IR1          Lvl  ...         0     NaN    NaN         Gar2   \n",
       "3   NaN       Reg          Lvl  ...         0     NaN    NaN          NaN   \n",
       "4   NaN       IR1          Lvl  ...         0     NaN  MnPrv          NaN   \n",
       "\n",
       "  Misc Val Mo Sold Yr Sold Sale Type  Sale Condition  SalePrice  \n",
       "0        0       5    2010       WD           Normal     215000  \n",
       "1        0       6    2010       WD           Normal     105000  \n",
       "2    12500       6    2010       WD           Normal     172000  \n",
       "3        0       4    2010       WD           Normal     244000  \n",
       "4        0       3    2010       WD           Normal     189900  \n",
       "\n",
       "[5 rows x 82 columns]"
      ]
     },
     "execution_count": 27,
     "metadata": {},
     "output_type": "execute_result"
    }
   ],
   "source": [
    "import pandas as pd\n",
    "import numpy as np\n",
    "df_housing = pd.read_csv(\"AmesHousing.txt\", sep=\"\\t\")\n",
    "df_housing.head()"
   ]
  },
  {
   "cell_type": "markdown",
   "metadata": {
    "colab_type": "text",
    "id": "JgT-LLRPQgaU"
   },
   "source": [
    "## One Categorical Feature\n",
    "\n",
    "Let's develop some intuition about the predictions that a regression model will make when there is a single categorical feature. First, suppose we train a linear regression model to predict house price from the neighborhood the house is in."
   ]
  },
  {
   "cell_type": "code",
   "execution_count": 28,
   "metadata": {
    "colab": {},
    "colab_type": "code",
    "id": "TTKRGhAjQgaZ"
   },
   "outputs": [],
   "source": [
    "from sklearn.preprocessing import OneHotEncoder\n",
    "from sklearn.linear_model import LinearRegression\n",
    "\n",
    "X = df_housing[[\"Neighborhood\"]] # need 2D array for sklearn\n",
    "y = df_housing[\"SalePrice\"]\n",
    "\n",
    "enc = OneHotEncoder() # https://scikit-learn.org/stable/modules/generated/sklearn.preprocessing.OneHotEncoder.html\n",
    "X_dummies = enc.fit_transform(X)\n",
    "\n"
   ]
  },
  {
   "cell_type": "code",
   "execution_count": 29,
   "metadata": {},
   "outputs": [
    {
     "data": {
      "text/html": [
       "<style>#sk-container-id-7 {color: black;background-color: white;}#sk-container-id-7 pre{padding: 0;}#sk-container-id-7 div.sk-toggleable {background-color: white;}#sk-container-id-7 label.sk-toggleable__label {cursor: pointer;display: block;width: 100%;margin-bottom: 0;padding: 0.3em;box-sizing: border-box;text-align: center;}#sk-container-id-7 label.sk-toggleable__label-arrow:before {content: \"▸\";float: left;margin-right: 0.25em;color: #696969;}#sk-container-id-7 label.sk-toggleable__label-arrow:hover:before {color: black;}#sk-container-id-7 div.sk-estimator:hover label.sk-toggleable__label-arrow:before {color: black;}#sk-container-id-7 div.sk-toggleable__content {max-height: 0;max-width: 0;overflow: hidden;text-align: left;background-color: #f0f8ff;}#sk-container-id-7 div.sk-toggleable__content pre {margin: 0.2em;color: black;border-radius: 0.25em;background-color: #f0f8ff;}#sk-container-id-7 input.sk-toggleable__control:checked~div.sk-toggleable__content {max-height: 200px;max-width: 100%;overflow: auto;}#sk-container-id-7 input.sk-toggleable__control:checked~label.sk-toggleable__label-arrow:before {content: \"▾\";}#sk-container-id-7 div.sk-estimator input.sk-toggleable__control:checked~label.sk-toggleable__label {background-color: #d4ebff;}#sk-container-id-7 div.sk-label input.sk-toggleable__control:checked~label.sk-toggleable__label {background-color: #d4ebff;}#sk-container-id-7 input.sk-hidden--visually {border: 0;clip: rect(1px 1px 1px 1px);clip: rect(1px, 1px, 1px, 1px);height: 1px;margin: -1px;overflow: hidden;padding: 0;position: absolute;width: 1px;}#sk-container-id-7 div.sk-estimator {font-family: monospace;background-color: #f0f8ff;border: 1px dotted black;border-radius: 0.25em;box-sizing: border-box;margin-bottom: 0.5em;}#sk-container-id-7 div.sk-estimator:hover {background-color: #d4ebff;}#sk-container-id-7 div.sk-parallel-item::after {content: \"\";width: 100%;border-bottom: 1px solid gray;flex-grow: 1;}#sk-container-id-7 div.sk-label:hover label.sk-toggleable__label {background-color: #d4ebff;}#sk-container-id-7 div.sk-serial::before {content: \"\";position: absolute;border-left: 1px solid gray;box-sizing: border-box;top: 0;bottom: 0;left: 50%;z-index: 0;}#sk-container-id-7 div.sk-serial {display: flex;flex-direction: column;align-items: center;background-color: white;padding-right: 0.2em;padding-left: 0.2em;position: relative;}#sk-container-id-7 div.sk-item {position: relative;z-index: 1;}#sk-container-id-7 div.sk-parallel {display: flex;align-items: stretch;justify-content: center;background-color: white;position: relative;}#sk-container-id-7 div.sk-item::before, #sk-container-id-7 div.sk-parallel-item::before {content: \"\";position: absolute;border-left: 1px solid gray;box-sizing: border-box;top: 0;bottom: 0;left: 50%;z-index: -1;}#sk-container-id-7 div.sk-parallel-item {display: flex;flex-direction: column;z-index: 1;position: relative;background-color: white;}#sk-container-id-7 div.sk-parallel-item:first-child::after {align-self: flex-end;width: 50%;}#sk-container-id-7 div.sk-parallel-item:last-child::after {align-self: flex-start;width: 50%;}#sk-container-id-7 div.sk-parallel-item:only-child::after {width: 0;}#sk-container-id-7 div.sk-dashed-wrapped {border: 1px dashed gray;margin: 0 0.4em 0.5em 0.4em;box-sizing: border-box;padding-bottom: 0.4em;background-color: white;}#sk-container-id-7 div.sk-label label {font-family: monospace;font-weight: bold;display: inline-block;line-height: 1.2em;}#sk-container-id-7 div.sk-label-container {text-align: center;}#sk-container-id-7 div.sk-container {/* jupyter's `normalize.less` sets `[hidden] { display: none; }` but bootstrap.min.css set `[hidden] { display: none !important; }` so we also need the `!important` here to be able to override the default hidden behavior on the sphinx rendered scikit-learn.org. See: https://github.com/scikit-learn/scikit-learn/issues/21755 */display: inline-block !important;position: relative;}#sk-container-id-7 div.sk-text-repr-fallback {display: none;}</style><div id=\"sk-container-id-7\" class=\"sk-top-container\"><div class=\"sk-text-repr-fallback\"><pre>LinearRegression()</pre><b>In a Jupyter environment, please rerun this cell to show the HTML representation or trust the notebook. <br />On GitHub, the HTML representation is unable to render, please try loading this page with nbviewer.org.</b></div><div class=\"sk-container\" hidden><div class=\"sk-item\"><div class=\"sk-estimator sk-toggleable\"><input class=\"sk-toggleable__control sk-hidden--visually\" id=\"sk-estimator-id-27\" type=\"checkbox\" checked><label for=\"sk-estimator-id-27\" class=\"sk-toggleable__label sk-toggleable__label-arrow\">LinearRegression</label><div class=\"sk-toggleable__content\"><pre>LinearRegression()</pre></div></div></div></div></div>"
      ],
      "text/plain": [
       "LinearRegression()"
      ]
     },
     "execution_count": 29,
     "metadata": {},
     "output_type": "execute_result"
    }
   ],
   "source": [
    "model = LinearRegression()\n",
    "model.fit(X_dummies, y)"
   ]
  },
  {
   "cell_type": "markdown",
   "metadata": {
    "colab_type": "text",
    "id": "Ei7SJrH3Qgae"
   },
   "source": [
    "A regression model with just a single feature, **Neighborhood**, will predict the same price for all houses in the same neighborhood. What is that predicted value? We can obtain it by applying the `OneHotEncoder` to a list of the unique neighborhoods in the data set and passing this to `model.predict()`.\n",
    "\n",
    "One way to obtain a list of the unique neighborhoods is inside the encoder itself, under the attribute `.categories_`. We convert this to a 2D-array to be compatible with scikit-learn."
   ]
  },
  {
   "cell_type": "code",
   "execution_count": 30,
   "metadata": {
    "colab": {},
    "colab_type": "code",
    "id": "xxIWrGDsQgag"
   },
   "outputs": [
    {
     "data": {
      "text/html": [
       "<div>\n",
       "<style scoped>\n",
       "    .dataframe tbody tr th:only-of-type {\n",
       "        vertical-align: middle;\n",
       "    }\n",
       "\n",
       "    .dataframe tbody tr th {\n",
       "        vertical-align: top;\n",
       "    }\n",
       "\n",
       "    .dataframe thead th {\n",
       "        text-align: right;\n",
       "    }\n",
       "</style>\n",
       "<table border=\"1\" class=\"dataframe\">\n",
       "  <thead>\n",
       "    <tr style=\"text-align: right;\">\n",
       "      <th></th>\n",
       "      <th>Neighborhood</th>\n",
       "    </tr>\n",
       "  </thead>\n",
       "  <tbody>\n",
       "    <tr>\n",
       "      <th>0</th>\n",
       "      <td>Blmngtn</td>\n",
       "    </tr>\n",
       "    <tr>\n",
       "      <th>1</th>\n",
       "      <td>Blueste</td>\n",
       "    </tr>\n",
       "    <tr>\n",
       "      <th>2</th>\n",
       "      <td>BrDale</td>\n",
       "    </tr>\n",
       "    <tr>\n",
       "      <th>3</th>\n",
       "      <td>BrkSide</td>\n",
       "    </tr>\n",
       "    <tr>\n",
       "      <th>4</th>\n",
       "      <td>ClearCr</td>\n",
       "    </tr>\n",
       "    <tr>\n",
       "      <th>5</th>\n",
       "      <td>CollgCr</td>\n",
       "    </tr>\n",
       "    <tr>\n",
       "      <th>6</th>\n",
       "      <td>Crawfor</td>\n",
       "    </tr>\n",
       "    <tr>\n",
       "      <th>7</th>\n",
       "      <td>Edwards</td>\n",
       "    </tr>\n",
       "    <tr>\n",
       "      <th>8</th>\n",
       "      <td>Gilbert</td>\n",
       "    </tr>\n",
       "    <tr>\n",
       "      <th>9</th>\n",
       "      <td>Greens</td>\n",
       "    </tr>\n",
       "    <tr>\n",
       "      <th>10</th>\n",
       "      <td>GrnHill</td>\n",
       "    </tr>\n",
       "    <tr>\n",
       "      <th>11</th>\n",
       "      <td>IDOTRR</td>\n",
       "    </tr>\n",
       "    <tr>\n",
       "      <th>12</th>\n",
       "      <td>Landmrk</td>\n",
       "    </tr>\n",
       "    <tr>\n",
       "      <th>13</th>\n",
       "      <td>MeadowV</td>\n",
       "    </tr>\n",
       "    <tr>\n",
       "      <th>14</th>\n",
       "      <td>Mitchel</td>\n",
       "    </tr>\n",
       "    <tr>\n",
       "      <th>15</th>\n",
       "      <td>NAmes</td>\n",
       "    </tr>\n",
       "    <tr>\n",
       "      <th>16</th>\n",
       "      <td>NPkVill</td>\n",
       "    </tr>\n",
       "    <tr>\n",
       "      <th>17</th>\n",
       "      <td>NWAmes</td>\n",
       "    </tr>\n",
       "    <tr>\n",
       "      <th>18</th>\n",
       "      <td>NoRidge</td>\n",
       "    </tr>\n",
       "    <tr>\n",
       "      <th>19</th>\n",
       "      <td>NridgHt</td>\n",
       "    </tr>\n",
       "    <tr>\n",
       "      <th>20</th>\n",
       "      <td>OldTown</td>\n",
       "    </tr>\n",
       "    <tr>\n",
       "      <th>21</th>\n",
       "      <td>SWISU</td>\n",
       "    </tr>\n",
       "    <tr>\n",
       "      <th>22</th>\n",
       "      <td>Sawyer</td>\n",
       "    </tr>\n",
       "    <tr>\n",
       "      <th>23</th>\n",
       "      <td>SawyerW</td>\n",
       "    </tr>\n",
       "    <tr>\n",
       "      <th>24</th>\n",
       "      <td>Somerst</td>\n",
       "    </tr>\n",
       "    <tr>\n",
       "      <th>25</th>\n",
       "      <td>StoneBr</td>\n",
       "    </tr>\n",
       "    <tr>\n",
       "      <th>26</th>\n",
       "      <td>Timber</td>\n",
       "    </tr>\n",
       "    <tr>\n",
       "      <th>27</th>\n",
       "      <td>Veenker</td>\n",
       "    </tr>\n",
       "  </tbody>\n",
       "</table>\n",
       "</div>"
      ],
      "text/plain": [
       "   Neighborhood\n",
       "0       Blmngtn\n",
       "1       Blueste\n",
       "2        BrDale\n",
       "3       BrkSide\n",
       "4       ClearCr\n",
       "5       CollgCr\n",
       "6       Crawfor\n",
       "7       Edwards\n",
       "8       Gilbert\n",
       "9        Greens\n",
       "10      GrnHill\n",
       "11       IDOTRR\n",
       "12      Landmrk\n",
       "13      MeadowV\n",
       "14      Mitchel\n",
       "15        NAmes\n",
       "16      NPkVill\n",
       "17       NWAmes\n",
       "18      NoRidge\n",
       "19      NridgHt\n",
       "20      OldTown\n",
       "21        SWISU\n",
       "22       Sawyer\n",
       "23      SawyerW\n",
       "24      Somerst\n",
       "25      StoneBr\n",
       "26       Timber\n",
       "27      Veenker"
      ]
     },
     "execution_count": 30,
     "metadata": {},
     "output_type": "execute_result"
    }
   ],
   "source": [
    "X_test = pd.Series(enc.categories_[0], name=\"Neighborhood\").to_frame()\n",
    "X_test"
   ]
  },
  {
   "cell_type": "code",
   "execution_count": 31,
   "metadata": {
    "colab": {},
    "colab_type": "code",
    "id": "RuFNvJixQgak"
   },
   "outputs": [
    {
     "data": {
      "text/plain": [
       "array([196661.67853343, 143589.99996525, 105608.33329502, 124756.24993639,\n",
       "       208662.09086777, 201803.43463885, 207550.83489043, 130843.38119445,\n",
       "       190646.57563488, 193531.24996556, 279999.99996649, 103752.90316937,\n",
       "       136999.99996665,  95756.48644677, 162226.63151193, 145097.34992143,\n",
       "       140710.86952827, 188406.90831796, 330319.12671214, 322018.26493565,\n",
       "       123991.89178118, 135071.93745786, 136751.15221795, 184070.1839257 ,\n",
       "       229707.32400895, 324229.19603555, 246599.54161792, 248314.5832962 ])"
      ]
     },
     "execution_count": 31,
     "metadata": {},
     "output_type": "execute_result"
    }
   ],
   "source": [
    "model.predict(enc.transform(X_test))"
   ]
  },
  {
   "cell_type": "markdown",
   "metadata": {
    "colab_type": "text",
    "id": "g7TJj5ffQgas"
   },
   "source": [
    "It is a bit hard to tell which prediction corresponds to which neighborhood. Let's put these numbers into a `Series`, indexed by the neighborhood."
   ]
  },
  {
   "cell_type": "code",
   "execution_count": 32,
   "metadata": {
    "colab": {},
    "colab_type": "code",
    "id": "65micH-yQgat"
   },
   "outputs": [
    {
     "data": {
      "text/plain": [
       "Neighborhood\n",
       "Blmngtn    196661.678533\n",
       "Blueste    143589.999965\n",
       "BrDale     105608.333295\n",
       "BrkSide    124756.249936\n",
       "ClearCr    208662.090868\n",
       "CollgCr    201803.434639\n",
       "Crawfor    207550.834890\n",
       "Edwards    130843.381194\n",
       "Gilbert    190646.575635\n",
       "Greens     193531.249966\n",
       "GrnHill    279999.999966\n",
       "IDOTRR     103752.903169\n",
       "Landmrk    136999.999967\n",
       "MeadowV     95756.486447\n",
       "Mitchel    162226.631512\n",
       "NAmes      145097.349921\n",
       "NPkVill    140710.869528\n",
       "NWAmes     188406.908318\n",
       "NoRidge    330319.126712\n",
       "NridgHt    322018.264936\n",
       "OldTown    123991.891781\n",
       "SWISU      135071.937458\n",
       "Sawyer     136751.152218\n",
       "SawyerW    184070.183926\n",
       "Somerst    229707.324009\n",
       "StoneBr    324229.196036\n",
       "Timber     246599.541618\n",
       "Veenker    248314.583296\n",
       "dtype: float64"
      ]
     },
     "execution_count": 32,
     "metadata": {},
     "output_type": "execute_result"
    }
   ],
   "source": [
    "pd.Series(\n",
    "    model.predict(enc.transform(X_test)),\n",
    "    index=X_test[\"Neighborhood\"]\n",
    ")"
   ]
  },
  {
   "cell_type": "markdown",
   "metadata": {
    "colab_type": "text",
    "id": "rdybOz4IQgay"
   },
   "source": [
    "Could we have obtained these predictions some other way, without going through the trouble of fitting a linear regression model? Intuitively, if all we knew about a house was the neighborhood it was in, we would predict the average price of houses in that neighborhood."
   ]
  },
  {
   "cell_type": "code",
   "execution_count": 33,
   "metadata": {
    "colab": {},
    "colab_type": "code",
    "id": "Uw6vvpP3Qgaz"
   },
   "outputs": [
    {
     "data": {
      "text/plain": [
       "Neighborhood\n",
       "Blmngtn    196661.678571\n",
       "Blueste    143590.000000\n",
       "BrDale     105608.333333\n",
       "BrkSide    124756.250000\n",
       "ClearCr    208662.090909\n",
       "CollgCr    201803.434457\n",
       "Crawfor    207550.834951\n",
       "Edwards    130843.381443\n",
       "Gilbert    190646.575758\n",
       "Greens     193531.250000\n",
       "GrnHill    280000.000000\n",
       "IDOTRR     103752.903226\n",
       "Landmrk    137000.000000\n",
       "MeadowV     95756.486486\n",
       "Mitchel    162226.631579\n",
       "NAmes      145097.349887\n",
       "NPkVill    140710.869565\n",
       "NWAmes     188406.908397\n",
       "NoRidge    330319.126761\n",
       "NridgHt    322018.265060\n",
       "OldTown    123991.891213\n",
       "SWISU      135071.937500\n",
       "Sawyer     136751.152318\n",
       "SawyerW    184070.184000\n",
       "Somerst    229707.324176\n",
       "StoneBr    324229.196078\n",
       "Timber     246599.541667\n",
       "Veenker    248314.583333\n",
       "Name: SalePrice, dtype: float64"
      ]
     },
     "execution_count": 33,
     "metadata": {},
     "output_type": "execute_result"
    }
   ],
   "source": [
    "df_housing.groupby(\"Neighborhood\")[\"SalePrice\"].mean()"
   ]
  },
  {
   "cell_type": "markdown",
   "metadata": {
    "colab_type": "text",
    "id": "ler3YwSNQga6"
   },
   "source": [
    "These numbers match the predictions from our linear regression model exactly. Linear regression simply predicts the average price in each neighborhood. "
   ]
  },
  {
   "cell_type": "markdown",
   "metadata": {
    "colab_type": "text",
    "id": "d4cCuhK6Qga8"
   },
   "source": [
    "To see this mathematically, recall that linear regression minimizes the total squared distance between the observed price and the predicted price:\n",
    "\n",
    "$$ \\text{sum of } (\\text{price} - \\widehat{\\text{price}})^2. $$\n",
    "\n",
    "After we expand the **Neighborhood** column into 28 dummy variables (e.g., $I\\{ \\text{Blmngtn} \\}$, $I\\{ \\text{Blueste} \\}$, etc.), one for each neighborhood, we can write the predicted price in the linear regression model as \n",
    "\n",
    "$$ \\widehat{\\text{price}} = c_1 I\\{ \\text{Blmngtn} \\} + c_2 I\\{ \\text{Blueste} \\} + \\ldots + c_{28} I\\{ \\text{Veenker} \\}. $$\n",
    "\n",
    "(For simplicity, we have omitted the intercept term $b$.)\n",
    "\n",
    "Now, consider a house in Bloomington Heights, for which $I\\{ \\text{Blmngtn} \\} = 1$ and all of the other dummy variables $I\\{ \\text{Blueste} \\} = \\ldots = I\\{ \\text{Veenker} \\} = 0$. Then, $\\widehat{\\text{price}}$ for a house in Bloomington Heights is $c_1$. Likewise, $\\widehat{\\text{price}}$ for a house in Bluestem is $c_2$. And so forth.\n",
    "\n",
    "Now, we can reframe linear regression as learning the values $c_1, c_2, \\ldots, c_{28}$ that minimize\n",
    "\n",
    "$$ \\text{sum of } (\\text{price} - \\widehat{\\text{price}})^2 = \\underbrace{\\text{sum of } (\\text{price} - c_1)^2}_{\\text{over houses in Blmngtn}} + \\underbrace{\\text{sum of } (\\text{price} - c_2)^2}_{\\text{over houses in Blueste}} + \\ldots + \\underbrace{\\text{sum of } (\\text{price} - c_{28})^2}_{\\text{over houses in Veenker}}. $$ \n",
    "\n",
    "The value of $c$ that mimimizes the $\\text{sum of } (\\text{price} - c)^2$ is the mean of the prices. So $\\hat c_1$ will be the average price of houses in Bloomington Heights, $\\hat c_2$ the average price of houses in Bluestem, and so on. Since $\\hat c_1, \\hat c_2, \\ldots, \\hat c_{28}$ are also the predicted values for each neighborhood, this shows that linear regression will predict the average label in each category when there is only one categorical variable in the model."
   ]
  },
  {
   "cell_type": "markdown",
   "metadata": {
    "colab_type": "text",
    "id": "OHpASyuCQga-"
   },
   "source": [
    "Exercise 1 in this lesson asks you to investigate what $k$-nearest neighbors regression does in the same situation."
   ]
  },
  {
   "cell_type": "markdown",
   "metadata": {
    "colab_type": "text",
    "id": "tKEd982iQga_"
   },
   "source": [
    "## Mixing Quantitative and Categorical Features\n",
    "\n",
    "In general, we want to fit machine learning models that use a mix of both categorical and quantitative features. In this situation, we will want to apply the `OneHotEncoder` to only the categorical features. Scikit-learn provides a `ColumnTransformer` that allows us to selectively apply transformations to certain columns.\n",
    "\n",
    "For example, suppose we want to fit a $k$-nearest neighbors model to predict house price from quantitative features (square footage, number of bedrooms, number of full bathrooms) and categorical features (neighborhood, building type). We can use a `ColumnTransformer` to standardize the quantitative features and one-hot encode the categorical features."
   ]
  },
  {
   "cell_type": "code",
   "execution_count": 34,
   "metadata": {
    "colab": {},
    "colab_type": "code",
    "id": "pOlC1gUNQgbA"
   },
   "outputs": [
    {
     "data": {
      "text/html": [
       "<style>#sk-container-id-8 {color: black;background-color: white;}#sk-container-id-8 pre{padding: 0;}#sk-container-id-8 div.sk-toggleable {background-color: white;}#sk-container-id-8 label.sk-toggleable__label {cursor: pointer;display: block;width: 100%;margin-bottom: 0;padding: 0.3em;box-sizing: border-box;text-align: center;}#sk-container-id-8 label.sk-toggleable__label-arrow:before {content: \"▸\";float: left;margin-right: 0.25em;color: #696969;}#sk-container-id-8 label.sk-toggleable__label-arrow:hover:before {color: black;}#sk-container-id-8 div.sk-estimator:hover label.sk-toggleable__label-arrow:before {color: black;}#sk-container-id-8 div.sk-toggleable__content {max-height: 0;max-width: 0;overflow: hidden;text-align: left;background-color: #f0f8ff;}#sk-container-id-8 div.sk-toggleable__content pre {margin: 0.2em;color: black;border-radius: 0.25em;background-color: #f0f8ff;}#sk-container-id-8 input.sk-toggleable__control:checked~div.sk-toggleable__content {max-height: 200px;max-width: 100%;overflow: auto;}#sk-container-id-8 input.sk-toggleable__control:checked~label.sk-toggleable__label-arrow:before {content: \"▾\";}#sk-container-id-8 div.sk-estimator input.sk-toggleable__control:checked~label.sk-toggleable__label {background-color: #d4ebff;}#sk-container-id-8 div.sk-label input.sk-toggleable__control:checked~label.sk-toggleable__label {background-color: #d4ebff;}#sk-container-id-8 input.sk-hidden--visually {border: 0;clip: rect(1px 1px 1px 1px);clip: rect(1px, 1px, 1px, 1px);height: 1px;margin: -1px;overflow: hidden;padding: 0;position: absolute;width: 1px;}#sk-container-id-8 div.sk-estimator {font-family: monospace;background-color: #f0f8ff;border: 1px dotted black;border-radius: 0.25em;box-sizing: border-box;margin-bottom: 0.5em;}#sk-container-id-8 div.sk-estimator:hover {background-color: #d4ebff;}#sk-container-id-8 div.sk-parallel-item::after {content: \"\";width: 100%;border-bottom: 1px solid gray;flex-grow: 1;}#sk-container-id-8 div.sk-label:hover label.sk-toggleable__label {background-color: #d4ebff;}#sk-container-id-8 div.sk-serial::before {content: \"\";position: absolute;border-left: 1px solid gray;box-sizing: border-box;top: 0;bottom: 0;left: 50%;z-index: 0;}#sk-container-id-8 div.sk-serial {display: flex;flex-direction: column;align-items: center;background-color: white;padding-right: 0.2em;padding-left: 0.2em;position: relative;}#sk-container-id-8 div.sk-item {position: relative;z-index: 1;}#sk-container-id-8 div.sk-parallel {display: flex;align-items: stretch;justify-content: center;background-color: white;position: relative;}#sk-container-id-8 div.sk-item::before, #sk-container-id-8 div.sk-parallel-item::before {content: \"\";position: absolute;border-left: 1px solid gray;box-sizing: border-box;top: 0;bottom: 0;left: 50%;z-index: -1;}#sk-container-id-8 div.sk-parallel-item {display: flex;flex-direction: column;z-index: 1;position: relative;background-color: white;}#sk-container-id-8 div.sk-parallel-item:first-child::after {align-self: flex-end;width: 50%;}#sk-container-id-8 div.sk-parallel-item:last-child::after {align-self: flex-start;width: 50%;}#sk-container-id-8 div.sk-parallel-item:only-child::after {width: 0;}#sk-container-id-8 div.sk-dashed-wrapped {border: 1px dashed gray;margin: 0 0.4em 0.5em 0.4em;box-sizing: border-box;padding-bottom: 0.4em;background-color: white;}#sk-container-id-8 div.sk-label label {font-family: monospace;font-weight: bold;display: inline-block;line-height: 1.2em;}#sk-container-id-8 div.sk-label-container {text-align: center;}#sk-container-id-8 div.sk-container {/* jupyter's `normalize.less` sets `[hidden] { display: none; }` but bootstrap.min.css set `[hidden] { display: none !important; }` so we also need the `!important` here to be able to override the default hidden behavior on the sphinx rendered scikit-learn.org. See: https://github.com/scikit-learn/scikit-learn/issues/21755 */display: inline-block !important;position: relative;}#sk-container-id-8 div.sk-text-repr-fallback {display: none;}</style><div id=\"sk-container-id-8\" class=\"sk-top-container\"><div class=\"sk-text-repr-fallback\"><pre>ColumnTransformer(transformers=[(&#x27;standardscaler&#x27;, StandardScaler(),\n",
       "                                 [&#x27;Gr Liv Area&#x27;, &#x27;Bedroom AbvGr&#x27;, &#x27;Full Bath&#x27;]),\n",
       "                                (&#x27;onehotencoder&#x27;, OneHotEncoder(),\n",
       "                                 [&#x27;Neighborhood&#x27;, &#x27;Bldg Type&#x27;])])</pre><b>In a Jupyter environment, please rerun this cell to show the HTML representation or trust the notebook. <br />On GitHub, the HTML representation is unable to render, please try loading this page with nbviewer.org.</b></div><div class=\"sk-container\" hidden><div class=\"sk-item sk-dashed-wrapped\"><div class=\"sk-label-container\"><div class=\"sk-label sk-toggleable\"><input class=\"sk-toggleable__control sk-hidden--visually\" id=\"sk-estimator-id-28\" type=\"checkbox\" ><label for=\"sk-estimator-id-28\" class=\"sk-toggleable__label sk-toggleable__label-arrow\">ColumnTransformer</label><div class=\"sk-toggleable__content\"><pre>ColumnTransformer(transformers=[(&#x27;standardscaler&#x27;, StandardScaler(),\n",
       "                                 [&#x27;Gr Liv Area&#x27;, &#x27;Bedroom AbvGr&#x27;, &#x27;Full Bath&#x27;]),\n",
       "                                (&#x27;onehotencoder&#x27;, OneHotEncoder(),\n",
       "                                 [&#x27;Neighborhood&#x27;, &#x27;Bldg Type&#x27;])])</pre></div></div></div><div class=\"sk-parallel\"><div class=\"sk-parallel-item\"><div class=\"sk-item\"><div class=\"sk-label-container\"><div class=\"sk-label sk-toggleable\"><input class=\"sk-toggleable__control sk-hidden--visually\" id=\"sk-estimator-id-29\" type=\"checkbox\" ><label for=\"sk-estimator-id-29\" class=\"sk-toggleable__label sk-toggleable__label-arrow\">standardscaler</label><div class=\"sk-toggleable__content\"><pre>[&#x27;Gr Liv Area&#x27;, &#x27;Bedroom AbvGr&#x27;, &#x27;Full Bath&#x27;]</pre></div></div></div><div class=\"sk-serial\"><div class=\"sk-item\"><div class=\"sk-estimator sk-toggleable\"><input class=\"sk-toggleable__control sk-hidden--visually\" id=\"sk-estimator-id-30\" type=\"checkbox\" ><label for=\"sk-estimator-id-30\" class=\"sk-toggleable__label sk-toggleable__label-arrow\">StandardScaler</label><div class=\"sk-toggleable__content\"><pre>StandardScaler()</pre></div></div></div></div></div></div><div class=\"sk-parallel-item\"><div class=\"sk-item\"><div class=\"sk-label-container\"><div class=\"sk-label sk-toggleable\"><input class=\"sk-toggleable__control sk-hidden--visually\" id=\"sk-estimator-id-31\" type=\"checkbox\" ><label for=\"sk-estimator-id-31\" class=\"sk-toggleable__label sk-toggleable__label-arrow\">onehotencoder</label><div class=\"sk-toggleable__content\"><pre>[&#x27;Neighborhood&#x27;, &#x27;Bldg Type&#x27;]</pre></div></div></div><div class=\"sk-serial\"><div class=\"sk-item\"><div class=\"sk-estimator sk-toggleable\"><input class=\"sk-toggleable__control sk-hidden--visually\" id=\"sk-estimator-id-32\" type=\"checkbox\" ><label for=\"sk-estimator-id-32\" class=\"sk-toggleable__label sk-toggleable__label-arrow\">OneHotEncoder</label><div class=\"sk-toggleable__content\"><pre>OneHotEncoder()</pre></div></div></div></div></div></div></div></div></div></div>"
      ],
      "text/plain": [
       "ColumnTransformer(transformers=[('standardscaler', StandardScaler(),\n",
       "                                 ['Gr Liv Area', 'Bedroom AbvGr', 'Full Bath']),\n",
       "                                ('onehotencoder', OneHotEncoder(),\n",
       "                                 ['Neighborhood', 'Bldg Type'])])"
      ]
     },
     "execution_count": 34,
     "metadata": {},
     "output_type": "execute_result"
    }
   ],
   "source": [
    "from sklearn.compose import make_column_transformer\n",
    "from sklearn.preprocessing import StandardScaler, OneHotEncoder\n",
    "\n",
    "ct = make_column_transformer(\n",
    "    (StandardScaler(), [\"Gr Liv Area\", \"Bedroom AbvGr\", \"Full Bath\"]),\n",
    "    (OneHotEncoder(), [\"Neighborhood\", \"Bldg Type\"]),\n",
    "    remainder=\"drop\"  # all other columns in X will be dropped.\n",
    ")\n",
    "ct"
   ]
  },
  {
   "cell_type": "markdown",
   "metadata": {
    "colab_type": "text",
    "id": "afelS7eJQgbF"
   },
   "source": [
    "Next, we integrate this `ColumnTransformer` into a pipeline (refer to the previous lesson) with the `KNeighborsRegressor` model."
   ]
  },
  {
   "cell_type": "code",
   "execution_count": 35,
   "metadata": {
    "colab": {},
    "colab_type": "code",
    "id": "0a01yODHQgbI"
   },
   "outputs": [
    {
     "data": {
      "text/html": [
       "<style>#sk-container-id-9 {color: black;background-color: white;}#sk-container-id-9 pre{padding: 0;}#sk-container-id-9 div.sk-toggleable {background-color: white;}#sk-container-id-9 label.sk-toggleable__label {cursor: pointer;display: block;width: 100%;margin-bottom: 0;padding: 0.3em;box-sizing: border-box;text-align: center;}#sk-container-id-9 label.sk-toggleable__label-arrow:before {content: \"▸\";float: left;margin-right: 0.25em;color: #696969;}#sk-container-id-9 label.sk-toggleable__label-arrow:hover:before {color: black;}#sk-container-id-9 div.sk-estimator:hover label.sk-toggleable__label-arrow:before {color: black;}#sk-container-id-9 div.sk-toggleable__content {max-height: 0;max-width: 0;overflow: hidden;text-align: left;background-color: #f0f8ff;}#sk-container-id-9 div.sk-toggleable__content pre {margin: 0.2em;color: black;border-radius: 0.25em;background-color: #f0f8ff;}#sk-container-id-9 input.sk-toggleable__control:checked~div.sk-toggleable__content {max-height: 200px;max-width: 100%;overflow: auto;}#sk-container-id-9 input.sk-toggleable__control:checked~label.sk-toggleable__label-arrow:before {content: \"▾\";}#sk-container-id-9 div.sk-estimator input.sk-toggleable__control:checked~label.sk-toggleable__label {background-color: #d4ebff;}#sk-container-id-9 div.sk-label input.sk-toggleable__control:checked~label.sk-toggleable__label {background-color: #d4ebff;}#sk-container-id-9 input.sk-hidden--visually {border: 0;clip: rect(1px 1px 1px 1px);clip: rect(1px, 1px, 1px, 1px);height: 1px;margin: -1px;overflow: hidden;padding: 0;position: absolute;width: 1px;}#sk-container-id-9 div.sk-estimator {font-family: monospace;background-color: #f0f8ff;border: 1px dotted black;border-radius: 0.25em;box-sizing: border-box;margin-bottom: 0.5em;}#sk-container-id-9 div.sk-estimator:hover {background-color: #d4ebff;}#sk-container-id-9 div.sk-parallel-item::after {content: \"\";width: 100%;border-bottom: 1px solid gray;flex-grow: 1;}#sk-container-id-9 div.sk-label:hover label.sk-toggleable__label {background-color: #d4ebff;}#sk-container-id-9 div.sk-serial::before {content: \"\";position: absolute;border-left: 1px solid gray;box-sizing: border-box;top: 0;bottom: 0;left: 50%;z-index: 0;}#sk-container-id-9 div.sk-serial {display: flex;flex-direction: column;align-items: center;background-color: white;padding-right: 0.2em;padding-left: 0.2em;position: relative;}#sk-container-id-9 div.sk-item {position: relative;z-index: 1;}#sk-container-id-9 div.sk-parallel {display: flex;align-items: stretch;justify-content: center;background-color: white;position: relative;}#sk-container-id-9 div.sk-item::before, #sk-container-id-9 div.sk-parallel-item::before {content: \"\";position: absolute;border-left: 1px solid gray;box-sizing: border-box;top: 0;bottom: 0;left: 50%;z-index: -1;}#sk-container-id-9 div.sk-parallel-item {display: flex;flex-direction: column;z-index: 1;position: relative;background-color: white;}#sk-container-id-9 div.sk-parallel-item:first-child::after {align-self: flex-end;width: 50%;}#sk-container-id-9 div.sk-parallel-item:last-child::after {align-self: flex-start;width: 50%;}#sk-container-id-9 div.sk-parallel-item:only-child::after {width: 0;}#sk-container-id-9 div.sk-dashed-wrapped {border: 1px dashed gray;margin: 0 0.4em 0.5em 0.4em;box-sizing: border-box;padding-bottom: 0.4em;background-color: white;}#sk-container-id-9 div.sk-label label {font-family: monospace;font-weight: bold;display: inline-block;line-height: 1.2em;}#sk-container-id-9 div.sk-label-container {text-align: center;}#sk-container-id-9 div.sk-container {/* jupyter's `normalize.less` sets `[hidden] { display: none; }` but bootstrap.min.css set `[hidden] { display: none !important; }` so we also need the `!important` here to be able to override the default hidden behavior on the sphinx rendered scikit-learn.org. See: https://github.com/scikit-learn/scikit-learn/issues/21755 */display: inline-block !important;position: relative;}#sk-container-id-9 div.sk-text-repr-fallback {display: none;}</style><div id=\"sk-container-id-9\" class=\"sk-top-container\"><div class=\"sk-text-repr-fallback\"><pre>Pipeline(steps=[(&#x27;columntransformer&#x27;,\n",
       "                 ColumnTransformer(transformers=[(&#x27;standardscaler&#x27;,\n",
       "                                                  StandardScaler(),\n",
       "                                                  [&#x27;Gr Liv Area&#x27;,\n",
       "                                                   &#x27;Bedroom AbvGr&#x27;,\n",
       "                                                   &#x27;Full Bath&#x27;]),\n",
       "                                                 (&#x27;onehotencoder&#x27;,\n",
       "                                                  OneHotEncoder(),\n",
       "                                                  [&#x27;Neighborhood&#x27;,\n",
       "                                                   &#x27;Bldg Type&#x27;])])),\n",
       "                (&#x27;kneighborsregressor&#x27;, KNeighborsRegressor(n_neighbors=10))])</pre><b>In a Jupyter environment, please rerun this cell to show the HTML representation or trust the notebook. <br />On GitHub, the HTML representation is unable to render, please try loading this page with nbviewer.org.</b></div><div class=\"sk-container\" hidden><div class=\"sk-item sk-dashed-wrapped\"><div class=\"sk-label-container\"><div class=\"sk-label sk-toggleable\"><input class=\"sk-toggleable__control sk-hidden--visually\" id=\"sk-estimator-id-33\" type=\"checkbox\" ><label for=\"sk-estimator-id-33\" class=\"sk-toggleable__label sk-toggleable__label-arrow\">Pipeline</label><div class=\"sk-toggleable__content\"><pre>Pipeline(steps=[(&#x27;columntransformer&#x27;,\n",
       "                 ColumnTransformer(transformers=[(&#x27;standardscaler&#x27;,\n",
       "                                                  StandardScaler(),\n",
       "                                                  [&#x27;Gr Liv Area&#x27;,\n",
       "                                                   &#x27;Bedroom AbvGr&#x27;,\n",
       "                                                   &#x27;Full Bath&#x27;]),\n",
       "                                                 (&#x27;onehotencoder&#x27;,\n",
       "                                                  OneHotEncoder(),\n",
       "                                                  [&#x27;Neighborhood&#x27;,\n",
       "                                                   &#x27;Bldg Type&#x27;])])),\n",
       "                (&#x27;kneighborsregressor&#x27;, KNeighborsRegressor(n_neighbors=10))])</pre></div></div></div><div class=\"sk-serial\"><div class=\"sk-item sk-dashed-wrapped\"><div class=\"sk-label-container\"><div class=\"sk-label sk-toggleable\"><input class=\"sk-toggleable__control sk-hidden--visually\" id=\"sk-estimator-id-34\" type=\"checkbox\" ><label for=\"sk-estimator-id-34\" class=\"sk-toggleable__label sk-toggleable__label-arrow\">columntransformer: ColumnTransformer</label><div class=\"sk-toggleable__content\"><pre>ColumnTransformer(transformers=[(&#x27;standardscaler&#x27;, StandardScaler(),\n",
       "                                 [&#x27;Gr Liv Area&#x27;, &#x27;Bedroom AbvGr&#x27;, &#x27;Full Bath&#x27;]),\n",
       "                                (&#x27;onehotencoder&#x27;, OneHotEncoder(),\n",
       "                                 [&#x27;Neighborhood&#x27;, &#x27;Bldg Type&#x27;])])</pre></div></div></div><div class=\"sk-parallel\"><div class=\"sk-parallel-item\"><div class=\"sk-item\"><div class=\"sk-label-container\"><div class=\"sk-label sk-toggleable\"><input class=\"sk-toggleable__control sk-hidden--visually\" id=\"sk-estimator-id-35\" type=\"checkbox\" ><label for=\"sk-estimator-id-35\" class=\"sk-toggleable__label sk-toggleable__label-arrow\">standardscaler</label><div class=\"sk-toggleable__content\"><pre>[&#x27;Gr Liv Area&#x27;, &#x27;Bedroom AbvGr&#x27;, &#x27;Full Bath&#x27;]</pre></div></div></div><div class=\"sk-serial\"><div class=\"sk-item\"><div class=\"sk-estimator sk-toggleable\"><input class=\"sk-toggleable__control sk-hidden--visually\" id=\"sk-estimator-id-36\" type=\"checkbox\" ><label for=\"sk-estimator-id-36\" class=\"sk-toggleable__label sk-toggleable__label-arrow\">StandardScaler</label><div class=\"sk-toggleable__content\"><pre>StandardScaler()</pre></div></div></div></div></div></div><div class=\"sk-parallel-item\"><div class=\"sk-item\"><div class=\"sk-label-container\"><div class=\"sk-label sk-toggleable\"><input class=\"sk-toggleable__control sk-hidden--visually\" id=\"sk-estimator-id-37\" type=\"checkbox\" ><label for=\"sk-estimator-id-37\" class=\"sk-toggleable__label sk-toggleable__label-arrow\">onehotencoder</label><div class=\"sk-toggleable__content\"><pre>[&#x27;Neighborhood&#x27;, &#x27;Bldg Type&#x27;]</pre></div></div></div><div class=\"sk-serial\"><div class=\"sk-item\"><div class=\"sk-estimator sk-toggleable\"><input class=\"sk-toggleable__control sk-hidden--visually\" id=\"sk-estimator-id-38\" type=\"checkbox\" ><label for=\"sk-estimator-id-38\" class=\"sk-toggleable__label sk-toggleable__label-arrow\">OneHotEncoder</label><div class=\"sk-toggleable__content\"><pre>OneHotEncoder()</pre></div></div></div></div></div></div></div></div><div class=\"sk-item\"><div class=\"sk-estimator sk-toggleable\"><input class=\"sk-toggleable__control sk-hidden--visually\" id=\"sk-estimator-id-39\" type=\"checkbox\" ><label for=\"sk-estimator-id-39\" class=\"sk-toggleable__label sk-toggleable__label-arrow\">KNeighborsRegressor</label><div class=\"sk-toggleable__content\"><pre>KNeighborsRegressor(n_neighbors=10)</pre></div></div></div></div></div></div></div>"
      ],
      "text/plain": [
       "Pipeline(steps=[('columntransformer',\n",
       "                 ColumnTransformer(transformers=[('standardscaler',\n",
       "                                                  StandardScaler(),\n",
       "                                                  ['Gr Liv Area',\n",
       "                                                   'Bedroom AbvGr',\n",
       "                                                   'Full Bath']),\n",
       "                                                 ('onehotencoder',\n",
       "                                                  OneHotEncoder(),\n",
       "                                                  ['Neighborhood',\n",
       "                                                   'Bldg Type'])])),\n",
       "                ('kneighborsregressor', KNeighborsRegressor(n_neighbors=10))])"
      ]
     },
     "execution_count": 35,
     "metadata": {},
     "output_type": "execute_result"
    }
   ],
   "source": [
    "from sklearn.pipeline import make_pipeline\n",
    "from sklearn.neighbors import KNeighborsRegressor\n",
    "\n",
    "pipeline = make_pipeline(\n",
    "    ct,\n",
    "    KNeighborsRegressor(n_neighbors=10)\n",
    ")\n",
    "\n",
    "pipeline.fit(X=df_housing[[\"Gr Liv Area\", \"Bedroom AbvGr\", \"Full Bath\",\n",
    "                           \"Neighborhood\", \"Bldg Type\"]], \n",
    "             y=df_housing[\"SalePrice\"])"
   ]
  },
  {
   "cell_type": "markdown",
   "metadata": {
    "colab_type": "text",
    "id": "E_H2s5R3QgbM"
   },
   "source": [
    "Now, if we wanted to use this model to predict the price of a 3BR/2BA, 1700 sqft single-family house in Bloomington Heights, we could create a `Series` with this information, and call `pipeline.predict()` on a 2D-array with this single row."
   ]
  },
  {
   "cell_type": "code",
   "execution_count": 36,
   "metadata": {
    "colab": {},
    "colab_type": "code",
    "id": "__A47DO-QgbO"
   },
   "outputs": [
    {
     "name": "stderr",
     "output_type": "stream",
     "text": [
      "/var/folders/15/vdzhjh015bg5yt68s5n8y4bc0000gn/T/ipykernel_92268/248949205.py:1: FutureWarning: The default dtype for empty Series will be 'object' instead of 'float64' in a future version. Specify a dtype explicitly to silence this warning.\n",
      "  x_test = pd.Series()\n"
     ]
    },
    {
     "data": {
      "text/plain": [
       "array([251550.])"
      ]
     },
     "execution_count": 36,
     "metadata": {},
     "output_type": "execute_result"
    }
   ],
   "source": [
    "x_test = pd.Series()\n",
    "x_test[\"Gr Liv Area\"] = 1700\n",
    "x_test[\"Bedroom AbvGr\"] = 3\n",
    "x_test[\"Full Bath\"] = 2\n",
    "x_test[\"Neighborhood\"] = \"Blmngtn\"\n",
    "x_test[\"Bldg Type\"] = \"1Fam\"\n",
    "\n",
    "pipeline.predict(X=pd.DataFrame([x_test]))"
   ]
  },
  {
   "cell_type": "markdown",
   "metadata": {
    "colab_type": "text",
    "id": "pmHVpKhBQgbU"
   },
   "source": [
    "So this house is predicted to cost $251,550."
   ]
  },
  {
   "cell_type": "markdown",
   "metadata": {
    "colab_type": "text",
    "id": "TO3FhdpTQgbV"
   },
   "source": [
    "## Exercises"
   ]
  },
  {
   "cell_type": "markdown",
   "metadata": {
    "colab_type": "text",
    "id": "a0lC3xbFQgbW"
   },
   "source": [
    "1\\. Using the Ames data set, build a $10$-nearest neighbors model to predict house price using **Neighborhood** as the only feature. How do the predictions compare with just using the mean house price of each neighborhood? If there are any discrepancies, can you explain why?"
   ]
  },
  {
   "cell_type": "code",
   "execution_count": 37,
   "metadata": {},
   "outputs": [
    {
     "data": {
      "text/html": [
       "<div>\n",
       "<style scoped>\n",
       "    .dataframe tbody tr th:only-of-type {\n",
       "        vertical-align: middle;\n",
       "    }\n",
       "\n",
       "    .dataframe tbody tr th {\n",
       "        vertical-align: top;\n",
       "    }\n",
       "\n",
       "    .dataframe thead th {\n",
       "        text-align: right;\n",
       "    }\n",
       "</style>\n",
       "<table border=\"1\" class=\"dataframe\">\n",
       "  <thead>\n",
       "    <tr style=\"text-align: right;\">\n",
       "      <th></th>\n",
       "      <th>PID</th>\n",
       "      <th>MS SubClass</th>\n",
       "      <th>MS Zoning</th>\n",
       "      <th>Lot Frontage</th>\n",
       "      <th>Lot Area</th>\n",
       "      <th>Street</th>\n",
       "      <th>Alley</th>\n",
       "      <th>Lot Shape</th>\n",
       "      <th>Land Contour</th>\n",
       "      <th>Utilities</th>\n",
       "      <th>...</th>\n",
       "      <th>Pool QC</th>\n",
       "      <th>Fence</th>\n",
       "      <th>Misc Feature</th>\n",
       "      <th>Misc Val</th>\n",
       "      <th>Mo Sold</th>\n",
       "      <th>Yr Sold</th>\n",
       "      <th>Sale Type</th>\n",
       "      <th>Sale Condition</th>\n",
       "      <th>SalePrice</th>\n",
       "      <th>log(SalePrice)</th>\n",
       "    </tr>\n",
       "    <tr>\n",
       "      <th>Order</th>\n",
       "      <th></th>\n",
       "      <th></th>\n",
       "      <th></th>\n",
       "      <th></th>\n",
       "      <th></th>\n",
       "      <th></th>\n",
       "      <th></th>\n",
       "      <th></th>\n",
       "      <th></th>\n",
       "      <th></th>\n",
       "      <th></th>\n",
       "      <th></th>\n",
       "      <th></th>\n",
       "      <th></th>\n",
       "      <th></th>\n",
       "      <th></th>\n",
       "      <th></th>\n",
       "      <th></th>\n",
       "      <th></th>\n",
       "      <th></th>\n",
       "      <th></th>\n",
       "    </tr>\n",
       "  </thead>\n",
       "  <tbody>\n",
       "    <tr>\n",
       "      <th>1</th>\n",
       "      <td>526301100</td>\n",
       "      <td>20</td>\n",
       "      <td>RL</td>\n",
       "      <td>141.0</td>\n",
       "      <td>31770</td>\n",
       "      <td>Pave</td>\n",
       "      <td>NaN</td>\n",
       "      <td>IR1</td>\n",
       "      <td>Lvl</td>\n",
       "      <td>AllPub</td>\n",
       "      <td>...</td>\n",
       "      <td>NaN</td>\n",
       "      <td>NaN</td>\n",
       "      <td>NaN</td>\n",
       "      <td>0</td>\n",
       "      <td>5</td>\n",
       "      <td>2010</td>\n",
       "      <td>WD</td>\n",
       "      <td>Normal</td>\n",
       "      <td>215000</td>\n",
       "      <td>12.278393</td>\n",
       "    </tr>\n",
       "    <tr>\n",
       "      <th>2</th>\n",
       "      <td>526350040</td>\n",
       "      <td>20</td>\n",
       "      <td>RH</td>\n",
       "      <td>80.0</td>\n",
       "      <td>11622</td>\n",
       "      <td>Pave</td>\n",
       "      <td>NaN</td>\n",
       "      <td>Reg</td>\n",
       "      <td>Lvl</td>\n",
       "      <td>AllPub</td>\n",
       "      <td>...</td>\n",
       "      <td>NaN</td>\n",
       "      <td>MnPrv</td>\n",
       "      <td>NaN</td>\n",
       "      <td>0</td>\n",
       "      <td>6</td>\n",
       "      <td>2010</td>\n",
       "      <td>WD</td>\n",
       "      <td>Normal</td>\n",
       "      <td>105000</td>\n",
       "      <td>11.561716</td>\n",
       "    </tr>\n",
       "    <tr>\n",
       "      <th>3</th>\n",
       "      <td>526351010</td>\n",
       "      <td>20</td>\n",
       "      <td>RL</td>\n",
       "      <td>81.0</td>\n",
       "      <td>14267</td>\n",
       "      <td>Pave</td>\n",
       "      <td>NaN</td>\n",
       "      <td>IR1</td>\n",
       "      <td>Lvl</td>\n",
       "      <td>AllPub</td>\n",
       "      <td>...</td>\n",
       "      <td>NaN</td>\n",
       "      <td>NaN</td>\n",
       "      <td>Gar2</td>\n",
       "      <td>12500</td>\n",
       "      <td>6</td>\n",
       "      <td>2010</td>\n",
       "      <td>WD</td>\n",
       "      <td>Normal</td>\n",
       "      <td>172000</td>\n",
       "      <td>12.055250</td>\n",
       "    </tr>\n",
       "    <tr>\n",
       "      <th>4</th>\n",
       "      <td>526353030</td>\n",
       "      <td>20</td>\n",
       "      <td>RL</td>\n",
       "      <td>93.0</td>\n",
       "      <td>11160</td>\n",
       "      <td>Pave</td>\n",
       "      <td>NaN</td>\n",
       "      <td>Reg</td>\n",
       "      <td>Lvl</td>\n",
       "      <td>AllPub</td>\n",
       "      <td>...</td>\n",
       "      <td>NaN</td>\n",
       "      <td>NaN</td>\n",
       "      <td>NaN</td>\n",
       "      <td>0</td>\n",
       "      <td>4</td>\n",
       "      <td>2010</td>\n",
       "      <td>WD</td>\n",
       "      <td>Normal</td>\n",
       "      <td>244000</td>\n",
       "      <td>12.404924</td>\n",
       "    </tr>\n",
       "    <tr>\n",
       "      <th>5</th>\n",
       "      <td>527105010</td>\n",
       "      <td>60</td>\n",
       "      <td>RL</td>\n",
       "      <td>74.0</td>\n",
       "      <td>13830</td>\n",
       "      <td>Pave</td>\n",
       "      <td>NaN</td>\n",
       "      <td>IR1</td>\n",
       "      <td>Lvl</td>\n",
       "      <td>AllPub</td>\n",
       "      <td>...</td>\n",
       "      <td>NaN</td>\n",
       "      <td>MnPrv</td>\n",
       "      <td>NaN</td>\n",
       "      <td>0</td>\n",
       "      <td>3</td>\n",
       "      <td>2010</td>\n",
       "      <td>WD</td>\n",
       "      <td>Normal</td>\n",
       "      <td>189900</td>\n",
       "      <td>12.154253</td>\n",
       "    </tr>\n",
       "  </tbody>\n",
       "</table>\n",
       "<p>5 rows × 82 columns</p>\n",
       "</div>"
      ],
      "text/plain": [
       "             PID  MS SubClass MS Zoning  Lot Frontage  Lot Area Street Alley  \\\n",
       "Order                                                                          \n",
       "1      526301100           20        RL         141.0     31770   Pave   NaN   \n",
       "2      526350040           20        RH          80.0     11622   Pave   NaN   \n",
       "3      526351010           20        RL          81.0     14267   Pave   NaN   \n",
       "4      526353030           20        RL          93.0     11160   Pave   NaN   \n",
       "5      527105010           60        RL          74.0     13830   Pave   NaN   \n",
       "\n",
       "      Lot Shape Land Contour Utilities  ... Pool QC  Fence Misc Feature  \\\n",
       "Order                                   ...                               \n",
       "1           IR1          Lvl    AllPub  ...     NaN    NaN          NaN   \n",
       "2           Reg          Lvl    AllPub  ...     NaN  MnPrv          NaN   \n",
       "3           IR1          Lvl    AllPub  ...     NaN    NaN         Gar2   \n",
       "4           Reg          Lvl    AllPub  ...     NaN    NaN          NaN   \n",
       "5           IR1          Lvl    AllPub  ...     NaN  MnPrv          NaN   \n",
       "\n",
       "      Misc Val Mo Sold Yr Sold Sale Type  Sale Condition  SalePrice  \\\n",
       "Order                                                                 \n",
       "1            0       5    2010       WD           Normal     215000   \n",
       "2            0       6    2010       WD           Normal     105000   \n",
       "3        12500       6    2010       WD           Normal     172000   \n",
       "4            0       4    2010       WD           Normal     244000   \n",
       "5            0       3    2010       WD           Normal     189900   \n",
       "\n",
       "       log(SalePrice)  \n",
       "Order                  \n",
       "1           12.278393  \n",
       "2           11.561716  \n",
       "3           12.055250  \n",
       "4           12.404924  \n",
       "5           12.154253  \n",
       "\n",
       "[5 rows x 82 columns]"
      ]
     },
     "execution_count": 37,
     "metadata": {},
     "output_type": "execute_result"
    }
   ],
   "source": [
    "ames_df = pd.read_csv(\"AmesHousing.txt\", sep='\\t', index_col=\"Order\")\n",
    "#ames_df.head()\n",
    "ames_train = ames_df.loc[:2344].copy()\n",
    "ames_test = ames_df.loc[2345:].copy()\n",
    "\n",
    "# Log transform the target.\n",
    "ames_train[\"log(SalePrice)\"] = np.log(ames_train[\"SalePrice\"])\n",
    "ames_train.head()"
   ]
  },
  {
   "cell_type": "code",
   "execution_count": 38,
   "metadata": {},
   "outputs": [
    {
     "data": {
      "text/plain": [
       "array([193780. , 193780. , 161400. , 193780. , 281066.8, 193780. ,\n",
       "       215220. , 193780. , 161400. , 193780. , 193780. , 193780. ,\n",
       "       281066.8, 193780. , 193780. , 193780. , 193780. , 193780. ,\n",
       "       193780. , 161400. , 193780. , 193780. , 161400. , 193780. ,\n",
       "       193780. , 193780. , 161400. , 193780. , 161400. , 161400. ,\n",
       "       193780. , 193780. , 161400. , 193780. , 193780. , 281066.8,\n",
       "       281066.8, 161400. , 161400. , 281066.8, 161400. , 193780. ,\n",
       "       281066.8, 281066.8, 281066.8, 193780. , 193780. , 281066.8,\n",
       "       193780. , 281066.8, 281066.8, 193780. , 193780. , 161400. ,\n",
       "       161400. , 161400. , 281066.8, 193780. , 193780. , 161400. ,\n",
       "       161400. , 161400. , 161400. , 191919.6, 161400. , 161400. ,\n",
       "       193780. , 193780. , 193780. , 193780. , 281066.8, 193780. ,\n",
       "       193780. , 281066.8, 193780. , 161400. , 161400. , 161400. ,\n",
       "       161400. , 161400. , 161400. , 161400. , 161400. , 161400. ,\n",
       "       191919.6, 161400. , 281066.8, 193780. , 193780. , 193780. ,\n",
       "       193780. , 193780. , 193780. , 193780. , 281066.8, 193780. ,\n",
       "       281066.8, 281066.8, 193780. , 193780. , 193780. , 281066.8,\n",
       "       281066.8, 193780. , 281066.8, 281066.8, 281066.8, 281066.8,\n",
       "       281066.8, 193780. , 193780. , 161400. , 191919.6, 193780. ,\n",
       "       193780. , 193780. , 161400. , 193780. , 193780. , 193780. ,\n",
       "       193780. , 193780. , 193780. , 161400. , 193780. , 161400. ,\n",
       "       193780. , 193780. , 193780. , 193780. , 193780. , 193780. ,\n",
       "       193780. , 193780. , 193780. , 193780. , 161400. , 161400. ,\n",
       "       193780. , 161400. , 193780. , 193780. , 168223.6, 281066.8,\n",
       "       161400. , 193780. , 193780. , 193780. , 161400. , 193780. ,\n",
       "       193780. , 193780. , 193780. , 193780. , 193780. , 281066.8,\n",
       "       193780. , 215220. , 281066.8, 161400. , 191919.6, 191919.6,\n",
       "       161400. , 161400. , 161400. , 161400. , 161400. , 193780. ,\n",
       "       193780. , 161400. , 193780. , 193780. , 161400. , 193780. ,\n",
       "       191919.6, 191919.6, 191919.6, 191919.6, 190137.5, 161400. ,\n",
       "       281066.8, 193780. , 193780. , 281066.8, 281066.8, 193780. ,\n",
       "       193780. , 193780. , 193780. , 281066.8, 161400. , 193780. ,\n",
       "       193780. , 193780. , 193780. , 191919.6, 281066.8, 193780. ,\n",
       "       193780. , 281066.8, 193780. , 193780. , 193780. , 281066.8,\n",
       "       161400. , 193780. , 193780. , 161400. , 161400. , 161400. ,\n",
       "       193780. , 161400. , 191919.6, 193780. , 193780. , 161400. ,\n",
       "       193780. , 281066.8, 193780. , 193780. , 161400. , 281066.8,\n",
       "       193780. , 161400. , 281066.8, 161400. , 281066.8, 161400. ,\n",
       "       193780. , 193780. , 193780. , 193780. , 193780. , 193780. ,\n",
       "       161400. , 193780. , 161400. , 161400. , 193780. , 161400. ,\n",
       "       161400. , 161400. , 193780. , 161400. , 193780. , 161400. ,\n",
       "       193780. , 161400. , 215220. , 193780. , 161400. , 161400. ,\n",
       "       161400. , 161400. , 161400. , 191919.6, 161400. , 193780. ,\n",
       "       281066.8, 193780. , 193780. , 193780. , 193780. , 193780. ,\n",
       "       193780. , 193780. , 193780. , 161400. , 193780. , 161400. ,\n",
       "       161400. , 193780. , 161400. , 193780. , 161400. , 193780. ,\n",
       "       281066.8, 161400. , 161400. , 193780. , 161400. , 161400. ,\n",
       "       161400. , 281066.8, 193780. , 193780. , 193780. , 193780. ,\n",
       "       193780. , 193780. , 193780. , 215220. , 193780. , 193780. ,\n",
       "       281066.8, 193780. , 193780. , 281066.8, 161400. , 161400. ,\n",
       "       281066.8, 161400. , 161400. , 193780. , 161400. , 161400. ,\n",
       "       161400. , 193780. , 215220. , 191919.6, 193780. , 193780. ,\n",
       "       161400. , 281066.8, 281066.8, 161400. , 215220. , 193780. ,\n",
       "       193780. , 193780. , 281066.8, 281066.8, 281066.8, 161400. ,\n",
       "       193780. , 161400. , 161400. , 193780. , 161400. , 193780. ,\n",
       "       193780. , 193780. , 193780. , 193780. , 193780. , 161400. ,\n",
       "       193780. , 193780. , 161400. , 161400. , 161400. , 161400. ,\n",
       "       215220. , 193780. , 161400. , 161400. , 193780. , 193780. ,\n",
       "       161400. , 193780. , 161400. , 193780. , 161400. , 193780. ,\n",
       "       193780. , 281066.8, 193780. , 193780. , 161400. , 161400. ,\n",
       "       161400. , 193780. , 161400. , 193780. , 193780. , 193780. ,\n",
       "       161400. , 193780. , 193780. , 193780. , 193780. , 193780. ,\n",
       "       193780. , 168223.6, 168223.6, 281066.8, 193780. , 193780. ,\n",
       "       161400. , 190137.5, 193780. , 161400. , 191919.6, 193780. ,\n",
       "       161400. , 193780. , 161400. , 161400. , 193780. , 193780. ,\n",
       "       193780. , 281066.8, 281066.8, 215220. , 193780. , 193780. ,\n",
       "       193780. , 281066.8, 215220. , 161400. , 193780. , 281066.8,\n",
       "       193780. , 281066.8, 193780. , 161400. , 193780. , 161400. ,\n",
       "       161400. , 161400. , 193780. , 161400. , 193780. , 193780. ,\n",
       "       193780. , 161400. , 193780. , 193780. , 193780. , 193780. ,\n",
       "       281066.8, 191919.6, 161400. , 193780. , 161400. , 193780. ,\n",
       "       193780. , 193780. , 193780. , 193780. , 193780. , 193780. ,\n",
       "       193780. , 193780. , 193780. , 193780. , 193780. , 193780. ,\n",
       "       193780. , 193780. , 193780. , 193780. , 193780. , 193780. ,\n",
       "       193780. , 193780. , 193780. , 193780. , 191919.6, 193780. ,\n",
       "       281066.8, 193780. , 193780. , 281066.8, 193780. , 281066.8,\n",
       "       193780. , 193780. , 191919.6, 191919.6, 193780. , 193780. ,\n",
       "       281066.8, 193780. , 193780. , 193780. , 193780. , 193780. ,\n",
       "       193780. , 193780. , 193780. , 193780. , 193780. , 193780. ,\n",
       "       161400. , 281066.8, 281066.8, 161400. , 193780. , 161400. ,\n",
       "       193780. , 161400. , 161400. , 161400. , 193780. , 193780. ,\n",
       "       193780. , 193780. , 193780. , 193780. , 193780. , 281066.8,\n",
       "       215220. , 281066.8, 161400. , 193780. , 193780. , 193780. ,\n",
       "       215220. , 191919.6, 193780. , 215220. , 161400. , 193780. ,\n",
       "       193780. , 193780. , 281066.8, 193780. , 281066.8, 281066.8,\n",
       "       281066.8, 193780. , 281066.8, 193780. , 193780. , 193780. ,\n",
       "       161400. , 161400. , 193780. , 281066.8, 281066.8, 193780. ,\n",
       "       193780. , 161400. , 193780. , 281066.8, 161400. , 193780. ,\n",
       "       161400. , 193780. , 161400. , 161400. , 161400. , 281066.8,\n",
       "       193780. , 161400. , 191919.6, 281066.8, 161400. , 161400. ,\n",
       "       161400. , 193780. , 281066.8, 193780. , 161400. , 193780. ,\n",
       "       215220. , 281066.8, 161400. , 161400. , 161400. , 161400. ,\n",
       "       161400. , 281066.8, 161400. , 193780. , 193780. , 161400. ,\n",
       "       193780. , 193780. , 161400. , 161400. , 161400. , 193780. ,\n",
       "       193780. , 281066.8, 215220. , 193780. , 281066.8, 191919.6,\n",
       "       193780. , 193780. , 191919.6, 193780. , 193780. , 193780. ,\n",
       "       193780. , 281066.8, 281066.8, 193780. , 281066.8, 193780. ,\n",
       "       161400. , 193780. , 161400. , 193780. ])"
      ]
     },
     "execution_count": 38,
     "metadata": {},
     "output_type": "execute_result"
    }
   ],
   "source": [
    "X_train = ames_train[[\"Neighborhood\"]]\n",
    "y_train = ames_train[\"SalePrice\"]\n",
    "\n",
    "home = pd.DataFrame({\n",
    "    'Neighborhood' : [3]\n",
    "})\n",
    "\n",
    "# Fit k-nearest neighbors\n",
    "model = KNeighborsRegressor(n_neighbors=10)\n",
    "model.fit(\n",
    "    X=ames_train[[\"Neighborhood\"]],\n",
    "    y=ames_train[\"SalePrice\"]\n",
    ")\n",
    "\n",
    "# Make predictions at those feature values.\n",
    "model.predict(\n",
    "    X = ames_test[[\"Neighborhood\"]]\n",
    ")"
   ]
  },
  {
   "cell_type": "code",
   "execution_count": 39,
   "metadata": {},
   "outputs": [
    {
     "data": {
      "text/plain": [
       "array([193780.])"
      ]
     },
     "execution_count": 39,
     "metadata": {},
     "output_type": "execute_result"
    }
   ],
   "source": [
    "model.predict(home)"
   ]
  },
  {
   "cell_type": "markdown",
   "metadata": {
    "colab_type": "text",
    "id": "D_wV5j2_QgbX"
   },
   "source": [
    "2\\. In the example from the lesson, we standardized the quantitative features and one-hot encoded the categorical features in parallel. This means that the dummy variables were not standardized before being passed into the $10$-nearest neighbors model. How would you modify the pipeline so that *all* of the variables are standardized?\n",
    "\n",
    "(_Hint:_ You may find the `remainder=\"passthrough\"` option of `ColumnTransformer` helpful.)"
   ]
  },
  {
   "cell_type": "code",
   "execution_count": null,
   "metadata": {},
   "outputs": [],
   "source": [
    "from sklearn.compose import make_column_transformer\n",
    "from sklearn.preprocessing import StandardScaler, OneHotEncoder\n",
    "\n",
    "ct = make_column_transformer(\n",
    "    (StandardScaler(), [\"Gr Liv Area\", \"Bedroom AbvGr\", \"Full Bath\"]),\n",
    "    (OneHotEncoder(), [\"Neighborhood\", \"Bldg Type\"]),\n",
    "    remainder=\"passthrough\"\n",
    ")\n",
    "ct"
   ]
  },
  {
   "cell_type": "markdown",
   "metadata": {
    "colab_type": "text",
    "id": "PFxX8W2FQgbb"
   },
   "source": [
    "3\\. Using the tips data set (tips.csv ), use a $5$-nearest neighbors model to predict how much a male diner will tip on a Sunday bill of \\$40.00."
   ]
  },
  {
   "cell_type": "code",
   "execution_count": 40,
   "metadata": {},
   "outputs": [
    {
     "data": {
      "text/html": [
       "<div>\n",
       "<style scoped>\n",
       "    .dataframe tbody tr th:only-of-type {\n",
       "        vertical-align: middle;\n",
       "    }\n",
       "\n",
       "    .dataframe tbody tr th {\n",
       "        vertical-align: top;\n",
       "    }\n",
       "\n",
       "    .dataframe thead th {\n",
       "        text-align: right;\n",
       "    }\n",
       "</style>\n",
       "<table border=\"1\" class=\"dataframe\">\n",
       "  <thead>\n",
       "    <tr style=\"text-align: right;\">\n",
       "      <th></th>\n",
       "      <th>obs</th>\n",
       "      <th>totbill</th>\n",
       "      <th>tip</th>\n",
       "      <th>sex</th>\n",
       "      <th>smoker</th>\n",
       "      <th>day</th>\n",
       "      <th>time</th>\n",
       "      <th>size</th>\n",
       "    </tr>\n",
       "  </thead>\n",
       "  <tbody>\n",
       "    <tr>\n",
       "      <th>0</th>\n",
       "      <td>1</td>\n",
       "      <td>16.99</td>\n",
       "      <td>1.01</td>\n",
       "      <td>2.0</td>\n",
       "      <td>No</td>\n",
       "      <td>7.0</td>\n",
       "      <td>Night</td>\n",
       "      <td>2</td>\n",
       "    </tr>\n",
       "    <tr>\n",
       "      <th>1</th>\n",
       "      <td>2</td>\n",
       "      <td>10.34</td>\n",
       "      <td>1.66</td>\n",
       "      <td>1.0</td>\n",
       "      <td>No</td>\n",
       "      <td>7.0</td>\n",
       "      <td>Night</td>\n",
       "      <td>3</td>\n",
       "    </tr>\n",
       "    <tr>\n",
       "      <th>2</th>\n",
       "      <td>3</td>\n",
       "      <td>21.01</td>\n",
       "      <td>3.50</td>\n",
       "      <td>1.0</td>\n",
       "      <td>No</td>\n",
       "      <td>7.0</td>\n",
       "      <td>Night</td>\n",
       "      <td>3</td>\n",
       "    </tr>\n",
       "    <tr>\n",
       "      <th>3</th>\n",
       "      <td>4</td>\n",
       "      <td>23.68</td>\n",
       "      <td>3.31</td>\n",
       "      <td>1.0</td>\n",
       "      <td>No</td>\n",
       "      <td>7.0</td>\n",
       "      <td>Night</td>\n",
       "      <td>2</td>\n",
       "    </tr>\n",
       "    <tr>\n",
       "      <th>4</th>\n",
       "      <td>5</td>\n",
       "      <td>24.59</td>\n",
       "      <td>3.61</td>\n",
       "      <td>2.0</td>\n",
       "      <td>No</td>\n",
       "      <td>7.0</td>\n",
       "      <td>Night</td>\n",
       "      <td>4</td>\n",
       "    </tr>\n",
       "  </tbody>\n",
       "</table>\n",
       "</div>"
      ],
      "text/plain": [
       "   obs  totbill   tip  sex smoker  day   time  size\n",
       "0    1    16.99  1.01  2.0     No  7.0  Night     2\n",
       "1    2    10.34  1.66  1.0     No  7.0  Night     3\n",
       "2    3    21.01  3.50  1.0     No  7.0  Night     3\n",
       "3    4    23.68  3.31  1.0     No  7.0  Night     2\n",
       "4    5    24.59  3.61  2.0     No  7.0  Night     4"
      ]
     },
     "execution_count": 40,
     "metadata": {},
     "output_type": "execute_result"
    }
   ],
   "source": [
    "tips_df = pd.read_csv(\"tips.csv\")\n",
    "\n",
    "tips_df['day'] = tips_df['day'].replace(\"Sun\" , '7').replace(\"Sat\" , '1').replace(\"Fri\" , '5').replace(\"Thu\" , '4').replace(\"Wed\" , '3').replace(\"Tue\" , '2').replace(\"Mon\" , '1').astype(float)\n",
    "\n",
    "tips_df['sex'] = tips_df['sex'].replace(\"M\" , '1').replace(\"F\" , '2').astype(float)\n",
    "\n",
    "tips_train = tips_df.loc[:200].copy()\n",
    "tips_test = tips_df.loc[201:].copy()\n",
    "\n",
    "# Log transform the target.\n",
    "#tips_train[\"tip\"] = np.log(tips_train[\"tip\"])\n",
    "tips_train.head()"
   ]
  },
  {
   "cell_type": "code",
   "execution_count": 41,
   "metadata": {},
   "outputs": [
    {
     "data": {
      "text/plain": [
       "array([2.214, 2.15 , 3.5  , 3.204, 3.5  , 3.506, 5.096, 3.574, 2.394,\n",
       "       3.28 , 3.506, 5.846, 2.6  , 3.298, 2.394, 3.298, 1.792, 1.428,\n",
       "       3.28 , 1.962, 2.19 , 1.534, 2.726, 1.9  , 2.726, 1.966, 3.156,\n",
       "       2.194, 3.532, 4.134, 2.226, 1.792, 1.72 , 2.226, 1.658, 1.946,\n",
       "       5.214, 5.49 , 3.28 , 3.786, 3.762, 3.082, 2.86 ])"
      ]
     },
     "execution_count": 41,
     "metadata": {},
     "output_type": "execute_result"
    }
   ],
   "source": [
    "X_train = tips_train[[\"totbill\", \"day\", \"sex\"]]\n",
    "y_train = tips_train[\"tip\"]\n",
    "\n",
    "z = pd.DataFrame({\n",
    "    'totbill' : [40],\n",
    "    'day' : [7],\n",
    "    'sex' : [1],\n",
    "})\n",
    "\n",
    "# Fit k-nearest neighbors\n",
    "model = KNeighborsRegressor(n_neighbors=5)\n",
    "model.fit(\n",
    "    X=tips_train[[\"totbill\", \"day\", \"sex\"]],\n",
    "    y=tips_train[\"tip\"]\n",
    ")\n",
    "\n",
    "# Make predictions at those feature values.\n",
    "model.predict(\n",
    "    X = tips_test[[\"totbill\", \"day\", \"sex\"]]\n",
    ")"
   ]
  },
  {
   "cell_type": "code",
   "execution_count": 42,
   "metadata": {},
   "outputs": [
    {
     "data": {
      "text/plain": [
       "array([4.346])"
      ]
     },
     "execution_count": 42,
     "metadata": {},
     "output_type": "execute_result"
    }
   ],
   "source": [
    "model.predict(z)"
   ]
  }
 ],
 "metadata": {
  "colab": {
   "name": "5.3 Categorical Variables in Regression Models.ipynb",
   "provenance": []
  },
  "kernelspec": {
   "display_name": "Python 3.10.4 64-bit",
   "language": "python",
   "name": "python3"
  },
  "language_info": {
   "codemirror_mode": {
    "name": "ipython",
    "version": 3
   },
   "file_extension": ".py",
   "mimetype": "text/x-python",
   "name": "python",
   "nbconvert_exporter": "python",
   "pygments_lexer": "ipython3",
   "version": "3.10.4"
  },
  "vscode": {
   "interpreter": {
    "hash": "949777d72b0d2535278d3dc13498b2535136f6dfe0678499012e853ee9abcab1"
   }
  }
 },
 "nbformat": 4,
 "nbformat_minor": 1
}
