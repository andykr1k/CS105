{
 "cells": [
  {
   "cell_type": "markdown",
   "metadata": {
    "colab_type": "text",
    "id": "tz5MYp2mgc1O"
   },
   "source": [
    "# Linear Regression\n",
    "\n",
    "In 1991, Orley Ashenfelter, an economics professor at Princeton University, stunned the wine world with a bold prediction. He predicted that the 1990 vintage of Bordeaux wines would be the \"wine of the century,'' even better than the prized 1961 vintage. Furthermore, he made this prediction without tasting even a drop of the wine, which had been placed in oak barrels just months earlier.\n",
    "\n",
    "How did Ashenfelter predict the quality of the wine without tasting it? He used data on past vintages to come up with the following formula for predicting wine quality:\n",
    "\n",
    "\\begin{align}\n",
    "    \\widehat{\\text{wine quality}} = -7.8 &+ 0.62 \\cdot (\\text{average summer temperature}) \\nonumber \\\\\n",
    "    &+ 0.0012 \\cdot (\\text{winter rainfall}) \\nonumber \\\\\n",
    "    &- 0.0037 \\cdot (\\text{harvest rainfall}) \\nonumber \\\\\n",
    "    &+ 0.024 \\cdot (\\text{age of the wine})\n",
    "    \\label{eq:ashenfelter}\n",
    "\\end{align}\n",
    "\n",
    "The variable on the left-hand side of this expression, wine quality, is what we are trying to predict and is called \n",
    "the _target_ (or _label_). (The hat symbol over  \"wine quality\" indicates that the values are predicted instead of observed.) The variables on the right-hand side, such as \"average summer temperature\" and \"harvest rainfall,\" are called _features_ and are the inputs used to predict the target. Although Ashenfelter had no way of knowing the quality of the 1990 wines, he did have the values of the features in 1990, so to make a prediction, all he had to do was plug those values into the equation above. In this way, he arrived at the following prediction for the quality of the 1990 Bordeaux, after they had been aged for 31 years (like the 1961 Bordeaux had been at the time):\n",
    "\n",
    "\\begin{align}\n",
    "    -7.8 &+ 0.62 \\cdot (18.7) \\nonumber \\\\\n",
    "    &+ 0.0012 \\cdot (468) \\nonumber \\\\\n",
    "    &- 0.0037 \\cdot (80) \\nonumber \\\\\n",
    "    &+ 0.024 \\cdot (31) = 4.8.  \\label{eq:ashenfelter_1990}\n",
    "\\end{align}\n",
    "\n",
    "For comparison, the quality of the prized 1961 vintage was 4.6.\n",
    "\n",
    "You can imagine the uproar from wine experts, who had spent years refining their palates to distinguish good wines from bad. Robert Parker, the most influential wine critic in America, called Ashenfelter's predictions \"ludicrous and absurd\", comparing him to a \"movie critic who never goes to see the movie but tells you how good it is based on the actors and the director.\" It did not help that Ashenfelter had also openly challenged Parker's rating of the 1986 Bordeaux. Parker thought they would be \"very good and sometimes exceptional.\" But according to Ashenfelter's formula, the low summer temperatures and high harvest rainfalls in 1986 doomed the vintage.\n",
    "\n",
    "Who was right? Thirty years later, Robert Parker ranks the 1986 Bordeaux well, but the 1990 Bordeaux wines are exceptional, with three of the six wines scoring a 98 on a 100-point scale.\n",
    "\n",
    "We will reproduce Ashenfelter's analysis, which is an example of _machine learning_. Machine learning is concerned with the general problem of how to use data to make predictions. The process of producing a model like Ashenfelter's from data is called _fitting_ a model (although the terms _training_ or _learning_ are also used), and the data that is used to fit the model is the\n",
    "_training data_."
   ]
  },
  {
   "cell_type": "markdown",
   "metadata": {
    "colab_type": "text",
    "id": "kBuD03vngc12"
   },
   "source": [
    "## Getting Familiar with the Data\n",
    "\n",
    "First, we read in the historical data that Ashenfelter used. The observational unit in this data set is the vintage, so we index this `DataFrame` by the year."
   ]
  },
  {
   "cell_type": "code",
   "execution_count": 535,
   "metadata": {
    "colab": {},
    "colab_type": "code",
    "id": "80drpebdgc14",
    "outputId": "1c56a82c-8fd1-47b8-8afe-0a503bdf03e3"
   },
   "outputs": [],
   "source": [
    "\n",
    "\n",
    "# data_dir = \"\"\n",
    "# bordeaux_df = pd.read_csv(\"bordeaux.csv\",index_col=\"year\")\n",
    "# bordeaux_df.head()"
   ]
  },
  {
   "cell_type": "markdown",
   "metadata": {
    "colab_type": "text",
    "id": "24fRMKkZgc1_"
   },
   "source": [
    "The **price** column is in 1981 dollars, normalized so that the 1961 Bordeaux has a price of 100. Price is a reasonable proxy for the quality of the wine. The **summer** column contains the average summer temperature (in degrees Celsius), while the **har** and **win** columns contain the harvest and winter rainfalls (in millimeters). The **sep** column stores the average temperature in September, which Ashenfelter did not include in his model."
   ]
  },
  {
   "cell_type": "markdown",
   "metadata": {
    "colab_type": "text",
    "id": "vL21wyW0gc2B"
   },
   "source": [
    "Let us also take a peek at the end of this `DataFrame`."
   ]
  },
  {
   "cell_type": "code",
   "execution_count": 536,
   "metadata": {
    "colab": {},
    "colab_type": "code",
    "id": "pY5XHupXgc2C",
    "outputId": "62270b0a-46b3-4dc8-b1c8-d4affcf02be0"
   },
   "outputs": [
    {
     "data": {
      "text/html": [
       "<div>\n",
       "<style scoped>\n",
       "    .dataframe tbody tr th:only-of-type {\n",
       "        vertical-align: middle;\n",
       "    }\n",
       "\n",
       "    .dataframe tbody tr th {\n",
       "        vertical-align: top;\n",
       "    }\n",
       "\n",
       "    .dataframe thead th {\n",
       "        text-align: right;\n",
       "    }\n",
       "</style>\n",
       "<table border=\"1\" class=\"dataframe\">\n",
       "  <thead>\n",
       "    <tr style=\"text-align: right;\">\n",
       "      <th></th>\n",
       "      <th>price</th>\n",
       "      <th>summer</th>\n",
       "      <th>har</th>\n",
       "      <th>sep</th>\n",
       "      <th>win</th>\n",
       "      <th>age</th>\n",
       "    </tr>\n",
       "    <tr>\n",
       "      <th>year</th>\n",
       "      <th></th>\n",
       "      <th></th>\n",
       "      <th></th>\n",
       "      <th></th>\n",
       "      <th></th>\n",
       "      <th></th>\n",
       "    </tr>\n",
       "  </thead>\n",
       "  <tbody>\n",
       "    <tr>\n",
       "      <th>1987</th>\n",
       "      <td>NaN</td>\n",
       "      <td>17.0</td>\n",
       "      <td>115</td>\n",
       "      <td>18.9</td>\n",
       "      <td>452</td>\n",
       "      <td>5</td>\n",
       "    </tr>\n",
       "    <tr>\n",
       "      <th>1988</th>\n",
       "      <td>NaN</td>\n",
       "      <td>17.1</td>\n",
       "      <td>59</td>\n",
       "      <td>16.8</td>\n",
       "      <td>808</td>\n",
       "      <td>4</td>\n",
       "    </tr>\n",
       "    <tr>\n",
       "      <th>1989</th>\n",
       "      <td>NaN</td>\n",
       "      <td>18.6</td>\n",
       "      <td>82</td>\n",
       "      <td>18.4</td>\n",
       "      <td>443</td>\n",
       "      <td>3</td>\n",
       "    </tr>\n",
       "    <tr>\n",
       "      <th>1990</th>\n",
       "      <td>NaN</td>\n",
       "      <td>18.7</td>\n",
       "      <td>80</td>\n",
       "      <td>19.3</td>\n",
       "      <td>468</td>\n",
       "      <td>2</td>\n",
       "    </tr>\n",
       "    <tr>\n",
       "      <th>1991</th>\n",
       "      <td>NaN</td>\n",
       "      <td>17.7</td>\n",
       "      <td>183</td>\n",
       "      <td>20.4</td>\n",
       "      <td>570</td>\n",
       "      <td>1</td>\n",
       "    </tr>\n",
       "  </tbody>\n",
       "</table>\n",
       "</div>"
      ],
      "text/plain": [
       "      price  summer  har   sep  win  age\n",
       "year                                    \n",
       "1987    NaN    17.0  115  18.9  452    5\n",
       "1988    NaN    17.1   59  16.8  808    4\n",
       "1989    NaN    18.6   82  18.4  443    3\n",
       "1990    NaN    18.7   80  19.3  468    2\n",
       "1991    NaN    17.7  183  20.4  570    1"
      ]
     },
     "execution_count": 536,
     "metadata": {},
     "output_type": "execute_result"
    }
   ],
   "source": [
    "bordeaux_df.tail()"
   ]
  },
  {
   "cell_type": "markdown",
   "metadata": {
    "colab_type": "text",
    "id": "28uXMx4kgc2H"
   },
   "source": [
    "We see that the `DataFrame` also contains data for vintages where the price is missing (including 1990, the vintage for which Ashenfelter made his prediction). In fact, prices are only available up to 1980, as it takes several years before wine quality can be estimated with much reliability), so only part of the `DataFrame` can be used for training. The rest of the data, where the features are known but the target is not, is called the _test data_. Machine learning fits a model to the training data, which is then used to predict the targets in the test data. The following code splits the `DataFrame` into the training and test sets."
   ]
  },
  {
   "cell_type": "code",
   "execution_count": 537,
   "metadata": {
    "colab": {},
    "colab_type": "code",
    "id": "BQ8xffEcgc2J"
   },
   "outputs": [],
   "source": [
    "bordeaux_train = bordeaux_df.loc[:1980].copy()\n",
    "bordeaux_test = bordeaux_df.loc[1981:].copy()"
   ]
  },
  {
   "cell_type": "markdown",
   "metadata": {
    "colab_type": "text",
    "id": "TXbNNzWRgc2O"
   },
   "source": [
    "## Warm-Up: A Model with One Feature\n",
    "\n",
    "Before fitting a model that uses all of the features, we first consider a model that uses only the age of the wine to predict the price. That is, we fit a model of the form\n",
    "\\begin{equation}\n",
    "    \\widehat{\\text{price}} = b + c \\cdot \\text{age},\n",
    "    \\label{eq:simple_linear_regression}\n",
    "\\end{equation}\n",
    "where $b$ and $c$ are numbers that we will learn from the training data. Models of the form above are called _linear regression_ models. (The way in which this model is \"linear\" will become apparent in a moment.) This model only involves two variables, **age** and **price**, so we can visualize the data easily using a scatterplot (see Chapter 3)."
   ]
  },
  {
   "cell_type": "code",
   "execution_count": 538,
   "metadata": {
    "colab": {},
    "colab_type": "code",
    "id": "v3KbYMldgc2Q",
    "outputId": "3f775bc0-63bb-44d3-9e53-47e655bd3782"
   },
   "outputs": [
    {
     "data": {
      "text/plain": [
       "<AxesSubplot:xlabel='age', ylabel='price'>"
      ]
     },
     "execution_count": 538,
     "metadata": {},
     "output_type": "execute_result"
    },
    {
     "data": {
      "image/png": "[encoded data removed]",
      "text/plain": [
       "<Figure size 432x288 with 1 Axes>"
      ]
     },
     "metadata": {
      "needs_background": "light"
     },
     "output_type": "display_data"
    }
   ],
   "source": [
    "bordeaux_train.plot.scatter(x=\"age\", y=\"price\")"
   ]
  },
  {
   "cell_type": "markdown",
   "metadata": {
    "colab_type": "text",
    "id": "ejFCGYtlgc2Y"
   },
   "source": [
    "Now, to fit models like the above to the training data, we use the scikit-learn package, which was used in Chapter 3 for transforming variables and calculating distances. However, its main purpose is to fit machine learning models, including linear regression. All models in scikit-learn are used in essentially the same way, following the three-step pattern:\n",
    "\n",
    "1. Declare the model.\n",
    "2. Fit the model to training data.\n",
    "3. Use the model to predict on test data.\n",
    "\n",
    "In the case of the linear regression model above, the code is as follows."
   ]
  },
  {
   "cell_type": "code",
   "execution_count": 539,
   "metadata": {
    "colab": {},
    "colab_type": "code",
    "id": "M5tdMqZugc2b",
    "outputId": "909360fa-5e8a-4c1c-db2b-4ac2eb809869"
   },
   "outputs": [],
   "source": [
    "\n",
    "# X_train = bordeaux_train[[\"age\"]]\n",
    "# X_test = bordeaux_test[[\"age\"]]\n",
    "# y_train = bordeaux_train[\"price\"]\n",
    "\n",
    "# model = LinearRegression()\n",
    "# model.fit(X=X_train, y=y_train)\n",
    "# model.predict(X=X_test)"
   ]
  },
  {
   "cell_type": "markdown",
   "metadata": {
    "colab_type": "text",
    "id": "vXNLm4DHgc2l"
   },
   "source": [
    "The parameters of `.fit()` are `X` for the features and `y` for the targets, which are assumed to be 2-D and 1-D arrays of numbers, respectively. So even when there is only one feature, as in this case, we still need to supply a 2-D array with one column---hence, the double brackets around `\"age\"` when defining `X_train` and `X_test`.\n",
    "\n",
    "By contrast, `.predict()` only has one parameter, `X` for the features. That is because its job is to predict the targets `y` for the given features. Note that the predictions will always be returned in the form of `numpy` arrays, no matter the type of the input data---so although we supplied `pandas` objects, `sklearn` still returned the predicted values as `numpy` arrays. The predictions are in the same order as the rows of `X`."
   ]
  },
  {
   "cell_type": "markdown",
   "metadata": {
    "colab_type": "text",
    "id": "XFtfFRqRgc2v"
   },
   "source": [
    "Because there are only two variables involved, the model above is a rare example of a machine learning model we can visualize. A general way to do this is to generate a fine grid of `X` values using `np.linspace()` and call `model.predict()` to get the predicted target at each of these values. We can then use these predictions to draw a curve which depicts the predicted value of `y` at each value of `X`. In the code below, we put the predictions in a `pandas` `Series`, indexed by the `X` values, and then call `.plot.line()`."
   ]
  },
  {
   "cell_type": "code",
   "execution_count": 540,
   "metadata": {
    "colab": {},
    "colab_type": "code",
    "id": "imqK17uOgc20",
    "outputId": "84d1776a-f644-465e-c047-87e8e2c6b54f"
   },
   "outputs": [],
   "source": [
    "# \n",
    "\n",
    "# X_new = pd.DataFrame()\n",
    "# # create a sequence of 200 evenly spaced numbers from 10 to 41\n",
    "# X_new[\"age\"] = np.linspace(10, 41, num=200)\n",
    "\n",
    "# # create a Series out of the predicted values\n",
    "# # (trailing underscore indicates fitted values)\n",
    "# y_new_ = pd.Series(\n",
    "#     model.predict(X_new), # y values in Series.plot.line()\n",
    "#     index=X_new[\"age\"]    # x values in Series.plot.line()\n",
    "# )\n",
    "\n",
    "# # plot the data, then the model\n",
    "# bordeaux_train.plot.scatter(x=\"age\", y=\"price\")\n",
    "# y_new_.plot.line()"
   ]
  },
  {
   "cell_type": "markdown",
   "metadata": {
    "colab_type": "text",
    "id": "4I42T5aGgc3E"
   },
   "source": [
    "The resulting plot is shown above. Notice that the curve is a straight line, which is why this model is called  _linear_ regression. In hindsight, this is obvious from the model equation: $b$ is simply the intercept and $c$ the slope of this line. All linear regression does is choose the intercept and slope to minimize the total squared distance between the points and the line---that is, between the observed and predicted prices. In mathematical terms, $b$ and $c$ are chosen to minimize\n",
    "\\begin{align}\n",
    "    & \\text{sum of } (\\text{price} - \\widehat{\\text{price}})^2 &= & & \\text{sum of } (\\text{price} - (b + c\\cdot \\text{age}))^2 \\\\\n",
    "    & \\text{over training data } &\\phantom{=} & & \\text{ over training data}.\n",
    "\\end{align}\n",
    "Since `sklearn` does this optimization for us, it is not necessary to understand the details of this process to extract useful insights out of linear regression. However, the math is explained in the appendix of this lesson for those who are curious."
   ]
  },
  {
   "cell_type": "markdown",
   "metadata": {
    "colab_type": "text",
    "id": "HjyNFyiNgc3J"
   },
   "source": [
    "## What to Do about Nonlinearity\n",
    "\n",
    "One question is whether the relationship between age and price is truly linear. In the graph above, it seems that the points deviate more from the line when prices are high than when they are low. To correct this, we need to spread out low prices and rein in high prices. Previously, we learned that this can be achieved by applying a log transformation to the prices. Let's add a column to the training data for the log-price."
   ]
  },
  {
   "cell_type": "code",
   "execution_count": 541,
   "metadata": {
    "colab": {},
    "colab_type": "code",
    "id": "OEdVbxqugc3O"
   },
   "outputs": [],
   "source": [
    "# bordeaux_train[\"log(price)\"] = np.log(bordeaux_train[\"price\"])"
   ]
  },
  {
   "cell_type": "markdown",
   "metadata": {
    "colab_type": "text",
    "id": "DKsRIkhdgc3V"
   },
   "source": [
    "Now, we will fit a linear regression model to predict this new target. That is, in contrast to the previous model, we now fit the model \n",
    "\\begin{equation}\n",
    "    \\widehat{\\text{log(price)}} = b + c \\cdot \\text{age},\n",
    "    \\label{eq:simple_linear_regression_log}\n",
    "\\end{equation}\n",
    "where $b$ and $c$ are chosen to minimize \n",
    "\\begin{equation}\n",
    "    \\text{sum of } (\\text{log(price)} - \\widehat{\\text{log(price)}})^2 \\text{ over training data}\n",
    "\\end{equation}\n",
    "over the training data. The code below fits this model."
   ]
  },
  {
   "cell_type": "code",
   "execution_count": 542,
   "metadata": {
    "colab": {},
    "colab_type": "code",
    "id": "leZ3mYykgc3W",
    "outputId": "544e62b1-877a-4d17-9d70-2ce15484fce1"
   },
   "outputs": [],
   "source": [
    "# log_price_model = LinearRegression()\n",
    "# log_price_model.fit(X=bordeaux_train[[\"age\"]],\n",
    "#                     y=bordeaux_train[\"log(price)\"])\n",
    "\n",
    "# X_new = pd.DataFrame()\n",
    "# X_new[\"age\"] = np.linspace(10, 41, num=200)\n",
    "# y_new_ = pd.Series(\n",
    "#     log_price_model.predict(X_new),\n",
    "#     index=X_new[\"age\"]\n",
    "# )\n",
    "\n",
    "\n",
    "    \n",
    "# bordeaux_train.plot.scatter(x=\"age\", y=\"log(price)\")\n",
    "# y_new_.plot.line()"
   ]
  },
  {
   "cell_type": "markdown",
   "metadata": {
    "colab_type": "text",
    "id": "nRPZ83ixgc3b"
   },
   "source": [
    "The points are more evenly spread out when the target is log-price instead of price. For this reason, Ashenfelter chose log-price to be the measure of \"wine quality\" in his linear regression model."
   ]
  },
  {
   "cell_type": "markdown",
   "metadata": {
    "colab_type": "text",
    "id": "27CMYtQLgc3d"
   },
   "source": [
    "## Fitting Ashenfelter's Model\n",
    "\n",
    "We are now ready to reproduce Ashenfelter's analysis. To do so, we will need to fit a linear regression model that predicts the log-price from the average summer temperature, winter rainfall, harvest rainfall, and the age of the wine. In other words, the model is of the form\n",
    "\\begin{align}\n",
    "    \\widehat{\\text{log(price)}} = b &+ c_1 \\cdot (\\text{average summer temperature}) \\nonumber \\\\\n",
    "    &+ c_2 \\cdot (\\text{winter rainfall}) \\nonumber \\\\\n",
    "    &+ c_3 \\cdot (\\text{harvest rainfall}) \\nonumber \\\\\n",
    "    &+ c_4 \\cdot (\\text{age of the wine}), \\label{eq:multiple_linear_regression}\n",
    "\\end{align}\n",
    "where $b, c_1, c_2, c_3, c_4$ are chosen to minimize \n",
    "\\begin{equation}\n",
    "    \\text{sum of } (\\text{log(price)} - \\widehat{\\text{log(price)}})^2 \\text{ over training data.}\n",
    "\\end{equation}\n",
    "This is still a _linear regression_ model, albeit a more complicated one.\n",
    "\n",
    "The code to fit this model is the natural extension of the code we wrote to fit the earlier models in this lesson. Instead of passing `bordeaux_train[[\"age\"]]` for `X`, we now supply a `DataFrame` containing all of the features we want to be in the model."
   ]
  },
  {
   "cell_type": "code",
   "execution_count": 543,
   "metadata": {
    "colab": {},
    "colab_type": "code",
    "id": "I7gTVpC_gc3f",
    "outputId": "bf2153cf-0e34-4e16-cd3d-c35196ed5b84"
   },
   "outputs": [],
   "source": [
    "# ashen_model = LinearRegression()\n",
    "# ashen_model.fit(\n",
    "#     X=bordeaux_train[[\"summer\", \"win\", \"har\", \"age\"]],\n",
    "#     y=bordeaux_train[\"log(price)\"]\n",
    "# )"
   ]
  },
  {
   "cell_type": "markdown",
   "metadata": {
    "colab_type": "text",
    "id": "hE_Ke72dgc35"
   },
   "source": [
    "This model is much harder to visualize, since it involves five variables: four features, plus the target. Nevertheless, we can obtain predictions from it just as we did with the simpler models above. We just need to supply the values of all of the features in the model, in the same order as in the training data."
   ]
  },
  {
   "cell_type": "code",
   "execution_count": 544,
   "metadata": {
    "colab": {},
    "colab_type": "code",
    "id": "VizNj96-gc36",
    "outputId": "7596fefc-59a1-42ca-fb78-995721a6096c"
   },
   "outputs": [],
   "source": [
    "# ashen_model.predict(\n",
    "#     X=bordeaux_test[[\"summer\", \"win\", \"har\", \"age\"]]\n",
    "# )"
   ]
  },
  {
   "cell_type": "markdown",
   "metadata": {
    "colab_type": "text",
    "id": "yfpP96Nggc4C"
   },
   "source": [
    "## Communication Corner: Interpreting the Model\n",
    "\n",
    "Even though we cannot visualize Ashenfelter's model, we can still \n",
    "interpret the model by examining the values of the _intercept_ $b$ and the _coefficients_ $c_1, c_2, c_3, c_4$.\n",
    "\n",
    "The coefficients are saved in the `.coef_` attribute, after the model has been fitted. (As above, the trailing underscore in `.coef_` reminds us that these are fitted values.)"
   ]
  },
  {
   "cell_type": "code",
   "execution_count": 545,
   "metadata": {
    "colab": {},
    "colab_type": "code",
    "id": "8SGCnIk_gc4E",
    "outputId": "51e681c9-35fd-450f-91f7-52ec8f69f75f"
   },
   "outputs": [],
   "source": [
    "# ashen_model.coef_"
   ]
  },
  {
   "cell_type": "markdown",
   "metadata": {
    "colab_type": "text",
    "id": "CGVfEskHgc4L"
   },
   "source": [
    "These coefficients are in the same order as the columns of `X`. So $0.61871092$ is the coefficient for **summer**, $0.00119721$ the coefficient for **win**, and so on. If you compare these values with the model at the beginning of this lesson, you will see that they are exactly the coefficients that Ashenfelter obtained. \n",
    "\n",
    "A positive coefficient means that the predicted target _increases_ as that feature increases, while a negative coefficient means that it _decreases_ as that feature increases. Since **win** has a positive coefficient $(0.0012)$ and **har** has a negative coefficient $(-0.0037)$, we conclude from the model that Bordeaux wines tend to be best when winter rainfall is high and harvest rainfall is low.\n",
    "\n",
    "Another essential component of a linear regression model is the _intercept_, which is stored in the `.intercept_` attribute, separately from the coefficients."
   ]
  },
  {
   "cell_type": "code",
   "execution_count": 546,
   "metadata": {
    "colab": {},
    "colab_type": "code",
    "id": "6oc0NmtLgc4M",
    "outputId": "a6f536e4-666b-482d-cbfc-26a52c44e404"
   },
   "outputs": [],
   "source": [
    "# ashen_model.intercept_"
   ]
  },
  {
   "cell_type": "markdown",
   "metadata": {
    "colab_type": "text",
    "id": "KxOtqiSdgc4Z"
   },
   "source": [
    "In principle, the intercept is the predicted value when all of the features are equal to $0$. However, this interpretation is often purely hypothetical, since it may be impossible for some features to be $0$. For example, to interpret the intercept of $-7.8$ in the model above, we would have to set **summer** equal to $0$. That is, we would have to imagine a summer in Bordeaux, France where the average temperature was $0^\\circ\\text{C}$ (i.e., freezing), which would be so catastrophic that the quality of red wine would be the least of our worries!"
   ]
  },
  {
   "cell_type": "markdown",
   "metadata": {
    "colab_type": "text",
    "id": "6dZ46xkKgc4b"
   },
   "source": [
    "# Exercises"
   ]
  },
  {
   "cell_type": "markdown",
   "metadata": {
    "colab_type": "text",
    "id": "4bF9YLPugc4k"
   },
   "source": []
  },
  {
   "cell_type": "markdown",
   "metadata": {
    "colab_type": "text",
    "id": "9qMHm1fOgc4l"
   },
   "source": [
    "_Exercises 1-3 ask you to fit linear regression models to the Ames housing data set (AmesHousing.txt ), which contains information about homes in Ames, Iowa._"
   ]
  },
  {
   "cell_type": "markdown",
   "metadata": {
    "colab_type": "text",
    "id": "auxey0fDgc4p"
   },
   "source": [
    "1\\. Fit a linear regression model that predicts the price of a home (**SalePrice**) using square footage (**Gr Liv Area**) as the only feature. Then, make a graph of the fitted model (this is possible because there is only one feature in this model). Do this the way we did it in the lesson, by creating a grid of `X` values and calling `model.predict()` on those `X` values."
   ]
  },
  {
   "cell_type": "code",
   "execution_count": 547,
   "metadata": {
    "tags": []
   },
   "outputs": [],
   "source": [
    "import pandas as pd\n",
    "from sklearn.linear_model import LinearRegression\n",
    "import numpy as np\n",
    "ames_df = pd.read_csv(\"AmesHousing.csv\", sep = '\\t', index_col= \"Order\")\n",
    "ames_train = ames_df.loc[:2344].copy()\n",
    "ames_test = ames_df.loc[2345:].copy()"
   ]
  },
  {
   "cell_type": "code",
   "execution_count": 548,
   "metadata": {
    "tags": []
   },
   "outputs": [
    {
     "data": {
      "text/plain": [
       "<AxesSubplot:xlabel='Gr Liv Area', ylabel='SalePrice'>"
      ]
     },
     "execution_count": 548,
     "metadata": {},
     "output_type": "execute_result"
    },
    {
     "data": {
      "image/png": "[encoded data removed]",
      "text/plain": [
       "<Figure size 432x288 with 1 Axes>"
      ]
     },
     "metadata": {
      "needs_background": "light"
     },
     "output_type": "display_data"
    }
   ],
   "source": [
    "ames_train.plot.scatter(x='Gr Liv Area', y='SalePrice')"
   ]
  },
  {
   "cell_type": "code",
   "execution_count": null,
   "metadata": {},
   "outputs": [],
   "source": []
  },
  {
   "cell_type": "code",
   "execution_count": 549,
   "metadata": {
    "tags": []
   },
   "outputs": [
    {
     "data": {
      "text/plain": [
       "array([265493.74824623, 189677.70356104, 137739.86162866, 222468.96817089,\n",
       "       220818.40116032, 202001.93723991, 322823.44241311, 187256.87194554,\n",
       "       135649.14341528, 271545.82728496, 222799.081573  , 134658.80320894,\n",
       "       199581.10562441, 160517.68637442, 137849.89942936, 137079.63482443,\n",
       "       111550.86506106, 110890.63825683, 112651.2430681 , 172621.84445189,\n",
       "       136639.48362161, 166679.80321386, 125085.51454767, 129817.13997795,\n",
       "       150504.24651034, 150504.24651034, 120794.04032021, 136639.48362161,\n",
       "       125085.51454767, 134108.61420542, 169100.63482935, 115512.22588641,\n",
       "       132568.08499556, 176693.24307794, 234353.05064694, 301366.07127579,\n",
       "       302136.33588072, 194519.36679202, 244916.67951454, 207943.97847793,\n",
       "       222028.81696807, 220048.13655539, 277928.0197258 , 286290.89257932,\n",
       "       259221.59360609, 247337.51113003, 246567.2465251 , 272206.05408918,\n",
       "       264393.37023918, 279358.51113495, 275947.33931312, 230391.68982159,\n",
       "       233252.6726399 , 213665.94411455, 212345.4905061 , 213665.94411455,\n",
       "       316661.32557368, 225990.17779342, 227090.55580046, 166569.76541316,\n",
       "       188687.3633547 , 167009.91661597, 167009.91661597, 202001.93723991,\n",
       "       199801.18122582, 171081.31524203, 161287.95097935, 176693.24307794,\n",
       "       180654.60390329, 181094.75510611, 221478.62796455, 162388.3289864 ,\n",
       "       176693.24307794, 277597.90632369, 180654.60390329, 166569.76541316,\n",
       "       187807.06094906, 176693.24307794, 182745.32211667, 172071.65544837,\n",
       "       186816.72074273, 153805.38053147, 142141.37365682, 182195.13311315,\n",
       "       188907.43895611, 181534.90630893, 218727.68294694, 182525.24651526,\n",
       "       172071.65544837, 192318.61077794, 229511.38741595, 182525.24651526,\n",
       "       199581.10562441, 224339.61078286, 224009.49738074, 200351.37022934,\n",
       "       271985.97848777, 268574.80666594, 279688.62453707, 233912.89944412,\n",
       "       262302.6520258 , 415585.30840675, 330636.12626311, 228190.9338075 ,\n",
       "       265493.74824623, 316441.24997227, 401610.50771731, 290912.48020889,\n",
       "       294433.68983143, 324474.00942367, 232592.44583567, 200241.33242864,\n",
       "       247227.47332933, 199140.9544216 , 194299.29119061, 181975.05751174,\n",
       "       157106.51455259, 306977.99911171, 180324.49050118, 229841.50081807,\n",
       "       187366.90974625, 205303.07126103, 189897.77916244, 155345.90974133,\n",
       "       155786.06094414, 159637.38396879, 142141.37365682, 170531.12623851,\n",
       "       140930.95784908, 142031.33585612, 143901.97846809, 202001.93723991,\n",
       "       190888.11936878, 218617.64514624, 192868.79978146, 206953.63827159,\n",
       "       170311.0506371 , 150394.20870964, 161728.10218217, 132678.12279626,\n",
       "       122664.68293218, 125195.55234838, 206623.52486948, 198480.72761737,\n",
       "       149733.98190541, 149844.01970612, 124755.40114556, 116502.56609275,\n",
       "       118263.17090401, 129156.91317373, 119363.54891106, 116832.67949486,\n",
       "       152484.92692302, 120023.77571528, 307638.22591593, 282439.56955467,\n",
       "       327445.03004269, 293773.4630272 , 269014.95786876, 195179.59359625,\n",
       "       142251.41145753, 153695.34273076, 148523.56609767, 151054.43551386,\n",
       "       151054.43551386, 148523.56609767, 184175.81352583, 176253.09187512,\n",
       "       168550.44582583, 135319.03001316, 202882.23964554, 189017.47675681,\n",
       "       180874.6795047 , 149403.8685033 , 152374.88912231, 130477.36678218,\n",
       "       151384.54891598, 151384.54891598, 219167.83414976, 147753.30149274,\n",
       "       227750.78260469, 253719.70357088, 172291.73104977, 308518.52832157,\n",
       "       213445.86851314, 163268.63139203, 144562.20527232, 124315.24994274,\n",
       "       132127.93379274, 211245.11249906, 123875.09873993, 132237.97159345,\n",
       "       115292.150285  , 132127.93379274, 142031.33585612, 148523.56609767,\n",
       "       235783.54205609, 132017.89599204, 111550.86506106, 204862.92005822,\n",
       "       188687.3633547 , 154135.49393358, 180214.45270048, 174932.63826667,\n",
       "       136969.59702373, 132348.00939415, 153805.38053147, 106269.05062726,\n",
       "       127396.30836246, 131247.63138711, 151824.70011879, 112101.05406458,\n",
       "        98676.44237867, 154245.53173429, 174162.37366174, 195179.59359625,\n",
       "       150284.17090893, 251518.94755679, 190117.85476385, 206623.52486948,\n",
       "       119473.58671176, 190778.08156808, 153585.30493006, 152374.88912231,\n",
       "       253829.74137158, 140600.84444697, 358915.84104409, 127396.30836246,\n",
       "       147423.18809063, 142361.44925823, 166569.76541316, 168660.48362654,\n",
       "       163488.70699344, 167229.99221738, 136639.48362161, 140160.69324415,\n",
       "       152484.92692302, 120243.85131669, 132017.89599204, 167780.1812209 ,\n",
       "       127396.30836246, 189787.74136174, 142471.48705894, 127066.19496035,\n",
       "       132678.12279626, 113751.62107514, 240845.28088849, 168770.52142724,\n",
       "       306977.99911171, 160847.79977654, 160627.72417513,  94935.15715472,\n",
       "       108139.69323923, 134548.76540823,  95155.23275613,  95705.42175965,\n",
       "       140820.92004837, 191988.49737582, 210144.73449202, 150064.09530753,\n",
       "       282109.45615256, 177793.62108498, 162168.25338499, 135979.25681739,\n",
       "       142581.52485964, 207283.75167371, 149293.8307026 , 116832.67949486,\n",
       "       147863.33929344, 111550.86506106, 106269.05062726, 211575.22590117,\n",
       "       178453.84788921, 285850.7413765 , 192538.68637935, 183845.70012371,\n",
       "       147643.26369203, 130917.517985  , 130917.517985  , 130917.517985  ,\n",
       "       130917.517985  , 130917.517985  , 130917.517985  , 187697.02314836,\n",
       "       143021.67606246, 143021.67606246, 164809.16060189, 126405.96815612,\n",
       "       131467.70698852, 111550.86506106, 129266.95097443, 238094.33587088,\n",
       "       162608.4045878 , 200021.25682723, 198810.84101948, 172291.73104977,\n",
       "       197050.23620822, 173612.18465822, 126956.15715965, 105938.93722514,\n",
       "       231161.95442652, 130037.21557936, 109350.10904697, 209044.35648497,\n",
       "       111550.86506106, 139500.46643992, 167890.21902161, 122114.49392866,\n",
       "       188797.4011554 ,  70616.8031991 , 146542.88568499, 144452.16747161,\n",
       "       108909.95784416, 228631.08501032, 211685.26370188, 211025.03689765,\n",
       "       247997.73793426, 174932.63826667, 202442.08844272, 167009.91661597,\n",
       "       210364.81009342, 148523.56609767, 413494.59019337, 153805.38053147,\n",
       "       122114.49392866, 128716.76197091, 103187.99220754, 190007.81696315,\n",
       "       217517.2671392 , 199581.10562441, 139500.46643992, 145882.65888077,\n",
       "       164369.00939907, 144342.12967091, 128166.57296739, 116832.67949486,\n",
       "       189897.77916244, 162168.25338499, 137849.89942936,  84261.49048642,\n",
       "       131797.82039063, 106269.05062726, 290032.17780326, 122114.49392866,\n",
       "       196390.00940399,  92734.40114064, 173832.26025963, 162828.48018921,\n",
       "       106599.16402937, 167890.21902161, 166129.61421034, 134988.91661105,\n",
       "        99446.7069836 , 124755.40114556, 172951.957854  , 227860.82040539,\n",
       "       196940.19840751, 165249.31180471, 130037.21557936, 113201.43207162,\n",
       "       134548.76540823, 168550.44582583, 159087.19496527, 133998.57640471,\n",
       "       133558.4252019 , 161728.10218217, 119253.51111035, 133008.23619838,\n",
       "       144012.0162688 , 170531.12623851, 176913.31867935, 205853.26026455,\n",
       "       130917.517985  , 232922.55923778, 230941.87882511, 227750.78260469,\n",
       "       214876.3599223 , 212235.4527054 , 112431.16746669, 122114.49392866,\n",
       "       174602.52486456, 217847.38054131, 126516.00595683, 268134.65546313,\n",
       "       105608.82382303, 114851.99908218, 203542.46644976, 176363.12967583,\n",
       "       165029.2362033 , 143021.67606246, 237434.10906666, 258671.40460257,\n",
       "       237544.14686736, 420537.00943844, 188137.17435118, 180214.45270048,\n",
       "       132788.16059697, 220598.32555891, 193529.02658568, 142801.60046105,\n",
       "       140160.69324415, 176693.24307794, 159307.27056668, 298064.93725467,\n",
       "       226760.44239835, 174932.63826667, 222909.1193737 , 149403.8685033 ,\n",
       "       150724.32211175, 158867.11936386, 194079.2155892 , 181314.83070752,\n",
       "       232372.37023426, 219607.98535258, 207283.75167371, 191438.3083723 ,\n",
       "       215536.58672652, 194079.2155892 , 192098.53517653, 227200.59360117,\n",
       "       190558.00596667, 125195.55234838, 185166.15373216, 169210.67263006,\n",
       "       117052.75509627, 137519.78602725, 181424.86850822, 173282.07125611,\n",
       "       125415.62794979, 184285.85132653, 180874.6795047 , 191218.23277089,\n",
       "       208934.31868427, 212235.4527054 , 221258.55236314, 211905.33930328,\n",
       "       186046.4561378 , 121454.26712444, 169210.67263006, 157546.66575541,\n",
       "       123324.90973641, 111550.86506106, 114851.99908218, 111550.86506106,\n",
       "       161728.10218217, 235343.39085328, 210364.81009342, 209594.5454885 ,\n",
       "       165909.53860893, 213115.75511103, 226540.36679694, 198480.72761737,\n",
       "       260101.89601172, 241945.65889553, 229841.50081807, 236003.6176575 ,\n",
       "       247227.47332933, 218507.60734554, 109790.26024979, 109790.26024979,\n",
       "       227640.74480398, 169430.74823146, 230831.8410244 , 203542.46644976,\n",
       "       207613.86507582, 193749.10218709, 187256.87194554, 205743.22246385,\n",
       "       163488.70699344, 181534.90630893, 176693.24307794, 160627.72417513,\n",
       "       174492.48706386, 177793.62108498, 150724.32211175, 127836.45956528,\n",
       "       124315.24994274, 145882.65888077, 206183.37366667, 117052.75509627,\n",
       "       271105.67608214, 134438.72760753, 134438.72760753, 134438.72760753,\n",
       "       204532.8066561 , 204532.8066561 , 204532.8066561 , 204532.8066561 ,\n",
       "       204422.7688554 , 119473.58671176, 163708.78259485, 200131.29462793,\n",
       "       146762.9612864 , 150834.35991246, 111550.86506106, 179554.22589625,\n",
       "       154025.45613288, 172071.65544837, 261862.50082299,  71277.03000332,\n",
       "       156556.32554907, 228631.08501032, 191988.49737582, 187146.83414484,\n",
       "       163928.85819625, 179224.11249414, 212785.64170892, 182635.28431597,\n",
       "       183955.73792442, 196500.0472047 , 214766.32212159, 177683.58328428,\n",
       "       158206.89255964, 205413.10906174, 187036.79634414, 183405.5489209 ,\n",
       "       205413.10906174, 146322.81008358, 242825.96130116, 200351.37022934,\n",
       "       274516.84790397, 193529.02658568, 214656.28432089, 215756.66232793,\n",
       "       197710.46301244, 271215.71388284, 163488.70699344, 219387.90975117,\n",
       "       123875.09873993, 157876.77915752,  90423.60732585,  87012.43550402,\n",
       "       121124.15372232, 196720.1228061 , 163488.70699344,  96695.76196599,\n",
       "        69296.34959065, 170090.97503569, 119473.58671176, 212125.41490469,\n",
       "       197600.42521174, 195289.63139695, 199581.10562441, 180544.56610259,\n",
       "       126956.15715965, 149623.94410471, 232042.25683215, 293663.4252265 ,\n",
       "       158977.15716457, 198040.57641455, 204312.73105469, 141591.1846533 ,\n",
       "       163818.82039555, 293113.23622298, 170861.23964062, 214546.24652018,\n",
       "       232152.29463286, 239634.86508074, 218727.68294694, 192538.68637935,\n",
       "       167009.91661597, 150284.17090893, 163598.74479414, 141921.29805542,\n",
       "       159967.4973709 , 178783.96129132, 293883.50082791, 112651.2430681 ,\n",
       "       198260.65201596,  85802.01969628, 136639.48362161, 166129.61421034,\n",
       "        85802.01969628, 136639.48362161, 136639.48362161, 136639.48362161,\n",
       "       136639.48362161, 206623.52486948, 206623.52486948, 140380.76884556,\n",
       "       151164.47331457, 126846.11935894, 115732.30148782, 123214.8719357 ,\n",
       "       169320.71043076, 236553.80666102])"
      ]
     },
     "execution_count": 549,
     "metadata": {},
     "output_type": "execute_result"
    }
   ],
   "source": [
    "X_train1 = ames_train[[\"Gr Liv Area\"]]\n",
    "X_test1 = ames_test[[\"Gr Liv Area\"]]\n",
    "y_train1 = ames_train[\"SalePrice\"]\n",
    "\n",
    "model = LinearRegression()\n",
    "model.fit(X=X_train1, y=y_train1)\n",
    "model.predict(X=X_test1)"
   ]
  },
  {
   "cell_type": "code",
   "execution_count": null,
   "metadata": {
    "tags": []
   },
   "outputs": [],
   "source": []
  },
  {
   "cell_type": "code",
   "execution_count": 550,
   "metadata": {},
   "outputs": [
    {
     "data": {
      "text/plain": [
       "<AxesSubplot:xlabel='Gr Liv Area', ylabel='SalePrice'>"
      ]
     },
     "execution_count": 550,
     "metadata": {},
     "output_type": "execute_result"
    },
    {
     "data": {
      "image/png": "[encoded data removed]",
      "text/plain": [
       "<Figure size 432x288 with 1 Axes>"
      ]
     },
     "metadata": {
      "needs_background": "light"
     },
     "output_type": "display_data"
    }
   ],
   "source": [
    "X_new1 = pd.DataFrame()\n",
    "X_new1[\"Gr Liv Area\"] = np.linspace(334,5642, num=500)\n",
    "X_new1.set_index(\"Gr Liv Area\")\n",
    "\n",
    "y_new_1 = pd.Series(\n",
    "    model.predict(X_new1),\n",
    "    index = X_new1[\"Gr Liv Area\"]\n",
    ")\n",
    "\n",
    "ames_train.plot.scatter(x=\"Gr Liv Area\", y=\"SalePrice\")\n",
    "y_new_1.plot.line(color = 'red')\n"
   ]
  },
  {
   "cell_type": "markdown",
   "metadata": {
    "colab_type": "text",
    "id": "pOTgz8KAgc4s"
   },
   "source": [
    "2\\.  There is another way to graph a fitted linear regression model: extract the intercept and coefficient and draw a line with that intercept and slope. Verify that this gives the same graph as Exercise 2."
   ]
  },
  {
   "cell_type": "code",
   "execution_count": 551,
   "metadata": {},
   "outputs": [],
   "source": [
    "m = model.coef_"
   ]
  },
  {
   "cell_type": "code",
   "execution_count": 552,
   "metadata": {},
   "outputs": [],
   "source": [
    "b = model.intercept_"
   ]
  },
  {
   "cell_type": "code",
   "execution_count": 553,
   "metadata": {},
   "outputs": [
    {
     "data": {
      "text/plain": [
       "[<matplotlib.lines.Line2D at 0x1c55a06edf0>]"
      ]
     },
     "execution_count": 553,
     "metadata": {},
     "output_type": "execute_result"
    },
    {
     "data": {
      "image/png": "[encoded data removed]",
      "text/plain": [
       "<Figure size 432x288 with 1 Axes>"
      ]
     },
     "metadata": {
      "needs_background": "light"
     },
     "output_type": "display_data"
    }
   ],
   "source": [
    "import matplotlib.pyplot as plt\n",
    "x = np.linspace(334,5642, num=500)\n",
    "y = m*x + b\n",
    "\n",
    "ames_train.plot.scatter(x=\"Gr Liv Area\", y=\"SalePrice\")\n",
    "plt.plot(x,y, 'r', label = 'y = mx + b')\n",
    "\n"
   ]
  },
  {
   "cell_type": "code",
   "execution_count": 554,
   "metadata": {},
   "outputs": [
    {
     "data": {
      "text/html": [
       "<div>\n",
       "<style scoped>\n",
       "    .dataframe tbody tr th:only-of-type {\n",
       "        vertical-align: middle;\n",
       "    }\n",
       "\n",
       "    .dataframe tbody tr th {\n",
       "        vertical-align: top;\n",
       "    }\n",
       "\n",
       "    .dataframe thead th {\n",
       "        text-align: right;\n",
       "    }\n",
       "</style>\n",
       "<table border=\"1\" class=\"dataframe\">\n",
       "  <thead>\n",
       "    <tr style=\"text-align: right;\">\n",
       "      <th></th>\n",
       "      <th>PID</th>\n",
       "      <th>MS SubClass</th>\n",
       "      <th>MS Zoning</th>\n",
       "      <th>Lot Frontage</th>\n",
       "      <th>Lot Area</th>\n",
       "      <th>Street</th>\n",
       "      <th>Alley</th>\n",
       "      <th>Lot Shape</th>\n",
       "      <th>Land Contour</th>\n",
       "      <th>Utilities</th>\n",
       "      <th>...</th>\n",
       "      <th>Pool QC</th>\n",
       "      <th>Fence</th>\n",
       "      <th>Misc Feature</th>\n",
       "      <th>Misc Val</th>\n",
       "      <th>Mo Sold</th>\n",
       "      <th>Yr Sold</th>\n",
       "      <th>Sale Type</th>\n",
       "      <th>Sale Condition</th>\n",
       "      <th>SalePrice</th>\n",
       "      <th>log(SalePrice)</th>\n",
       "    </tr>\n",
       "    <tr>\n",
       "      <th>Order</th>\n",
       "      <th></th>\n",
       "      <th></th>\n",
       "      <th></th>\n",
       "      <th></th>\n",
       "      <th></th>\n",
       "      <th></th>\n",
       "      <th></th>\n",
       "      <th></th>\n",
       "      <th></th>\n",
       "      <th></th>\n",
       "      <th></th>\n",
       "      <th></th>\n",
       "      <th></th>\n",
       "      <th></th>\n",
       "      <th></th>\n",
       "      <th></th>\n",
       "      <th></th>\n",
       "      <th></th>\n",
       "      <th></th>\n",
       "      <th></th>\n",
       "      <th></th>\n",
       "    </tr>\n",
       "  </thead>\n",
       "  <tbody>\n",
       "    <tr>\n",
       "      <th>1</th>\n",
       "      <td>526301100</td>\n",
       "      <td>20</td>\n",
       "      <td>RL</td>\n",
       "      <td>141.0</td>\n",
       "      <td>31770</td>\n",
       "      <td>Pave</td>\n",
       "      <td>NaN</td>\n",
       "      <td>IR1</td>\n",
       "      <td>Lvl</td>\n",
       "      <td>AllPub</td>\n",
       "      <td>...</td>\n",
       "      <td>NaN</td>\n",
       "      <td>NaN</td>\n",
       "      <td>NaN</td>\n",
       "      <td>0</td>\n",
       "      <td>5</td>\n",
       "      <td>2010</td>\n",
       "      <td>WD</td>\n",
       "      <td>Normal</td>\n",
       "      <td>215000</td>\n",
       "      <td>12.278393</td>\n",
       "    </tr>\n",
       "    <tr>\n",
       "      <th>2</th>\n",
       "      <td>526350040</td>\n",
       "      <td>20</td>\n",
       "      <td>RH</td>\n",
       "      <td>80.0</td>\n",
       "      <td>11622</td>\n",
       "      <td>Pave</td>\n",
       "      <td>NaN</td>\n",
       "      <td>Reg</td>\n",
       "      <td>Lvl</td>\n",
       "      <td>AllPub</td>\n",
       "      <td>...</td>\n",
       "      <td>NaN</td>\n",
       "      <td>MnPrv</td>\n",
       "      <td>NaN</td>\n",
       "      <td>0</td>\n",
       "      <td>6</td>\n",
       "      <td>2010</td>\n",
       "      <td>WD</td>\n",
       "      <td>Normal</td>\n",
       "      <td>105000</td>\n",
       "      <td>11.561716</td>\n",
       "    </tr>\n",
       "    <tr>\n",
       "      <th>3</th>\n",
       "      <td>526351010</td>\n",
       "      <td>20</td>\n",
       "      <td>RL</td>\n",
       "      <td>81.0</td>\n",
       "      <td>14267</td>\n",
       "      <td>Pave</td>\n",
       "      <td>NaN</td>\n",
       "      <td>IR1</td>\n",
       "      <td>Lvl</td>\n",
       "      <td>AllPub</td>\n",
       "      <td>...</td>\n",
       "      <td>NaN</td>\n",
       "      <td>NaN</td>\n",
       "      <td>Gar2</td>\n",
       "      <td>12500</td>\n",
       "      <td>6</td>\n",
       "      <td>2010</td>\n",
       "      <td>WD</td>\n",
       "      <td>Normal</td>\n",
       "      <td>172000</td>\n",
       "      <td>12.055250</td>\n",
       "    </tr>\n",
       "    <tr>\n",
       "      <th>4</th>\n",
       "      <td>526353030</td>\n",
       "      <td>20</td>\n",
       "      <td>RL</td>\n",
       "      <td>93.0</td>\n",
       "      <td>11160</td>\n",
       "      <td>Pave</td>\n",
       "      <td>NaN</td>\n",
       "      <td>Reg</td>\n",
       "      <td>Lvl</td>\n",
       "      <td>AllPub</td>\n",
       "      <td>...</td>\n",
       "      <td>NaN</td>\n",
       "      <td>NaN</td>\n",
       "      <td>NaN</td>\n",
       "      <td>0</td>\n",
       "      <td>4</td>\n",
       "      <td>2010</td>\n",
       "      <td>WD</td>\n",
       "      <td>Normal</td>\n",
       "      <td>244000</td>\n",
       "      <td>12.404924</td>\n",
       "    </tr>\n",
       "    <tr>\n",
       "      <th>5</th>\n",
       "      <td>527105010</td>\n",
       "      <td>60</td>\n",
       "      <td>RL</td>\n",
       "      <td>74.0</td>\n",
       "      <td>13830</td>\n",
       "      <td>Pave</td>\n",
       "      <td>NaN</td>\n",
       "      <td>IR1</td>\n",
       "      <td>Lvl</td>\n",
       "      <td>AllPub</td>\n",
       "      <td>...</td>\n",
       "      <td>NaN</td>\n",
       "      <td>MnPrv</td>\n",
       "      <td>NaN</td>\n",
       "      <td>0</td>\n",
       "      <td>3</td>\n",
       "      <td>2010</td>\n",
       "      <td>WD</td>\n",
       "      <td>Normal</td>\n",
       "      <td>189900</td>\n",
       "      <td>12.154253</td>\n",
       "    </tr>\n",
       "    <tr>\n",
       "      <th>...</th>\n",
       "      <td>...</td>\n",
       "      <td>...</td>\n",
       "      <td>...</td>\n",
       "      <td>...</td>\n",
       "      <td>...</td>\n",
       "      <td>...</td>\n",
       "      <td>...</td>\n",
       "      <td>...</td>\n",
       "      <td>...</td>\n",
       "      <td>...</td>\n",
       "      <td>...</td>\n",
       "      <td>...</td>\n",
       "      <td>...</td>\n",
       "      <td>...</td>\n",
       "      <td>...</td>\n",
       "      <td>...</td>\n",
       "      <td>...</td>\n",
       "      <td>...</td>\n",
       "      <td>...</td>\n",
       "      <td>...</td>\n",
       "      <td>...</td>\n",
       "    </tr>\n",
       "    <tr>\n",
       "      <th>2340</th>\n",
       "      <td>527252090</td>\n",
       "      <td>120</td>\n",
       "      <td>RL</td>\n",
       "      <td>60.0</td>\n",
       "      <td>8147</td>\n",
       "      <td>Pave</td>\n",
       "      <td>NaN</td>\n",
       "      <td>Reg</td>\n",
       "      <td>HLS</td>\n",
       "      <td>AllPub</td>\n",
       "      <td>...</td>\n",
       "      <td>NaN</td>\n",
       "      <td>NaN</td>\n",
       "      <td>NaN</td>\n",
       "      <td>0</td>\n",
       "      <td>8</td>\n",
       "      <td>2006</td>\n",
       "      <td>WD</td>\n",
       "      <td>Normal</td>\n",
       "      <td>318000</td>\n",
       "      <td>12.669807</td>\n",
       "    </tr>\n",
       "    <tr>\n",
       "      <th>2341</th>\n",
       "      <td>527254070</td>\n",
       "      <td>20</td>\n",
       "      <td>RL</td>\n",
       "      <td>69.0</td>\n",
       "      <td>11302</td>\n",
       "      <td>Pave</td>\n",
       "      <td>NaN</td>\n",
       "      <td>IR1</td>\n",
       "      <td>Lvl</td>\n",
       "      <td>AllPub</td>\n",
       "      <td>...</td>\n",
       "      <td>NaN</td>\n",
       "      <td>NaN</td>\n",
       "      <td>NaN</td>\n",
       "      <td>0</td>\n",
       "      <td>8</td>\n",
       "      <td>2006</td>\n",
       "      <td>New</td>\n",
       "      <td>Partial</td>\n",
       "      <td>319000</td>\n",
       "      <td>12.672946</td>\n",
       "    </tr>\n",
       "    <tr>\n",
       "      <th>2342</th>\n",
       "      <td>527256120</td>\n",
       "      <td>20</td>\n",
       "      <td>RL</td>\n",
       "      <td>90.0</td>\n",
       "      <td>18261</td>\n",
       "      <td>Pave</td>\n",
       "      <td>NaN</td>\n",
       "      <td>IR1</td>\n",
       "      <td>HLS</td>\n",
       "      <td>AllPub</td>\n",
       "      <td>...</td>\n",
       "      <td>NaN</td>\n",
       "      <td>NaN</td>\n",
       "      <td>NaN</td>\n",
       "      <td>0</td>\n",
       "      <td>9</td>\n",
       "      <td>2006</td>\n",
       "      <td>WD</td>\n",
       "      <td>Normal</td>\n",
       "      <td>470000</td>\n",
       "      <td>13.060488</td>\n",
       "    </tr>\n",
       "    <tr>\n",
       "      <th>2343</th>\n",
       "      <td>527301010</td>\n",
       "      <td>20</td>\n",
       "      <td>RL</td>\n",
       "      <td>91.0</td>\n",
       "      <td>14145</td>\n",
       "      <td>Pave</td>\n",
       "      <td>NaN</td>\n",
       "      <td>Reg</td>\n",
       "      <td>Lvl</td>\n",
       "      <td>AllPub</td>\n",
       "      <td>...</td>\n",
       "      <td>NaN</td>\n",
       "      <td>NaN</td>\n",
       "      <td>Shed</td>\n",
       "      <td>400</td>\n",
       "      <td>5</td>\n",
       "      <td>2006</td>\n",
       "      <td>WD</td>\n",
       "      <td>Normal</td>\n",
       "      <td>202500</td>\n",
       "      <td>12.218495</td>\n",
       "    </tr>\n",
       "    <tr>\n",
       "      <th>2344</th>\n",
       "      <td>527302080</td>\n",
       "      <td>50</td>\n",
       "      <td>RL</td>\n",
       "      <td>NaN</td>\n",
       "      <td>13837</td>\n",
       "      <td>Pave</td>\n",
       "      <td>NaN</td>\n",
       "      <td>IR1</td>\n",
       "      <td>Lvl</td>\n",
       "      <td>AllPub</td>\n",
       "      <td>...</td>\n",
       "      <td>NaN</td>\n",
       "      <td>NaN</td>\n",
       "      <td>NaN</td>\n",
       "      <td>0</td>\n",
       "      <td>2</td>\n",
       "      <td>2006</td>\n",
       "      <td>WD</td>\n",
       "      <td>Normal</td>\n",
       "      <td>229000</td>\n",
       "      <td>12.341477</td>\n",
       "    </tr>\n",
       "  </tbody>\n",
       "</table>\n",
       "<p>2344 rows × 82 columns</p>\n",
       "</div>"
      ],
      "text/plain": [
       "             PID  MS SubClass MS Zoning  Lot Frontage  Lot Area Street Alley  \\\n",
       "Order                                                                          \n",
       "1      526301100           20        RL         141.0     31770   Pave   NaN   \n",
       "2      526350040           20        RH          80.0     11622   Pave   NaN   \n",
       "3      526351010           20        RL          81.0     14267   Pave   NaN   \n",
       "4      526353030           20        RL          93.0     11160   Pave   NaN   \n",
       "5      527105010           60        RL          74.0     13830   Pave   NaN   \n",
       "...          ...          ...       ...           ...       ...    ...   ...   \n",
       "2340   527252090          120        RL          60.0      8147   Pave   NaN   \n",
       "2341   527254070           20        RL          69.0     11302   Pave   NaN   \n",
       "2342   527256120           20        RL          90.0     18261   Pave   NaN   \n",
       "2343   527301010           20        RL          91.0     14145   Pave   NaN   \n",
       "2344   527302080           50        RL           NaN     13837   Pave   NaN   \n",
       "\n",
       "      Lot Shape Land Contour Utilities  ... Pool QC  Fence Misc Feature  \\\n",
       "Order                                   ...                               \n",
       "1           IR1          Lvl    AllPub  ...     NaN    NaN          NaN   \n",
       "2           Reg          Lvl    AllPub  ...     NaN  MnPrv          NaN   \n",
       "3           IR1          Lvl    AllPub  ...     NaN    NaN         Gar2   \n",
       "4           Reg          Lvl    AllPub  ...     NaN    NaN          NaN   \n",
       "5           IR1          Lvl    AllPub  ...     NaN  MnPrv          NaN   \n",
       "...         ...          ...       ...  ...     ...    ...          ...   \n",
       "2340        Reg          HLS    AllPub  ...     NaN    NaN          NaN   \n",
       "2341        IR1          Lvl    AllPub  ...     NaN    NaN          NaN   \n",
       "2342        IR1          HLS    AllPub  ...     NaN    NaN          NaN   \n",
       "2343        Reg          Lvl    AllPub  ...     NaN    NaN         Shed   \n",
       "2344        IR1          Lvl    AllPub  ...     NaN    NaN          NaN   \n",
       "\n",
       "      Misc Val Mo Sold Yr Sold Sale Type  Sale Condition  SalePrice  \\\n",
       "Order                                                                 \n",
       "1            0       5    2010       WD           Normal     215000   \n",
       "2            0       6    2010       WD           Normal     105000   \n",
       "3        12500       6    2010       WD           Normal     172000   \n",
       "4            0       4    2010       WD           Normal     244000   \n",
       "5            0       3    2010       WD           Normal     189900   \n",
       "...        ...     ...     ...       ...             ...        ...   \n",
       "2340         0       8    2006       WD           Normal     318000   \n",
       "2341         0       8    2006       New         Partial     319000   \n",
       "2342         0       9    2006       WD           Normal     470000   \n",
       "2343       400       5    2006       WD           Normal     202500   \n",
       "2344         0       2    2006       WD           Normal     229000   \n",
       "\n",
       "       log(SalePrice)  \n",
       "Order                  \n",
       "1           12.278393  \n",
       "2           11.561716  \n",
       "3           12.055250  \n",
       "4           12.404924  \n",
       "5           12.154253  \n",
       "...               ...  \n",
       "2340        12.669807  \n",
       "2341        12.672946  \n",
       "2342        13.060488  \n",
       "2343        12.218495  \n",
       "2344        12.341477  \n",
       "\n",
       "[2344 rows x 82 columns]"
      ]
     },
     "execution_count": 554,
     "metadata": {},
     "output_type": "execute_result"
    }
   ],
   "source": [
    "ames_train[\"log(SalePrice)\"] = np.log(ames_train[\"SalePrice\"])\n",
    "ames_train"
   ]
  },
  {
   "cell_type": "code",
   "execution_count": 555,
   "metadata": {},
   "outputs": [],
   "source": [
    "# log_price_model = LinearRegression()\n",
    "# log_price_model.fit(X=ames_train[[\"Gr Liv Area\"]],\n",
    "#                     y=ames_train[\"log(SalePrice)\"])\n",
    "\n",
    "# X_new1 = pd.DataFrame()\n",
    "# X_new1[\"Gr Liv Area\"] = np.linspace(334,5642, num=500)\n",
    "# X_new1.set_index(\"Gr Liv Area\")\n",
    "\n",
    "# y_new_1 = pd.Series(\n",
    "#     model.predict(X_new1),\n",
    "#     index = X_new1[\"Gr Liv Area\"]\n",
    "# )\n",
    "\n",
    "# ames_train.plot.scatter(x=\"Gr Liv Area\", y=\"log(SalePrice)\")\n",
    "# y_new_1.plot.line(color = 'red')\n"
   ]
  },
  {
   "cell_type": "markdown",
   "metadata": {
    "colab_type": "text",
    "id": "1-I-np7Ugc40"
   },
   "source": [
    " 3\\. Fit a linear regression model that predicts the price of a home using square footage, number of bedrooms (**Bedroom AbvGr**), number of full bathrooms (**Full Bath**), and number of half bathrooms (**Half Bath**). Interpret the coefficients. Then, use your fitted model to predict the price of a home that is 1500 square feet, with 3 bedrooms, 2 full baths, and 1 half bath."
   ]
  },
  {
   "cell_type": "code",
   "execution_count": 556,
   "metadata": {},
   "outputs": [],
   "source": [
    "home1 = pd.DataFrame({\n",
    "    'Bedroom AbvGr' : [3],\n",
    "    'Full Bath' : [2],\n",
    "    'Half Bath' : [1],\n",
    "    'Gr Liv Area' : [1500]\n",
    "})"
   ]
  },
  {
   "cell_type": "code",
   "execution_count": 557,
   "metadata": {},
   "outputs": [
    {
     "data": {
      "text/plain": [
       "LinearRegression()"
      ]
     },
     "execution_count": 557,
     "metadata": {},
     "output_type": "execute_result"
    }
   ],
   "source": [
    "house_model = LinearRegression()\n",
    "house_model.fit(\n",
    "    X=ames_train[[\"Bedroom AbvGr\", \"Full Bath\", \"Half Bath\", \"Gr Liv Area\"]],\n",
    "    y=ames_train[\"SalePrice\"]\n",
    ")"
   ]
  },
  {
   "cell_type": "code",
   "execution_count": 558,
   "metadata": {
    "collapsed": true,
    "jupyter": {
     "outputs_hidden": true
    },
    "tags": []
   },
   "outputs": [
    {
     "data": {
      "text/plain": [
       "array([277468.82448802, 198261.56733049, 144449.44520991, 231448.68323573,\n",
       "       201261.31356169, 210066.17259523, 306309.22992384, 195732.45316871,\n",
       "       142265.21025201, 283791.60989247, 259807.66347122, 112767.59898573,\n",
       "       179074.08477881, 139783.13662291, 143044.64730809, 114225.8281341 ,\n",
       "        87555.16970079,  86865.41129304,  88704.76704706, 208905.78211806,\n",
       "       114836.874209  , 146220.88176199, 132299.96074129, 107709.37066217,\n",
       "       129321.80077192, 129321.80077192, 127816.53109087, 114836.874209  ,\n",
       "       132299.96074129, 168669.87499885, 147679.11091036,  91693.72014734,\n",
       "       167060.43871408, 184696.31864459, 243864.33457537, 285411.83930815,\n",
       "       314230.65848214, 231782.7693087 , 285505.21278096, 186740.139597  ,\n",
       "       260522.70296527, 228919.56907395, 288939.51686435, 297676.45669595,\n",
       "       241382.26094627, 258500.46827468, 257695.7501323 , 281890.72565038,\n",
       "       276319.22714176, 262419.89238289, 258856.14060947, 239725.78412882,\n",
       "       243785.62224251, 251785.76313367, 250406.24631816, 251785.76313367,\n",
       "       301391.24242121, 236198.27975718, 237347.87710344, 202582.99671361,\n",
       "       225689.9033735 , 203042.83565212, 203042.83565212, 269133.88993134,\n",
       "       237300.83657076, 207296.34583329, 167531.0707835 , 184696.31864459,\n",
       "       188834.86909114, 189294.70802964, 201951.07196945, 168680.66812976,\n",
       "       184696.31864459, 260580.53662886, 188834.86909114, 202582.99671361,\n",
       "       224770.22549649, 213159.29229923, 219482.07770368, 208330.98344493,\n",
       "       223735.58788485, 189247.66749696, 177061.93562657, 218907.27903055,\n",
       "       255453.68151081, 218217.52062279, 199077.07860379, 190789.18457978,\n",
       "       179868.00979028, 201020.60096153, 239876.99126522, 190789.18457978,\n",
       "       208607.94344686, 234473.88373778, 204595.14586585, 209412.66158925,\n",
       "       282731.69119453, 251153.83838951, 292298.63025482, 244475.38065027,\n",
       "       274134.99218386, 432754.14488187, 315991.12871875, 238497.4744497 ,\n",
       "       247934.96581997, 301161.32295195, 418154.25858433, 274490.66451865,\n",
       "       278169.37602669, 339087.24224773, 243095.86383476, 238831.56052267,\n",
       "       289439.12484455, 207077.21949495, 202018.99117139, 189143.50089324,\n",
       "       192696.45953575, 348822.74547375, 187419.10487385, 240221.8704691 ,\n",
       "       195847.41290334, 214585.84964743, 198491.48679975, 190857.10378173,\n",
       "       161783.08405218, 195340.53343216, 120584.86094032, 177187.68849211,\n",
       "       119320.30385943, 120469.90120569, 122424.21669434, 211137.05760864,\n",
       "       199526.12441138, 228495.97753721, 201595.39963466, 216310.24566682,\n",
       "       206491.62769091, 185683.91572355, 169061.79473541, 139161.2974171 ,\n",
       "        99166.10289805, 101810.17679446, 126292.90544538, 176853.60241914,\n",
       "       156980.05628418, 127561.15735075, 101350.33785595,  92728.35775898,\n",
       "       124101.57218105, 107019.61225441,  95717.31085926,  93073.23696286,\n",
       "       130320.19098178,  96407.06926702, 320427.51783649, 265638.76495242,\n",
       "       342191.15508264, 247945.75895088, 251613.67732801, 232472.52771645,\n",
       "       179767.53801105, 191723.35041219, 184800.48524831, 187444.55914471,\n",
       "       187444.55914471, 184800.48524831, 222047.43926723, 184236.47970608,\n",
       "       176189.29828224, 171005.31709315, 212056.73548565, 196500.92390933,\n",
       "       190584.54619683, 128172.20342565, 189272.94858326, 166395.96139263,\n",
       "       188238.31097163, 188238.31097163, 261644.15015129, 182924.88209251,\n",
       "       235446.99286135, 264097.2478696 , 180097.92925954, 292884.22205886,\n",
       "       166615.79532352, 169600.34600677, 123113.9751021 , 128904.59994906,\n",
       "       109052.64007592, 163245.71561759, 129964.51864699, 110238.48482395,\n",
       "        91463.80067809, 109052.64007592, 119399.01619228, 186320.24288475,\n",
       "       216895.83747087, 108937.68034129,  87555.16970079, 183521.26702746,\n",
       "       196156.04470545, 132044.58700118, 160360.92912102, 125309.00319091,\n",
       "       143644.72706753, 110353.44455858, 131699.7077973 , 111570.96110678,\n",
       "       133643.23015504, 137666.82086696, 130701.31758743, 117663.82704198,\n",
       "       133172.59808562, 132159.5467358 , 152967.25870317, 204458.42668484,\n",
       "       128020.99628926, 232264.19450902, 169636.42022398, 187951.26543134,\n",
       "       125366.12926194, 168806.4209953 , 131469.78832805, 159739.08991521,\n",
       "       235749.23394958, 147438.39831019, 344464.8955043 , 133643.23015504,\n",
       "       125032.04318897, 119743.89539616, 146105.92202736, 148290.15698526,\n",
       "       142887.04945782, 145724.79542171, 143299.84786365, 117444.70070364,\n",
       "       159854.04964984, 126170.84740433, 108937.68034129, 175833.45276289,\n",
       "       133643.23015504, 199896.28470156, 119858.85513079, 133298.35095116,\n",
       "       110698.32376245, 119388.22306137, 223703.74290012, 176868.09037453,\n",
       "       261740.92710604, 140128.01582679, 196375.17104379,  99730.10844027,\n",
       "       113525.27659543, 141115.61290575,  99960.02790953, 130068.68525071,\n",
       "       147668.31777945, 199604.83674424, 162096.11827133, 127791.07682   ,\n",
       "       293756.85940319, 184775.03097744, 168450.74866051, 113076.23078784,\n",
       "       119973.81486541, 188641.02383909, 128057.24369103, 122607.09563091,\n",
       "       125491.88212748, 117089.02836885, 111570.96110678, 220067.66950772,\n",
       "       214998.64805325, 325679.59141209, 201699.39305381, 164154.60036369,\n",
       "        96798.98900358, 137321.94166308, 137321.94166308, 107788.08299503,\n",
       "       165336.04269469, 165336.04269469, 165336.04269469, 165587.54842576,\n",
       "       120433.65380392, 120433.65380392, 144266.56627334, 103074.73387535,\n",
       "       108362.88166816,  87555.16970079, 106063.68697563, 188705.24821656,\n",
       "       140896.4865674 , 179982.79634035, 149184.38059141, 151012.94321452,\n",
       "       177949.76851885, 122858.60136198, 133183.39121653, 111226.08190291,\n",
       "       210996.64360315, 136402.26378607, 114789.83367632, 189409.49457971,\n",
       "       117089.02836885, 146288.80096393, 175948.41249752,  98591.30422492,\n",
       "       110260.07108577, 103857.86575591, 125183.25032537, 121928.13035406,\n",
       "       114329.99473782, 208352.56970675, 190648.7705743 , 222083.51348444,\n",
       "       199051.62433293, 153771.97684555, 182511.91050213, 145494.87595246,\n",
       "       162326.03774058,  96647.78186718, 402555.80889236, 189247.66749696,\n",
       "        98591.30422492, 135022.74697055, 108352.08853725, 169521.46048936,\n",
       "       227795.25281399, 207537.05843345, 116754.94229588, 123422.6069042 ,\n",
       "       142735.84232142, 121813.17061944, 104914.08962937, 122607.09563091,\n",
       "       169406.50075473, 140436.6476289 , 144564.40494454,  88579.01418152,\n",
       "       138241.61954009, 111570.96110678, 242966.24296018,  98591.30422492,\n",
       "       205722.98376573,  97430.91374775, 180636.4805309 , 141126.40603666,\n",
       "       111915.84031066, 174428.65486108, 175179.94175691, 112041.5931762 ,\n",
       "       104443.45755995, 101350.33785595, 151702.70162228, 207547.85156436,\n",
       "       176763.92377081, 143655.52019844, 136402.26378607, 118813.42438824,\n",
       "       169129.71393736, 148175.19725063, 194765.73475902, 111006.95556456,\n",
       "       110547.11662606, 139976.80869039, 125136.20979269, 109972.31795293,\n",
       "       122539.17642896, 150244.47247391, 156912.13708223, 215160.64832056,\n",
       "       107788.08299503, 153768.28202107, 151699.00679779, 207432.89182974,\n",
       "       223516.46154651, 193814.21189728, 118008.70624586, 159178.77919747,\n",
       "       154497.98265508, 228140.13201787, 162257.41094608, 279156.97310565,\n",
       "       110881.20269903,  91003.96173958, 242280.35256146, 185871.19707715,\n",
       "       144496.48574259, 120433.65380392, 275097.30817651, 239736.57725973,\n",
       "       217664.30821148, 408393.474272  , 195581.24603232, 159290.04410761,\n",
       "       109742.39848367, 199960.50907903, 115203.3396747 , 149737.59300272,\n",
       "       117444.70070364, 126077.47393152, 165461.79556022, 281963.04726936,\n",
       "       237002.99789956, 211319.93654521, 232979.40718764, 184649.27811191,\n",
       "       186028.79492742, 194535.81528977, 201789.07170214, 217987.60115354,\n",
       "       242865.9443655 , 228459.73013544, 215584.2398573 , 229634.78175257,\n",
       "       225277.10496768, 201789.07170214, 200790.68149227, 237462.83683807,\n",
       "       168576.50152604, 160877.89413056, 222011.19186546, 175808.17167659,\n",
       "       122837.01510016, 115756.55208601, 189639.58723352, 180061.68185777,\n",
       "       102040.09626371, 191557.6553204 , 187993.90354698, 198800.11860185,\n",
       "       218379.5208901 , 221828.31292889, 231255.01116825, 221483.43372501,\n",
       "       193397.01107442,  97901.54581716, 148864.95565839, 163622.4398062 ,\n",
       "       100926.74631922,  87555.16970079,  91003.96173958,  87555.16970079,\n",
       "       169061.79473541, 245969.85720041, 219873.99744024, 219069.27929786,\n",
       "       204483.88095571, 221677.10579249, 207239.21976226, 206387.46108719,\n",
       "       271835.79749133, 223333.58260994, 240221.8704691 , 217125.75694012,\n",
       "       258385.50854006, 227310.13278918, 144783.53128288, 144783.53128288,\n",
       "       237922.67577657, 176038.09114584, 211722.64941268, 211675.60888   ,\n",
       "       217000.00407458, 202515.07751167, 194661.56815531, 215045.68858594,\n",
       "       169830.26547602, 189754.54696815, 184696.31864459, 166841.31237574,\n",
       "       181326.23893865, 157831.81495924, 158014.69389581, 103049.45278905,\n",
       "        99370.741281  , 152956.46557226, 215505.52752444, 122837.01510016,\n",
       "       283331.77095396, 141000.65317112, 169014.75420273, 141000.65317112,\n",
       "       212710.24649164, 212710.24649164, 212710.24649164, 212710.24649164,\n",
       "       212595.28675701,  95832.27059389, 170060.18494528, 151634.78242033,\n",
       "        65274.56744511,  99061.93629434, 117089.02836885, 186614.38673147,\n",
       "       133000.51227996, 150783.02374527, 185522.44986423, 104547.62416367,\n",
       "       134573.70116296, 178818.71103869, 201124.59438068, 194546.60842068,\n",
       "       142276.00338292, 158255.40649598, 164855.15190236, 161819.15826939,\n",
       "       161678.91744846, 147841.11117766, 166924.42712563, 184660.07124282,\n",
       "       106764.2385143 , 185615.82333704, 167488.43266785, 162623.87641178,\n",
       "       216220.5670185 , 153416.30451076, 225773.01812339, 178807.91790779,\n",
       "       257361.66405933, 174271.05701081, 196343.32605906, 225955.89705997,\n",
       "       205582.74294481, 252841.98700713, 171350.02311247, 228229.81066619,\n",
       "       129964.51864699, 135953.21797847,  95016.7593206 ,  91453.00754718,\n",
       "       127090.52528134, 175014.24666512, 142887.04945782, 101569.4641943 ,\n",
       "        74464.24790879, 147193.99088555, 125366.12926194, 250176.32684891,\n",
       "       235001.64187823, 203053.62878303, 178003.1997654 , 187649.0243431 ,\n",
       "       133183.39121653, 155345.33891311, 210396.56384372, 277364.65788431,\n",
       "       194650.7750244 , 207447.37978513, 243085.07070385, 176487.13695344,\n",
       "       199709.00334796, 276789.85921117, 207066.42636404, 223171.58234263,\n",
       "       241565.13988284, 278916.26050548, 227540.05225843, 173236.41939917,\n",
       "       203042.83565212, 185568.95598892, 199479.0838787 , 119284.05645766,\n",
       "       139208.33794978, 156275.80992103, 248060.71868551,  88704.76704706,\n",
       "       176623.68294989, 119722.30913434, 114836.874209  , 144575.19807545,\n",
       "       119722.30913434, 114836.874209  , 114836.874209  , 114836.874209  ,\n",
       "       114836.874209  , 185360.62278149, 185360.62278149, 145688.7212045 ,\n",
       "        99406.81549821, 103534.57281385, 121457.49828465,  99740.90157118,\n",
       "       177442.88904766, 247234.4142813 ])"
      ]
     },
     "execution_count": 558,
     "metadata": {},
     "output_type": "execute_result"
    }
   ],
   "source": [
    "house_model.predict(\n",
    "    X=ames_test[[\"Bedroom AbvGr\", \"Full Bath\", \"Half Bath\", \"Gr Liv Area\"]]\n",
    ")"
   ]
  },
  {
   "cell_type": "code",
   "execution_count": 559,
   "metadata": {},
   "outputs": [],
   "source": [
    "m=house_model.coef_"
   ]
  },
  {
   "cell_type": "markdown",
   "metadata": {},
   "source": [
    "We can see that the coefficients indicates that there is a:\n",
    "\n",
    "Strong Negative correlation between the price of a house and the 'Number of Bedrooms'\n",
    "Positive correlation between the price of a house and the 'Number of full baths in the house'\n",
    "Positive correlation between the price of a house and the 'Number of half baths'\n",
    "Weak positive correlation between the price of a house and the 'Square footage of a house'\n"
   ]
  },
  {
   "cell_type": "code",
   "execution_count": 560,
   "metadata": {},
   "outputs": [],
   "source": [
    "b=house_model.intercept_"
   ]
  },
  {
   "cell_type": "code",
   "execution_count": 561,
   "metadata": {},
   "outputs": [
    {
     "data": {
      "text/plain": [
       "array([189754.54696815])"
      ]
     },
     "execution_count": 561,
     "metadata": {},
     "output_type": "execute_result"
    }
   ],
   "source": [
    "house_model.predict(home1)"
   ]
  },
  {
   "cell_type": "code",
   "execution_count": 562,
   "metadata": {},
   "outputs": [
    {
     "data": {
      "text/html": [
       "<div>\n",
       "<style scoped>\n",
       "    .dataframe tbody tr th:only-of-type {\n",
       "        vertical-align: middle;\n",
       "    }\n",
       "\n",
       "    .dataframe tbody tr th {\n",
       "        vertical-align: top;\n",
       "    }\n",
       "\n",
       "    .dataframe thead th {\n",
       "        text-align: right;\n",
       "    }\n",
       "</style>\n",
       "<table border=\"1\" class=\"dataframe\">\n",
       "  <thead>\n",
       "    <tr style=\"text-align: right;\">\n",
       "      <th></th>\n",
       "      <th>Bedroom AbvGr</th>\n",
       "      <th>Full Bath</th>\n",
       "      <th>Half Bath</th>\n",
       "      <th>SalePrice</th>\n",
       "    </tr>\n",
       "    <tr>\n",
       "      <th>Order</th>\n",
       "      <th></th>\n",
       "      <th></th>\n",
       "      <th></th>\n",
       "      <th></th>\n",
       "    </tr>\n",
       "  </thead>\n",
       "  <tbody>\n",
       "    <tr>\n",
       "      <th>882</th>\n",
       "      <td>3</td>\n",
       "      <td>2</td>\n",
       "      <td>0</td>\n",
       "      <td>190000</td>\n",
       "    </tr>\n",
       "    <tr>\n",
       "      <th>2110</th>\n",
       "      <td>3</td>\n",
       "      <td>2</td>\n",
       "      <td>0</td>\n",
       "      <td>212999</td>\n",
       "    </tr>\n",
       "    <tr>\n",
       "      <th>2430</th>\n",
       "      <td>2</td>\n",
       "      <td>2</td>\n",
       "      <td>0</td>\n",
       "      <td>246578</td>\n",
       "    </tr>\n",
       "    <tr>\n",
       "      <th>2814</th>\n",
       "      <td>3</td>\n",
       "      <td>2</td>\n",
       "      <td>1</td>\n",
       "      <td>173900</td>\n",
       "    </tr>\n",
       "  </tbody>\n",
       "</table>\n",
       "</div>"
      ],
      "text/plain": [
       "       Bedroom AbvGr  Full Bath  Half Bath  SalePrice\n",
       "Order                                                \n",
       "882                3          2          0     190000\n",
       "2110               3          2          0     212999\n",
       "2430               2          2          0     246578\n",
       "2814               3          2          1     173900"
      ]
     },
     "execution_count": 562,
     "metadata": {},
     "output_type": "execute_result"
    }
   ],
   "source": [
    "#testing prediction\n",
    "df2 = ames_df.loc[(ames_df[\"Gr Liv Area\"] == 1500), [\"Bedroom AbvGr\", \"Full Bath\", \"Half Bath\", \"SalePrice\"]]\n",
    "df2"
   ]
  },
  {
   "cell_type": "markdown",
   "metadata": {
    "colab_type": "text",
    "id": "Vjy1aIPXgc42"
   },
   "source": [
    "_Exercises 4-5 ask you to fit linear regression models to the tips data (tips.csv ), which contains information about tips collected by a waiter._"
   ]
  },
  {
   "cell_type": "markdown",
   "metadata": {
    "colab_type": "text",
    "id": "GBoWHzLbgc45"
   },
   "source": [
    "    4\\. Suppose you want to predict how much a male diner will tip on a Sunday bill of \\$40.00. Fit a linear regression model to the tips data to answer this question. (Hint: You will need to convert categorical variables to quantitative variables. asZaqAZ)"
   ]
  },
  {
   "cell_type": "code",
   "execution_count": 563,
   "metadata": {},
   "outputs": [],
   "source": [
    "tips_df = pd.read_csv(\"tips.csv\")\n",
    "\n",
    "tips_df['day'] = tips_df['day'].replace(\"Sun\" , '7').replace(\"Sat\" , '1').replace(\"Fri\" , '5').replace(\"Thu\" , '4').replace(\"Wed\" , '3').replace(\"Tue\" , '2').replace(\"Mon\" , '1').astype(float)\n",
    "\n",
    "tips_df['sex'] = tips_df['sex'].replace(\"M\" , '1').replace(\"F\" , '2').astype(float)\n",
    "\n",
    "tips_train = tips_df.loc[:200].copy()\n",
    "tips_test = tips_df.loc[201:].copy()\n",
    "\n",
    "# Log transform the target.\n",
    "#tips_train[\"tip\"] = np.log(tips_train[\"tip\"])"
   ]
  },
  {
   "cell_type": "code",
   "execution_count": 564,
   "metadata": {},
   "outputs": [
    {
     "data": {
      "text/plain": [
       "array([2.28383736, 2.31097671, 2.66587593, 3.12329479, 2.67318268,\n",
       "       3.74059111, 5.00779007, 3.49842458, 2.27066565, 4.10279707,\n",
       "       3.66752362, 6.00985845, 2.32390053, 3.87919416, 2.28527915,\n",
       "       3.90342722, 2.17485927, 1.7729881 , 4.08482694, 2.25470288,\n",
       "       2.35990365, 1.88101488, 2.62712189, 2.38622435, 2.6573927 ,\n",
       "       2.01231119, 3.09968487, 2.35126505, 3.24768232, 3.47128523,\n",
       "       2.60282597, 2.17694691, 2.08926593, 2.58612483, 2.01619844,\n",
       "       2.28028521, 4.39193555, 4.67876122, 3.99528348, 3.77585586,\n",
       "       3.33141319, 2.82515989, 2.91430538])"
      ]
     },
     "execution_count": 564,
     "metadata": {},
     "output_type": "execute_result"
    }
   ],
   "source": [
    "X_train = tips_train[[\"totbill\", \"day\", \"sex\"]]\n",
    "y_train = tips_train[\"tip\"]\n",
    "\n",
    "z = pd.DataFrame({\n",
    "    'totbill' : [40],\n",
    "    'day' : [7],\n",
    "    'sex' : [1],\n",
    "})\n",
    "\n",
    "# Fit k-nearest neighbors\n",
    "model = LinearRegression()\n",
    "model.fit(\n",
    "    X=tips_train[[\"totbill\", \"day\", \"sex\"]],\n",
    "    y=tips_train[\"tip\"]\n",
    ")\n",
    "\n",
    "# Make predictions at those feature values.\n",
    "model.predict(\n",
    "    X = tips_test[[\"totbill\", \"day\", \"sex\"]]\n",
    ")"
   ]
  },
  {
   "cell_type": "code",
   "execution_count": 565,
   "metadata": {},
   "outputs": [
    {
     "data": {
      "text/plain": [
       "array([5.17087407])"
      ]
     },
     "execution_count": 565,
     "metadata": {},
     "output_type": "execute_result"
    }
   ],
   "source": [
    "model.predict(z)"
   ]
  },
  {
   "cell_type": "markdown",
   "metadata": {
    "colab_type": "text",
    "id": "-1JP6TiPgc46"
   },
   "source": [
    "5\\. Fit a linear regression model, with no intercept, that predicts the tip from the total bill. That is, we want our predictions to be of the form \n",
    "$$ \\widehat{\\text{tip}} = c \\cdot (\\text{total bill}). $$\n",
    "where $c$ is some coefficient to be learned from the training data. \n",
    "\n",
    "(_Hint:_ `LinearRegression()` has a parameter, `fit_intercept=`, which is `True` by default.)\n",
    "    \n",
    "Plot the data and the fitted model. In practical terms, what assumption is being made when we fit a model with no intercept? "
   ]
  },
  {
   "cell_type": "code",
   "execution_count": 566,
   "metadata": {
    "colab": {},
    "colab_type": "code",
    "collapsed": true,
    "id": "KuepEZ5d1vDh",
    "jupyter": {
     "outputs_hidden": true
    },
    "tags": []
   },
   "outputs": [
    {
     "data": {
      "text/plain": [
       "array([1.85202785, 1.88982433, 2.38408608, 2.98446874, 2.39426206,\n",
       "       3.86541762, 5.6302228 , 3.52815666, 1.85493527, 4.36985534,\n",
       "       3.76365785, 7.02578539, 1.92907453, 4.09510396, 1.87528722,\n",
       "       4.09219654, 1.68485108, 1.12517233, 4.38148503, 1.76771261,\n",
       "       1.9508802 , 1.24728406, 2.32303022, 1.9508802 , 2.36518784,\n",
       "       1.46679443, 2.97283905, 1.93052824, 3.21560879, 3.49036017,\n",
       "       2.2808726 , 1.6877585 , 1.56564678, 2.25761322, 1.463887  ,\n",
       "       1.83167589, 4.7725333 , 5.20864661, 4.22012311, 3.95118657,\n",
       "       3.2955629 , 2.59051305, 2.73006931])"
      ]
     },
     "execution_count": 566,
     "metadata": {},
     "output_type": "execute_result"
    }
   ],
   "source": [
    "y = pd.DataFrame({\n",
    "    'totbill' : [40]\n",
    "})\n",
    "\n",
    "\n",
    "model2 = LinearRegression(fit_intercept=False)\n",
    "model2.fit(\n",
    "    X=tips_train[[\"totbill\"]],\n",
    "    y=tips_train[\"tip\"]\n",
    ")\n",
    "\n",
    "model2.predict(\n",
    "    X = tips_test[[\"totbill\"]]\n",
    ")"
   ]
  },
  {
   "cell_type": "markdown",
   "metadata": {},
   "source": [
    "*When we fit a model with no intercept then we are saying that when the predictor values are zero our target must also be zero.*\n",
    "\n",
    "*So, in this case we are saying that the tip must be zero when the total bill is zero which makes sense.*"
   ]
  },
  {
   "cell_type": "code",
   "execution_count": 567,
   "metadata": {},
   "outputs": [
    {
     "data": {
      "text/plain": [
       "array([5.8148441])"
      ]
     },
     "execution_count": 567,
     "metadata": {},
     "output_type": "execute_result"
    }
   ],
   "source": [
    "model2.predict(y)"
   ]
  },
  {
   "cell_type": "code",
   "execution_count": null,
   "metadata": {},
   "outputs": [],
   "source": [
    "\n"
   ]
  },
  {
   "cell_type": "code",
   "execution_count": 568,
   "metadata": {},
   "outputs": [
    {
     "data": {
      "text/plain": [
       "<AxesSubplot:xlabel='totbill', ylabel='tip'>"
      ]
     },
     "execution_count": 568,
     "metadata": {},
     "output_type": "execute_result"
    },
    {
     "data": {
      "image/png": "[encoded data removed]",
      "text/plain": [
       "<Figure size 432x288 with 1 Axes>"
      ]
     },
     "metadata": {
      "needs_background": "light"
     },
     "output_type": "display_data"
    }
   ],
   "source": [
    "X_new = pd.DataFrame()\n",
    "X_new[\"totbill\"] = np.linspace(0,50, num=200)\n",
    "X_new.set_index(\"totbill\")\n",
    "\n",
    "y_new = pd.Series(\n",
    "    model2.predict(X_new),\n",
    "    index = X_new[\"totbill\"]\n",
    ")\n",
    "\n",
    "tips_train.plot.scatter(x=\"totbill\", y=\"tip\")\n",
    "y_new.plot.line(color = 'red')\n"
   ]
  },
  {
   "cell_type": "code",
   "execution_count": null,
   "metadata": {},
   "outputs": [],
   "source": []
  }
 ],
 "metadata": {
  "colab": {
   "name": "Linear_Regression.ipynb",
   "provenance": []
  },
  "kernelspec": {
   "display_name": "Python 3 (ipykernel)",
   "language": "python",
   "name": "python3"
  },
  "language_info": {
   "codemirror_mode": {
    "name": "ipython",
    "version": 3
   },
   "file_extension": ".py",
   "mimetype": "text/x-python",
   "name": "python",
   "nbconvert_exporter": "python",
   "pygments_lexer": "ipython3",
   "version": "3.9.12"
  }
 },
 "nbformat": 4,
 "nbformat_minor": 4
}
